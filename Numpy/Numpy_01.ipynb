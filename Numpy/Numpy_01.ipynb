{
  "nbformat": 4,
  "nbformat_minor": 0,
  "metadata": {
    "colab": {
      "name": "Numpy-01.ipynb",
      "provenance": [],
      "collapsed_sections": [
        "2v5pxnGgkz63",
        "e1uM546NmwHc",
        "NqUT6P4RqYrm"
      ],
      "include_colab_link": true
    },
    "kernelspec": {
      "name": "python3",
      "display_name": "Python 3"
    },
    "language_info": {
      "name": "python"
    }
  },
  "cells": [
    {
      "cell_type": "markdown",
      "metadata": {
        "id": "view-in-github",
        "colab_type": "text"
      },
      "source": [
        "<a href=\"https://colab.research.google.com/github/Jahid11186/NumpyPandas-101/blob/main/Numpy/Numpy_01.ipynb\" target=\"_parent\"><img src=\"https://colab.research.google.com/assets/colab-badge.svg\" alt=\"Open In Colab\"/></a>"
      ]
    },
    {
      "cell_type": "markdown",
      "metadata": {
        "id": "VB3XBQilZeRy"
      },
      "source": [
        "# **Numpy**"
      ]
    },
    {
      "cell_type": "markdown",
      "metadata": {
        "id": "knxsqlSRZrJz"
      },
      "source": [
        "Numpy - Numerical Python"
      ]
    },
    {
      "cell_type": "code",
      "metadata": {
        "id": "vQJdgCTIYkzi"
      },
      "source": [
        "import numpy as np"
      ],
      "execution_count": null,
      "outputs": []
    },
    {
      "cell_type": "code",
      "metadata": {
        "colab": {
          "base_uri": "https://localhost:8080/"
        },
        "id": "0y2z1fWRYvX6",
        "outputId": "c5f4637e-1044-4047-8740-b171c1c1dc92"
      },
      "source": [
        "# 1-D Array\n",
        "d = np.array([1, 2, 3, 4])\n",
        "d"
      ],
      "execution_count": null,
      "outputs": [
        {
          "output_type": "execute_result",
          "data": {
            "text/plain": [
              "array([1, 2, 3, 4])"
            ]
          },
          "metadata": {},
          "execution_count": 80
        }
      ]
    },
    {
      "cell_type": "code",
      "metadata": {
        "colab": {
          "base_uri": "https://localhost:8080/"
        },
        "id": "yvzWsfsZaAU0",
        "outputId": "1fc6804a-622f-4633-85be-585d68c32e91"
      },
      "source": [
        "type(d)"
      ],
      "execution_count": null,
      "outputs": [
        {
          "output_type": "execute_result",
          "data": {
            "text/plain": [
              "numpy.ndarray"
            ]
          },
          "metadata": {},
          "execution_count": 81
        }
      ]
    },
    {
      "cell_type": "code",
      "metadata": {
        "colab": {
          "base_uri": "https://localhost:8080/"
        },
        "id": "-TZVH55paFBL",
        "outputId": "c9b1e0cd-a9b5-4325-9d14-924dc0b7f282"
      },
      "source": [
        "# Multi Dimentional Array\n",
        "md = np.array([[1, 2, 3], [4, 5, 6], [7, 8, 9], [10, 11, 12]])\n",
        "type(md)"
      ],
      "execution_count": null,
      "outputs": [
        {
          "output_type": "execute_result",
          "data": {
            "text/plain": [
              "numpy.ndarray"
            ]
          },
          "metadata": {},
          "execution_count": 82
        }
      ]
    },
    {
      "cell_type": "code",
      "metadata": {
        "colab": {
          "base_uri": "https://localhost:8080/"
        },
        "id": "52RD3XM6aadK",
        "outputId": "1384dee1-d31a-4512-f0ad-56ca8bb3d7b5"
      },
      "source": [
        "md"
      ],
      "execution_count": null,
      "outputs": [
        {
          "output_type": "execute_result",
          "data": {
            "text/plain": [
              "array([[ 1,  2,  3],\n",
              "       [ 4,  5,  6],\n",
              "       [ 7,  8,  9],\n",
              "       [10, 11, 12]])"
            ]
          },
          "metadata": {},
          "execution_count": 83
        }
      ]
    },
    {
      "cell_type": "code",
      "metadata": {
        "colab": {
          "base_uri": "https://localhost:8080/"
        },
        "id": "uT9jLOULafdm",
        "outputId": "e5be73b7-10f0-49fe-fc2e-39fe8631b6c8"
      },
      "source": [
        "md.shape"
      ],
      "execution_count": null,
      "outputs": [
        {
          "output_type": "execute_result",
          "data": {
            "text/plain": [
              "(4, 3)"
            ]
          },
          "metadata": {},
          "execution_count": 84
        }
      ]
    },
    {
      "cell_type": "code",
      "metadata": {
        "colab": {
          "base_uri": "https://localhost:8080/"
        },
        "id": "XAouuzZCaj5s",
        "outputId": "e4f1bc36-9f2f-4e38-c988-d7ffb1e00006"
      },
      "source": [
        "md.dtype"
      ],
      "execution_count": null,
      "outputs": [
        {
          "output_type": "execute_result",
          "data": {
            "text/plain": [
              "dtype('int64')"
            ]
          },
          "metadata": {},
          "execution_count": 85
        }
      ]
    },
    {
      "cell_type": "code",
      "metadata": {
        "colab": {
          "base_uri": "https://localhost:8080/"
        },
        "id": "I5kZV1VyapJi",
        "outputId": "e2796a8d-59b6-4517-e926-22b99dc7a88e"
      },
      "source": [
        "d.shape"
      ],
      "execution_count": null,
      "outputs": [
        {
          "output_type": "execute_result",
          "data": {
            "text/plain": [
              "(4,)"
            ]
          },
          "metadata": {},
          "execution_count": 86
        }
      ]
    },
    {
      "cell_type": "markdown",
      "metadata": {
        "id": "Ptnser-Bbb6s"
      },
      "source": [
        "### Zero matrix"
      ]
    },
    {
      "cell_type": "code",
      "metadata": {
        "colab": {
          "base_uri": "https://localhost:8080/"
        },
        "id": "zkaXolbLau7h",
        "outputId": "270a223f-a9de-47b3-ce61-d39f0fe8ee1b"
      },
      "source": [
        "z = np.zeros(3)\n",
        "z"
      ],
      "execution_count": null,
      "outputs": [
        {
          "output_type": "execute_result",
          "data": {
            "text/plain": [
              "array([0., 0., 0.])"
            ]
          },
          "metadata": {},
          "execution_count": 87
        }
      ]
    },
    {
      "cell_type": "code",
      "metadata": {
        "colab": {
          "base_uri": "https://localhost:8080/"
        },
        "id": "Vsx-GM6cbCrZ",
        "outputId": "8b8dfdcf-3ac5-4941-9e31-6f577738f6e3"
      },
      "source": [
        "mz = np.zeros([3, 4])\n",
        "mz"
      ],
      "execution_count": null,
      "outputs": [
        {
          "output_type": "execute_result",
          "data": {
            "text/plain": [
              "array([[0., 0., 0., 0.],\n",
              "       [0., 0., 0., 0.],\n",
              "       [0., 0., 0., 0.]])"
            ]
          },
          "metadata": {},
          "execution_count": 88
        }
      ]
    },
    {
      "cell_type": "markdown",
      "metadata": {
        "id": "qRtpmhivbu-P"
      },
      "source": [
        "### Diagonal Matrix"
      ]
    },
    {
      "cell_type": "code",
      "metadata": {
        "colab": {
          "base_uri": "https://localhost:8080/"
        },
        "id": "abXhnJV2bImx",
        "outputId": "74a67767-fa7e-43bd-f82f-c3de6673595b"
      },
      "source": [
        "e = np.eye(3)\n",
        "e"
      ],
      "execution_count": null,
      "outputs": [
        {
          "output_type": "execute_result",
          "data": {
            "text/plain": [
              "array([[1., 0., 0.],\n",
              "       [0., 1., 0.],\n",
              "       [0., 0., 1.]])"
            ]
          },
          "metadata": {},
          "execution_count": 89
        }
      ]
    },
    {
      "cell_type": "code",
      "metadata": {
        "colab": {
          "base_uri": "https://localhost:8080/"
        },
        "id": "0hbbzd8Lb2UG",
        "outputId": "a096ce31-d2ce-443f-b4fd-eaff73b4c293"
      },
      "source": [
        "e2 = e + 2\n",
        "e2"
      ],
      "execution_count": null,
      "outputs": [
        {
          "output_type": "execute_result",
          "data": {
            "text/plain": [
              "array([[3., 2., 2.],\n",
              "       [2., 3., 2.],\n",
              "       [2., 2., 3.]])"
            ]
          },
          "metadata": {},
          "execution_count": 90
        }
      ]
    },
    {
      "cell_type": "code",
      "metadata": {
        "colab": {
          "base_uri": "https://localhost:8080/"
        },
        "id": "yOvscibrcaAJ",
        "outputId": "5e45cfe9-cc46-424d-d935-483d48d273c2"
      },
      "source": [
        "# create an unit matrix like the size of 'md'\n",
        "u = np.ones_like(e2)\n",
        "u"
      ],
      "execution_count": null,
      "outputs": [
        {
          "output_type": "execute_result",
          "data": {
            "text/plain": [
              "array([[1., 1., 1.],\n",
              "       [1., 1., 1.],\n",
              "       [1., 1., 1.]])"
            ]
          },
          "metadata": {},
          "execution_count": 91
        }
      ]
    },
    {
      "cell_type": "code",
      "metadata": {
        "colab": {
          "base_uri": "https://localhost:8080/"
        },
        "id": "_J3oZnEudAfh",
        "outputId": "7eb4d2ea-c6de-4527-c8cd-8184956ceb7c"
      },
      "source": [
        "u.dtype"
      ],
      "execution_count": null,
      "outputs": [
        {
          "output_type": "execute_result",
          "data": {
            "text/plain": [
              "dtype('float64')"
            ]
          },
          "metadata": {},
          "execution_count": 92
        }
      ]
    },
    {
      "cell_type": "code",
      "metadata": {
        "colab": {
          "base_uri": "https://localhost:8080/"
        },
        "id": "X3IJGDPbkWAY",
        "outputId": "29c2df4f-7971-4dfb-bb36-fbad53043591"
      },
      "source": [
        "ui = u.astype(np.int32)\n",
        "ui"
      ],
      "execution_count": null,
      "outputs": [
        {
          "output_type": "execute_result",
          "data": {
            "text/plain": [
              "array([[1, 1, 1],\n",
              "       [1, 1, 1],\n",
              "       [1, 1, 1]], dtype=int32)"
            ]
          },
          "metadata": {},
          "execution_count": 93
        }
      ]
    },
    {
      "cell_type": "code",
      "metadata": {
        "colab": {
          "base_uri": "https://localhost:8080/"
        },
        "id": "rxIEIPQwkguP",
        "outputId": "e53bdf5d-f852-467f-c964-b0e08536dbca"
      },
      "source": [
        "ui.dtype"
      ],
      "execution_count": null,
      "outputs": [
        {
          "output_type": "execute_result",
          "data": {
            "text/plain": [
              "dtype('int32')"
            ]
          },
          "metadata": {},
          "execution_count": 94
        }
      ]
    },
    {
      "cell_type": "code",
      "metadata": {
        "id": "FjjK1M0zklS1"
      },
      "source": [
        ""
      ],
      "execution_count": null,
      "outputs": []
    },
    {
      "cell_type": "markdown",
      "metadata": {
        "id": "2v5pxnGgkz63"
      },
      "source": [
        "### Convert string list to float"
      ]
    },
    {
      "cell_type": "code",
      "metadata": {
        "colab": {
          "base_uri": "https://localhost:8080/"
        },
        "id": "j20JkMNRk8C9",
        "outputId": "4c0ffdb7-9343-43a4-c74e-2a07b1222cb1"
      },
      "source": [
        "a = ['1', '2', '3']\n",
        "a_arr = np.array(a, dtype=np.string_) # convert list to ndarray\n",
        "af = a_arr.astype(float)\n",
        "af"
      ],
      "execution_count": null,
      "outputs": [
        {
          "output_type": "execute_result",
          "data": {
            "text/plain": [
              "array([1., 2., 3.])"
            ]
          },
          "metadata": {},
          "execution_count": 95
        }
      ]
    },
    {
      "cell_type": "code",
      "metadata": {
        "colab": {
          "base_uri": "https://localhost:8080/"
        },
        "id": "Z1yX0GaVlV32",
        "outputId": "a63bc2b3-b269-4505-bb3e-92da1928eb3a"
      },
      "source": [
        "af.dtype"
      ],
      "execution_count": null,
      "outputs": [
        {
          "output_type": "execute_result",
          "data": {
            "text/plain": [
              "dtype('float64')"
            ]
          },
          "metadata": {},
          "execution_count": 96
        }
      ]
    },
    {
      "cell_type": "markdown",
      "metadata": {
        "id": "e1uM546NmwHc"
      },
      "source": [
        "### Boolean Indexing"
      ]
    },
    {
      "cell_type": "code",
      "metadata": {
        "colab": {
          "base_uri": "https://localhost:8080/"
        },
        "id": "k4ytDV67m1Gx",
        "outputId": "aa5f6cc7-ac10-43f0-d2ea-a5321bd47083"
      },
      "source": [
        "data = np.random.randn(5, 3)\n",
        "data"
      ],
      "execution_count": null,
      "outputs": [
        {
          "output_type": "execute_result",
          "data": {
            "text/plain": [
              "array([[-1.83584178, -1.35240228,  0.61936011],\n",
              "       [ 2.43988546,  0.89642254, -1.24807216],\n",
              "       [-2.08065537, -0.00876089, -0.44897702],\n",
              "       [-0.2710115 ,  0.24444758, -0.9506376 ],\n",
              "       [-1.31888425,  0.4929659 , -0.88708124]])"
            ]
          },
          "metadata": {},
          "execution_count": 97
        }
      ]
    },
    {
      "cell_type": "code",
      "metadata": {
        "colab": {
          "base_uri": "https://localhost:8080/"
        },
        "id": "MNWuV3fEnL9_",
        "outputId": "80d96634-f139-4841-96cf-eca3157abc93"
      },
      "source": [
        "name = np.array(['a', 'b', 'c', 'a', 'b'])\n",
        "name == 'a'"
      ],
      "execution_count": null,
      "outputs": [
        {
          "output_type": "execute_result",
          "data": {
            "text/plain": [
              "array([ True, False, False,  True, False])"
            ]
          },
          "metadata": {},
          "execution_count": 98
        }
      ]
    },
    {
      "cell_type": "code",
      "metadata": {
        "colab": {
          "base_uri": "https://localhost:8080/"
        },
        "id": "PUlKmOLTni_-",
        "outputId": "b51fb71c-9ab8-427d-8ec4-f25a53bede4d"
      },
      "source": [
        "name != 'a'"
      ],
      "execution_count": null,
      "outputs": [
        {
          "output_type": "execute_result",
          "data": {
            "text/plain": [
              "array([False,  True,  True, False,  True])"
            ]
          },
          "metadata": {},
          "execution_count": 99
        }
      ]
    },
    {
      "cell_type": "code",
      "metadata": {
        "colab": {
          "base_uri": "https://localhost:8080/"
        },
        "id": "qv3UYHYmoAq9",
        "outputId": "4b6c79a2-99d4-4d8d-cf79-cd16ac4ca78d"
      },
      "source": [
        "data[name=='a']"
      ],
      "execution_count": null,
      "outputs": [
        {
          "output_type": "execute_result",
          "data": {
            "text/plain": [
              "array([[-1.83584178, -1.35240228,  0.61936011],\n",
              "       [-0.2710115 ,  0.24444758, -0.9506376 ]])"
            ]
          },
          "metadata": {},
          "execution_count": 100
        }
      ]
    },
    {
      "cell_type": "code",
      "metadata": {
        "colab": {
          "base_uri": "https://localhost:8080/"
        },
        "id": "DyZWa41OoLVa",
        "outputId": "f31cb197-7b2b-43c1-ff2b-a7a8dd612325"
      },
      "source": [
        "data[name!='a']"
      ],
      "execution_count": null,
      "outputs": [
        {
          "output_type": "execute_result",
          "data": {
            "text/plain": [
              "array([[ 2.43988546,  0.89642254, -1.24807216],\n",
              "       [-2.08065537, -0.00876089, -0.44897702],\n",
              "       [-1.31888425,  0.4929659 , -0.88708124]])"
            ]
          },
          "metadata": {},
          "execution_count": 101
        }
      ]
    },
    {
      "cell_type": "code",
      "metadata": {
        "colab": {
          "base_uri": "https://localhost:8080/"
        },
        "id": "1NDVPhNWotEW",
        "outputId": "2faa5436-1e44-474b-c58a-60b2b4141948"
      },
      "source": [
        "name == 'c'\n",
        "name"
      ],
      "execution_count": null,
      "outputs": [
        {
          "output_type": "execute_result",
          "data": {
            "text/plain": [
              "array(['a', 'b', 'c', 'a', 'b'], dtype='<U1')"
            ]
          },
          "metadata": {},
          "execution_count": 102
        }
      ]
    },
    {
      "cell_type": "code",
      "metadata": {
        "colab": {
          "base_uri": "https://localhost:8080/"
        },
        "id": "fKGkoem9pHe0",
        "outputId": "2483519a-ba72-4da8-dd75-7b275f8a4ce2"
      },
      "source": [
        "data[name=='c']"
      ],
      "execution_count": null,
      "outputs": [
        {
          "output_type": "execute_result",
          "data": {
            "text/plain": [
              "array([[-2.08065537, -0.00876089, -0.44897702]])"
            ]
          },
          "metadata": {},
          "execution_count": 103
        }
      ]
    },
    {
      "cell_type": "code",
      "metadata": {
        "colab": {
          "base_uri": "https://localhost:8080/"
        },
        "id": "jCUalD4WpMoe",
        "outputId": "a23a20e8-693d-4278-e340-7adf04309900"
      },
      "source": [
        "data[name == '1']"
      ],
      "execution_count": null,
      "outputs": [
        {
          "output_type": "execute_result",
          "data": {
            "text/plain": [
              "array([], shape=(0, 3), dtype=float64)"
            ]
          },
          "metadata": {},
          "execution_count": 104
        }
      ]
    },
    {
      "cell_type": "code",
      "metadata": {
        "colab": {
          "base_uri": "https://localhost:8080/"
        },
        "id": "X-Qh5fN8pxCB",
        "outputId": "f95187bf-dcf9-45fe-9f1f-681a3bccba08"
      },
      "source": [
        "data[(data > 1) & (data < 2)]"
      ],
      "execution_count": null,
      "outputs": [
        {
          "output_type": "execute_result",
          "data": {
            "text/plain": [
              "array([], dtype=float64)"
            ]
          },
          "metadata": {},
          "execution_count": 105
        }
      ]
    },
    {
      "cell_type": "markdown",
      "metadata": {
        "id": "NqUT6P4RqYrm"
      },
      "source": [
        "### Reshaping Arrays"
      ]
    },
    {
      "cell_type": "code",
      "metadata": {
        "colab": {
          "base_uri": "https://localhost:8080/"
        },
        "id": "oHpsy0GB8FNa",
        "outputId": "db7a05a2-dd17-4344-81c6-e90de0db7a9a"
      },
      "source": [
        "a = np.arange(0, 20)\n",
        "a"
      ],
      "execution_count": null,
      "outputs": [
        {
          "output_type": "execute_result",
          "data": {
            "text/plain": [
              "array([ 0,  1,  2,  3,  4,  5,  6,  7,  8,  9, 10, 11, 12, 13, 14, 15, 16,\n",
              "       17, 18, 19])"
            ]
          },
          "metadata": {},
          "execution_count": 106
        }
      ]
    },
    {
      "cell_type": "code",
      "metadata": {
        "colab": {
          "base_uri": "https://localhost:8080/"
        },
        "id": "UVoEhp848O3E",
        "outputId": "9bb9d097-b2e3-4ec3-a0d0-f087b8cad2b5"
      },
      "source": [
        "a45 = a.reshape(4, 5)\n",
        "a45"
      ],
      "execution_count": null,
      "outputs": [
        {
          "output_type": "execute_result",
          "data": {
            "text/plain": [
              "array([[ 0,  1,  2,  3,  4],\n",
              "       [ 5,  6,  7,  8,  9],\n",
              "       [10, 11, 12, 13, 14],\n",
              "       [15, 16, 17, 18, 19]])"
            ]
          },
          "metadata": {},
          "execution_count": 107
        }
      ]
    },
    {
      "cell_type": "code",
      "metadata": {
        "colab": {
          "base_uri": "https://localhost:8080/"
        },
        "id": "YUTbIaF38etS",
        "outputId": "839a5b29-d05d-4a2d-e461-0a6bc8b5988f"
      },
      "source": [
        "a102 = a.reshape(10, 2)\n",
        "a102"
      ],
      "execution_count": null,
      "outputs": [
        {
          "output_type": "execute_result",
          "data": {
            "text/plain": [
              "array([[ 0,  1],\n",
              "       [ 2,  3],\n",
              "       [ 4,  5],\n",
              "       [ 6,  7],\n",
              "       [ 8,  9],\n",
              "       [10, 11],\n",
              "       [12, 13],\n",
              "       [14, 15],\n",
              "       [16, 17],\n",
              "       [18, 19]])"
            ]
          },
          "metadata": {},
          "execution_count": 108
        }
      ]
    },
    {
      "cell_type": "code",
      "metadata": {
        "colab": {
          "base_uri": "https://localhost:8080/"
        },
        "id": "R3caEj_d9NGh",
        "outputId": "229e9cb3-b8fc-4893-ec4d-0c496445b809"
      },
      "source": [
        "b = a45[[2, 0, 1]]\n",
        "b"
      ],
      "execution_count": null,
      "outputs": [
        {
          "output_type": "execute_result",
          "data": {
            "text/plain": [
              "array([[10, 11, 12, 13, 14],\n",
              "       [ 0,  1,  2,  3,  4],\n",
              "       [ 5,  6,  7,  8,  9]])"
            ]
          },
          "metadata": {},
          "execution_count": 109
        }
      ]
    },
    {
      "cell_type": "code",
      "metadata": {
        "colab": {
          "base_uri": "https://localhost:8080/"
        },
        "id": "wA1sfj3B_g3n",
        "outputId": "428f3407-bb33-401b-fa55-3da779ab0f5e"
      },
      "source": [
        "# Transpose array b\n",
        "b.T"
      ],
      "execution_count": null,
      "outputs": [
        {
          "output_type": "execute_result",
          "data": {
            "text/plain": [
              "array([[10,  0,  5],\n",
              "       [11,  1,  6],\n",
              "       [12,  2,  7],\n",
              "       [13,  3,  8],\n",
              "       [14,  4,  9]])"
            ]
          },
          "metadata": {},
          "execution_count": 110
        }
      ]
    },
    {
      "cell_type": "markdown",
      "metadata": {
        "id": "fnfFvApn_4N5"
      },
      "source": [
        "### Concatenating the data"
      ]
    },
    {
      "cell_type": "code",
      "metadata": {
        "colab": {
          "base_uri": "https://localhost:8080/"
        },
        "id": "0Tep0Qx8_xgu",
        "outputId": "ca790244-73a9-4d64-d317-62339d1b9e90"
      },
      "source": [
        "arr = np.arange(12).reshape(3,4)\n",
        "arr"
      ],
      "execution_count": null,
      "outputs": [
        {
          "output_type": "execute_result",
          "data": {
            "text/plain": [
              "array([[ 0,  1,  2,  3],\n",
              "       [ 4,  5,  6,  7],\n",
              "       [ 8,  9, 10, 11]])"
            ]
          },
          "metadata": {},
          "execution_count": 111
        }
      ]
    },
    {
      "cell_type": "code",
      "metadata": {
        "colab": {
          "base_uri": "https://localhost:8080/"
        },
        "id": "0L3W4JwWAfoU",
        "outputId": "daadd7a7-6df5-49aa-90fc-e96bb8ca6b3d"
      },
      "source": [
        "rn = np.random.randn(3,4)\n",
        "rn"
      ],
      "execution_count": null,
      "outputs": [
        {
          "output_type": "execute_result",
          "data": {
            "text/plain": [
              "array([[ 0.45243317,  0.1525085 ,  1.6075183 ,  1.20181243],\n",
              "       [ 0.52563117, -1.02840951,  0.68786167, -0.49881484],\n",
              "       [-1.20474781,  1.1291907 ,  0.71946662,  0.90291726]])"
            ]
          },
          "metadata": {},
          "execution_count": 112
        }
      ]
    },
    {
      "cell_type": "code",
      "metadata": {
        "colab": {
          "base_uri": "https://localhost:8080/"
        },
        "id": "jzQqfCMPGEgY",
        "outputId": "ae244edb-3759-4a28-efee-56ba3ab9982f"
      },
      "source": [
        "np.concatenate([arr, rn])"
      ],
      "execution_count": null,
      "outputs": [
        {
          "output_type": "execute_result",
          "data": {
            "text/plain": [
              "array([[ 0.        ,  1.        ,  2.        ,  3.        ],\n",
              "       [ 4.        ,  5.        ,  6.        ,  7.        ],\n",
              "       [ 8.        ,  9.        , 10.        , 11.        ],\n",
              "       [ 0.45243317,  0.1525085 ,  1.6075183 ,  1.20181243],\n",
              "       [ 0.52563117, -1.02840951,  0.68786167, -0.49881484],\n",
              "       [-1.20474781,  1.1291907 ,  0.71946662,  0.90291726]])"
            ]
          },
          "metadata": {},
          "execution_count": 113
        }
      ]
    },
    {
      "cell_type": "code",
      "metadata": {
        "colab": {
          "base_uri": "https://localhost:8080/"
        },
        "id": "TU66C88mGSuK",
        "outputId": "ece916da-33f8-4317-9d4a-46f04247c748"
      },
      "source": [
        "np.concatenate([rn, arr], axis=1)"
      ],
      "execution_count": null,
      "outputs": [
        {
          "output_type": "execute_result",
          "data": {
            "text/plain": [
              "array([[ 0.45243317,  0.1525085 ,  1.6075183 ,  1.20181243,  0.        ,\n",
              "         1.        ,  2.        ,  3.        ],\n",
              "       [ 0.52563117, -1.02840951,  0.68786167, -0.49881484,  4.        ,\n",
              "         5.        ,  6.        ,  7.        ],\n",
              "       [-1.20474781,  1.1291907 ,  0.71946662,  0.90291726,  8.        ,\n",
              "         9.        , 10.        , 11.        ]])"
            ]
          },
          "metadata": {},
          "execution_count": 114
        }
      ]
    },
    {
      "cell_type": "code",
      "metadata": {
        "id": "yntSR-RAGZdx"
      },
      "source": [
        ""
      ],
      "execution_count": null,
      "outputs": []
    }
  ]
}