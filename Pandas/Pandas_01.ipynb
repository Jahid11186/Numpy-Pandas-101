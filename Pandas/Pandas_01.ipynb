{
  "nbformat": 4,
  "nbformat_minor": 0,
  "metadata": {
    "colab": {
      "name": "Pandas-01.ipynb",
      "provenance": [],
      "collapsed_sections": [],
      "include_colab_link": true
    },
    "kernelspec": {
      "name": "python3",
      "display_name": "Python 3"
    },
    "language_info": {
      "name": "python"
    }
  },
  "cells": [
    {
      "cell_type": "markdown",
      "metadata": {
        "id": "view-in-github",
        "colab_type": "text"
      },
      "source": [
        "<a href=\"https://colab.research.google.com/github/Jahid11186/NumpyPandas-101/blob/main/Pandas/Pandas_01.ipynb\" target=\"_parent\"><img src=\"https://colab.research.google.com/assets/colab-badge.svg\" alt=\"Open In Colab\"/></a>"
      ]
    },
    {
      "cell_type": "markdown",
      "metadata": {
        "id": "xnpH2xh_XLKn"
      },
      "source": [
        "# Pandas Basics\n",
        "* Data is not always available in desired format. so that Data Processing is an important part of analyzing the data.\n",
        "* various processing are required before analyzing the data, such as\n",
        "    * Cleaning\n",
        "    * Restructuring\n",
        "    * Merging etc\n",
        "\n"
      ]
    },
    {
      "cell_type": "markdown",
      "metadata": {
        "id": "ZH58XDMsYtVi"
      },
      "source": [
        "## Data Structures\n",
        "\n",
        "* Series\n",
        "* DataFrame"
      ]
    },
    {
      "cell_type": "markdown",
      "metadata": {
        "id": "yZl5Y0yIZgBz"
      },
      "source": [
        "### Series\n",
        "\n",
        "\n",
        "> The Series is a one-dimensional array that can store various data types, including mix data types. \n",
        "\n",
        "> The row labels in a series are called the index\n",
        "\n",
        "> Any list, tuples and dictionary can be converted in to series using **Series** method\n",
        "\n",
        "\n",
        "\n"
      ]
    },
    {
      "cell_type": "code",
      "metadata": {
        "id": "Od4t1rFnToGW"
      },
      "source": [
        "import pandas as pd"
      ],
      "execution_count": null,
      "outputs": []
    },
    {
      "cell_type": "code",
      "metadata": {
        "colab": {
          "base_uri": "https://localhost:8080/"
        },
        "id": "xjilN89ba4_R",
        "outputId": "e11e354c-75b4-4227-9b99-daf53c03c9d7"
      },
      "source": [
        "h = ('AA', '2020-02-01', 100, 10.2)\n",
        "s = pd.Series(h)\n",
        "type(s)"
      ],
      "execution_count": null,
      "outputs": [
        {
          "output_type": "execute_result",
          "data": {
            "text/plain": [
              "pandas.core.series.Series"
            ]
          },
          "metadata": {
            "tags": []
          },
          "execution_count": 3
        }
      ]
    },
    {
      "cell_type": "code",
      "metadata": {
        "colab": {
          "base_uri": "https://localhost:8080/"
        },
        "id": "yOqPlXhebLrl",
        "outputId": "da795dad-4309-424c-dcd4-4013cff3a93b"
      },
      "source": [
        "h"
      ],
      "execution_count": null,
      "outputs": [
        {
          "output_type": "execute_result",
          "data": {
            "text/plain": [
              "('AA', '2020-02-01', 100, 10.2)"
            ]
          },
          "metadata": {
            "tags": []
          },
          "execution_count": 4
        }
      ]
    },
    {
      "cell_type": "code",
      "metadata": {
        "colab": {
          "base_uri": "https://localhost:8080/"
        },
        "id": "GzMDdtqrbKWp",
        "outputId": "49acbd28-cdd9-41b8-97b0-fae4adfd8658"
      },
      "source": [
        "s"
      ],
      "execution_count": null,
      "outputs": [
        {
          "output_type": "execute_result",
          "data": {
            "text/plain": [
              "0            AA\n",
              "1    2020-02-01\n",
              "2           100\n",
              "3          10.2\n",
              "dtype: object"
            ]
          },
          "metadata": {
            "tags": []
          },
          "execution_count": 5
        }
      ]
    },
    {
      "cell_type": "code",
      "metadata": {
        "id": "vP8L1LfybNTL"
      },
      "source": [
        "dic = {\n",
        "    'name': \"Jahid\",\n",
        "    'ID' : '181-15-11186',\n",
        "    \"Dept\": \"CSE\"\n",
        "}"
      ],
      "execution_count": null,
      "outputs": []
    },
    {
      "cell_type": "code",
      "metadata": {
        "colab": {
          "base_uri": "https://localhost:8080/"
        },
        "id": "UVCrEGnKbs2G",
        "outputId": "52cd55c9-186f-4f21-a5f1-c6b2da7e884a"
      },
      "source": [
        "ds = pd.Series(dic)\n",
        "ds"
      ],
      "execution_count": null,
      "outputs": [
        {
          "output_type": "execute_result",
          "data": {
            "text/plain": [
              "name           Jahid\n",
              "ID      181-15-11186\n",
              "Dept             CSE\n",
              "dtype: object"
            ]
          },
          "metadata": {
            "tags": []
          },
          "execution_count": 7
        }
      ]
    },
    {
      "cell_type": "code",
      "metadata": {
        "colab": {
          "base_uri": "https://localhost:8080/"
        },
        "id": "gqR0Vibvbt03",
        "outputId": "a6cbdb2c-dd04-46a6-d139-954f2dd67be0"
      },
      "source": [
        "type(dic)"
      ],
      "execution_count": null,
      "outputs": [
        {
          "output_type": "execute_result",
          "data": {
            "text/plain": [
              "dict"
            ]
          },
          "metadata": {
            "tags": []
          },
          "execution_count": 8
        }
      ]
    },
    {
      "cell_type": "code",
      "metadata": {
        "colab": {
          "base_uri": "https://localhost:8080/"
        },
        "id": "vWzv53Kub9kp",
        "outputId": "cd3b0486-d0c3-4a3c-89e7-afb1cfc32a1b"
      },
      "source": [
        "type(ds)"
      ],
      "execution_count": null,
      "outputs": [
        {
          "output_type": "execute_result",
          "data": {
            "text/plain": [
              "pandas.core.series.Series"
            ]
          },
          "metadata": {
            "tags": []
          },
          "execution_count": 9
        }
      ]
    },
    {
      "cell_type": "code",
      "metadata": {
        "colab": {
          "base_uri": "https://localhost:8080/"
        },
        "id": "ucTtgdAmcKNr",
        "outputId": "7f3ffcf8-87f4-4c9e-9d0c-dc53e76aedfd"
      },
      "source": [
        "f = [\"FB\", \"2001-08-02\", 90, 3.2]\n",
        "fs = pd.Series(f, index= ['Name', 'Date', 'Shares', 'Price'])\n",
        "fs"
      ],
      "execution_count": null,
      "outputs": [
        {
          "output_type": "execute_result",
          "data": {
            "text/plain": [
              "Name              FB\n",
              "Date      2001-08-02\n",
              "Shares            90\n",
              "Price            3.2\n",
              "dtype: object"
            ]
          },
          "metadata": {
            "tags": []
          },
          "execution_count": 10
        }
      ]
    },
    {
      "cell_type": "code",
      "metadata": {
        "colab": {
          "base_uri": "https://localhost:8080/"
        },
        "id": "ysLFHX1ecv0B",
        "outputId": "399c1a14-fb3f-46c9-81b1-513948c29ba3"
      },
      "source": [
        "fs.Shares"
      ],
      "execution_count": null,
      "outputs": [
        {
          "output_type": "execute_result",
          "data": {
            "text/plain": [
              "90"
            ]
          },
          "metadata": {
            "tags": []
          },
          "execution_count": 11
        }
      ]
    },
    {
      "cell_type": "code",
      "metadata": {
        "colab": {
          "base_uri": "https://localhost:8080/"
        },
        "id": "kL520fG8czWf",
        "outputId": "2bd89d09-3436-4b68-e16d-42e7f76bb5fa"
      },
      "source": [
        "fs['Shares']"
      ],
      "execution_count": null,
      "outputs": [
        {
          "output_type": "execute_result",
          "data": {
            "text/plain": [
              "90"
            ]
          },
          "metadata": {
            "tags": []
          },
          "execution_count": 12
        }
      ]
    },
    {
      "cell_type": "code",
      "metadata": {
        "colab": {
          "base_uri": "https://localhost:8080/",
          "height": 35
        },
        "id": "mYv542_7c1gQ",
        "outputId": "ee94b557-bf5a-4512-b690-13a1fd1d4f9e"
      },
      "source": [
        "fs[0]"
      ],
      "execution_count": null,
      "outputs": [
        {
          "output_type": "execute_result",
          "data": {
            "application/vnd.google.colaboratory.intrinsic+json": {
              "type": "string"
            },
            "text/plain": [
              "'FB'"
            ]
          },
          "metadata": {
            "tags": []
          },
          "execution_count": 13
        }
      ]
    },
    {
      "cell_type": "code",
      "metadata": {
        "colab": {
          "base_uri": "https://localhost:8080/"
        },
        "id": "jX8WxZ-qc4Ko",
        "outputId": "5f958bcf-d1e4-4a39-dbc4-982e596f7328"
      },
      "source": [
        "fs[['Shares', 'Price']]"
      ],
      "execution_count": null,
      "outputs": [
        {
          "output_type": "execute_result",
          "data": {
            "text/plain": [
              "Shares     90\n",
              "Price     3.2\n",
              "dtype: object"
            ]
          },
          "metadata": {
            "tags": []
          },
          "execution_count": 14
        }
      ]
    },
    {
      "cell_type": "markdown",
      "metadata": {
        "id": "muIyOlBYdNjH"
      },
      "source": [
        "### DataFrame\n",
        "\n",
        "> DataFrame is the widely used data structure of pandas\n",
        "\n",
        "> DataFrame can be used with 2 dimensional arrays\n",
        "\n",
        "> DataFrame has 2 different index\n",
        "* Column index\n",
        "* Row index\n",
        "\n",
        "> Text files and spreadsheets are read as DataFrame\n",
        "\n"
      ]
    },
    {
      "cell_type": "code",
      "metadata": {
        "id": "2ehIMMi2c57f"
      },
      "source": [
        "data = {\n",
        "    'Name': [\"IBM\", \"Google\", \"Amazon\", \"Microsoft\"],\n",
        "    'Date': ['2001-12-01', '2012-02-10', '2010-11-03', '2010-02-01'],\n",
        "    'Shares': [1200, 1700, 1500, 3100],\n",
        "    'Price': [12.3, 10.3, 32.3, 37.333]\n",
        "}"
      ],
      "execution_count": null,
      "outputs": []
    },
    {
      "cell_type": "code",
      "metadata": {
        "colab": {
          "base_uri": "https://localhost:8080/"
        },
        "id": "KADExjy_fgXn",
        "outputId": "ed0e84ca-7677-4ff3-a0a9-884ebdf8d905"
      },
      "source": [
        "df = pd.DataFrame(data)\n",
        "type(df)"
      ],
      "execution_count": null,
      "outputs": [
        {
          "output_type": "execute_result",
          "data": {
            "text/plain": [
              "pandas.core.frame.DataFrame"
            ]
          },
          "metadata": {
            "tags": []
          },
          "execution_count": 16
        }
      ]
    },
    {
      "cell_type": "code",
      "metadata": {
        "colab": {
          "base_uri": "https://localhost:8080/",
          "height": 173
        },
        "id": "Pjy60XUpfmjj",
        "outputId": "c4f7d253-f5d1-45b3-ea53-fc0ca9fc0b26"
      },
      "source": [
        "df"
      ],
      "execution_count": null,
      "outputs": [
        {
          "output_type": "execute_result",
          "data": {
            "text/html": [
              "<div>\n",
              "<style scoped>\n",
              "    .dataframe tbody tr th:only-of-type {\n",
              "        vertical-align: middle;\n",
              "    }\n",
              "\n",
              "    .dataframe tbody tr th {\n",
              "        vertical-align: top;\n",
              "    }\n",
              "\n",
              "    .dataframe thead th {\n",
              "        text-align: right;\n",
              "    }\n",
              "</style>\n",
              "<table border=\"1\" class=\"dataframe\">\n",
              "  <thead>\n",
              "    <tr style=\"text-align: right;\">\n",
              "      <th></th>\n",
              "      <th>Name</th>\n",
              "      <th>Date</th>\n",
              "      <th>Shares</th>\n",
              "      <th>Price</th>\n",
              "    </tr>\n",
              "  </thead>\n",
              "  <tbody>\n",
              "    <tr>\n",
              "      <th>0</th>\n",
              "      <td>IBM</td>\n",
              "      <td>2001-12-01</td>\n",
              "      <td>1200</td>\n",
              "      <td>12.300</td>\n",
              "    </tr>\n",
              "    <tr>\n",
              "      <th>1</th>\n",
              "      <td>Google</td>\n",
              "      <td>2012-02-10</td>\n",
              "      <td>1700</td>\n",
              "      <td>10.300</td>\n",
              "    </tr>\n",
              "    <tr>\n",
              "      <th>2</th>\n",
              "      <td>Amazon</td>\n",
              "      <td>2010-11-03</td>\n",
              "      <td>1500</td>\n",
              "      <td>32.300</td>\n",
              "    </tr>\n",
              "    <tr>\n",
              "      <th>3</th>\n",
              "      <td>Microsoft</td>\n",
              "      <td>2010-02-01</td>\n",
              "      <td>3100</td>\n",
              "      <td>37.333</td>\n",
              "    </tr>\n",
              "  </tbody>\n",
              "</table>\n",
              "</div>"
            ],
            "text/plain": [
              "        Name        Date  Shares   Price\n",
              "0        IBM  2001-12-01    1200  12.300\n",
              "1     Google  2012-02-10    1700  10.300\n",
              "2     Amazon  2010-11-03    1500  32.300\n",
              "3  Microsoft  2010-02-01    3100  37.333"
            ]
          },
          "metadata": {
            "tags": []
          },
          "execution_count": 17
        }
      ]
    },
    {
      "cell_type": "code",
      "metadata": {
        "colab": {
          "base_uri": "https://localhost:8080/",
          "height": 173
        },
        "id": "WZ4CeVjtgxhm",
        "outputId": "832dbf31-5927-4682-8cc5-e53bff79bc7f"
      },
      "source": [
        "df['Owner'] = 'Unknown'\n",
        "df"
      ],
      "execution_count": null,
      "outputs": [
        {
          "output_type": "execute_result",
          "data": {
            "text/html": [
              "<div>\n",
              "<style scoped>\n",
              "    .dataframe tbody tr th:only-of-type {\n",
              "        vertical-align: middle;\n",
              "    }\n",
              "\n",
              "    .dataframe tbody tr th {\n",
              "        vertical-align: top;\n",
              "    }\n",
              "\n",
              "    .dataframe thead th {\n",
              "        text-align: right;\n",
              "    }\n",
              "</style>\n",
              "<table border=\"1\" class=\"dataframe\">\n",
              "  <thead>\n",
              "    <tr style=\"text-align: right;\">\n",
              "      <th></th>\n",
              "      <th>Name</th>\n",
              "      <th>Date</th>\n",
              "      <th>Shares</th>\n",
              "      <th>Price</th>\n",
              "      <th>Owner</th>\n",
              "    </tr>\n",
              "  </thead>\n",
              "  <tbody>\n",
              "    <tr>\n",
              "      <th>0</th>\n",
              "      <td>IBM</td>\n",
              "      <td>2001-12-01</td>\n",
              "      <td>1200</td>\n",
              "      <td>12.300</td>\n",
              "      <td>Unknown</td>\n",
              "    </tr>\n",
              "    <tr>\n",
              "      <th>1</th>\n",
              "      <td>Google</td>\n",
              "      <td>2012-02-10</td>\n",
              "      <td>1700</td>\n",
              "      <td>10.300</td>\n",
              "      <td>Unknown</td>\n",
              "    </tr>\n",
              "    <tr>\n",
              "      <th>2</th>\n",
              "      <td>Amazon</td>\n",
              "      <td>2010-11-03</td>\n",
              "      <td>1500</td>\n",
              "      <td>32.300</td>\n",
              "      <td>Unknown</td>\n",
              "    </tr>\n",
              "    <tr>\n",
              "      <th>3</th>\n",
              "      <td>Microsoft</td>\n",
              "      <td>2010-02-01</td>\n",
              "      <td>3100</td>\n",
              "      <td>37.333</td>\n",
              "      <td>Unknown</td>\n",
              "    </tr>\n",
              "  </tbody>\n",
              "</table>\n",
              "</div>"
            ],
            "text/plain": [
              "        Name        Date  Shares   Price    Owner\n",
              "0        IBM  2001-12-01    1200  12.300  Unknown\n",
              "1     Google  2012-02-10    1700  10.300  Unknown\n",
              "2     Amazon  2010-11-03    1500  32.300  Unknown\n",
              "3  Microsoft  2010-02-01    3100  37.333  Unknown"
            ]
          },
          "metadata": {
            "tags": []
          },
          "execution_count": 18
        }
      ]
    },
    {
      "cell_type": "code",
      "metadata": {
        "colab": {
          "base_uri": "https://localhost:8080/",
          "height": 173
        },
        "id": "5GkHcb9mhEvi",
        "outputId": "14859b69-586b-4d7a-81e5-eb33c9f3f978"
      },
      "source": [
        "df.index = ['one', 'two', 'three', 'four']\n",
        "df"
      ],
      "execution_count": null,
      "outputs": [
        {
          "output_type": "execute_result",
          "data": {
            "text/html": [
              "<div>\n",
              "<style scoped>\n",
              "    .dataframe tbody tr th:only-of-type {\n",
              "        vertical-align: middle;\n",
              "    }\n",
              "\n",
              "    .dataframe tbody tr th {\n",
              "        vertical-align: top;\n",
              "    }\n",
              "\n",
              "    .dataframe thead th {\n",
              "        text-align: right;\n",
              "    }\n",
              "</style>\n",
              "<table border=\"1\" class=\"dataframe\">\n",
              "  <thead>\n",
              "    <tr style=\"text-align: right;\">\n",
              "      <th></th>\n",
              "      <th>Name</th>\n",
              "      <th>Date</th>\n",
              "      <th>Shares</th>\n",
              "      <th>Price</th>\n",
              "      <th>Owner</th>\n",
              "    </tr>\n",
              "  </thead>\n",
              "  <tbody>\n",
              "    <tr>\n",
              "      <th>one</th>\n",
              "      <td>IBM</td>\n",
              "      <td>2001-12-01</td>\n",
              "      <td>1200</td>\n",
              "      <td>12.300</td>\n",
              "      <td>Unknown</td>\n",
              "    </tr>\n",
              "    <tr>\n",
              "      <th>two</th>\n",
              "      <td>Google</td>\n",
              "      <td>2012-02-10</td>\n",
              "      <td>1700</td>\n",
              "      <td>10.300</td>\n",
              "      <td>Unknown</td>\n",
              "    </tr>\n",
              "    <tr>\n",
              "      <th>three</th>\n",
              "      <td>Amazon</td>\n",
              "      <td>2010-11-03</td>\n",
              "      <td>1500</td>\n",
              "      <td>32.300</td>\n",
              "      <td>Unknown</td>\n",
              "    </tr>\n",
              "    <tr>\n",
              "      <th>four</th>\n",
              "      <td>Microsoft</td>\n",
              "      <td>2010-02-01</td>\n",
              "      <td>3100</td>\n",
              "      <td>37.333</td>\n",
              "      <td>Unknown</td>\n",
              "    </tr>\n",
              "  </tbody>\n",
              "</table>\n",
              "</div>"
            ],
            "text/plain": [
              "            Name        Date  Shares   Price    Owner\n",
              "one          IBM  2001-12-01    1200  12.300  Unknown\n",
              "two       Google  2012-02-10    1700  10.300  Unknown\n",
              "three     Amazon  2010-11-03    1500  32.300  Unknown\n",
              "four   Microsoft  2010-02-01    3100  37.333  Unknown"
            ]
          },
          "metadata": {
            "tags": []
          },
          "execution_count": 19
        }
      ]
    },
    {
      "cell_type": "code",
      "metadata": {
        "colab": {
          "base_uri": "https://localhost:8080/"
        },
        "id": "_p7GrfwXhXX5",
        "outputId": "1c4e4340-4a7e-41f3-aedf-d5b0dec97c8e"
      },
      "source": [
        "df['Shares']"
      ],
      "execution_count": null,
      "outputs": [
        {
          "output_type": "execute_result",
          "data": {
            "text/plain": [
              "one      1200\n",
              "two      1700\n",
              "three    1500\n",
              "four     3100\n",
              "Name: Shares, dtype: int64"
            ]
          },
          "metadata": {
            "tags": []
          },
          "execution_count": 20
        }
      ]
    },
    {
      "cell_type": "markdown",
      "metadata": {
        "id": "jTEu0ze6hy2p"
      },
      "source": [
        "Data can be accessed in 2 ways\n",
        "\n",
        "* Using row\n",
        "* Using column"
      ]
    },
    {
      "cell_type": "code",
      "metadata": {
        "colab": {
          "base_uri": "https://localhost:8080/"
        },
        "id": "xTy8JLlahd0S",
        "outputId": "bc9c6172-010a-49fb-97fc-c77fb6bf8558"
      },
      "source": [
        "# using Column\n",
        "df.Shares"
      ],
      "execution_count": null,
      "outputs": [
        {
          "output_type": "execute_result",
          "data": {
            "text/plain": [
              "one      1200\n",
              "two      1700\n",
              "three    1500\n",
              "four     3100\n",
              "Name: Shares, dtype: int64"
            ]
          },
          "metadata": {
            "tags": []
          },
          "execution_count": 21
        }
      ]
    },
    {
      "cell_type": "code",
      "metadata": {
        "colab": {
          "base_uri": "https://localhost:8080/"
        },
        "id": "K2UT1huwieZg",
        "outputId": "49c7528c-50b3-4b7e-8314-3f67dc127691"
      },
      "source": [
        "# Using Columns\n",
        "df['Name']"
      ],
      "execution_count": null,
      "outputs": [
        {
          "output_type": "execute_result",
          "data": {
            "text/plain": [
              "one            IBM\n",
              "two         Google\n",
              "three       Amazon\n",
              "four     Microsoft\n",
              "Name: Name, dtype: object"
            ]
          },
          "metadata": {
            "tags": []
          },
          "execution_count": 22
        }
      ]
    },
    {
      "cell_type": "code",
      "metadata": {
        "colab": {
          "base_uri": "https://localhost:8080/"
        },
        "id": "A60xl6I3ig7Q",
        "outputId": "a8dade39-b704-4f2f-c990-78e58b9f6851"
      },
      "source": [
        "# Using Row\n",
        "df.loc[:, 'Name']"
      ],
      "execution_count": null,
      "outputs": [
        {
          "output_type": "execute_result",
          "data": {
            "text/plain": [
              "one            IBM\n",
              "two         Google\n",
              "three       Amazon\n",
              "four     Microsoft\n",
              "Name: Name, dtype: object"
            ]
          },
          "metadata": {
            "tags": []
          },
          "execution_count": 23
        }
      ]
    },
    {
      "cell_type": "code",
      "metadata": {
        "colab": {
          "base_uri": "https://localhost:8080/",
          "height": 142
        },
        "id": "X85XmwD2i-KV",
        "outputId": "02959beb-f394-43af-e570-ae68787c8ad8"
      },
      "source": [
        "df.iloc[:3]"
      ],
      "execution_count": null,
      "outputs": [
        {
          "output_type": "execute_result",
          "data": {
            "text/html": [
              "<div>\n",
              "<style scoped>\n",
              "    .dataframe tbody tr th:only-of-type {\n",
              "        vertical-align: middle;\n",
              "    }\n",
              "\n",
              "    .dataframe tbody tr th {\n",
              "        vertical-align: top;\n",
              "    }\n",
              "\n",
              "    .dataframe thead th {\n",
              "        text-align: right;\n",
              "    }\n",
              "</style>\n",
              "<table border=\"1\" class=\"dataframe\">\n",
              "  <thead>\n",
              "    <tr style=\"text-align: right;\">\n",
              "      <th></th>\n",
              "      <th>Name</th>\n",
              "      <th>Date</th>\n",
              "      <th>Shares</th>\n",
              "      <th>Price</th>\n",
              "      <th>Owner</th>\n",
              "    </tr>\n",
              "  </thead>\n",
              "  <tbody>\n",
              "    <tr>\n",
              "      <th>one</th>\n",
              "      <td>IBM</td>\n",
              "      <td>2001-12-01</td>\n",
              "      <td>1200</td>\n",
              "      <td>12.3</td>\n",
              "      <td>Unknown</td>\n",
              "    </tr>\n",
              "    <tr>\n",
              "      <th>two</th>\n",
              "      <td>Google</td>\n",
              "      <td>2012-02-10</td>\n",
              "      <td>1700</td>\n",
              "      <td>10.3</td>\n",
              "      <td>Unknown</td>\n",
              "    </tr>\n",
              "    <tr>\n",
              "      <th>three</th>\n",
              "      <td>Amazon</td>\n",
              "      <td>2010-11-03</td>\n",
              "      <td>1500</td>\n",
              "      <td>32.3</td>\n",
              "      <td>Unknown</td>\n",
              "    </tr>\n",
              "  </tbody>\n",
              "</table>\n",
              "</div>"
            ],
            "text/plain": [
              "         Name        Date  Shares  Price    Owner\n",
              "one       IBM  2001-12-01    1200   12.3  Unknown\n",
              "two    Google  2012-02-10    1700   10.3  Unknown\n",
              "three  Amazon  2010-11-03    1500   32.3  Unknown"
            ]
          },
          "metadata": {
            "tags": []
          },
          "execution_count": 24
        }
      ]
    },
    {
      "cell_type": "code",
      "metadata": {
        "colab": {
          "base_uri": "https://localhost:8080/",
          "height": 173
        },
        "id": "k9mBKBkKjlWF",
        "outputId": "bf1dc12e-f9d0-4dbc-a208-463f53f9c720"
      },
      "source": [
        "del df['Owner']\n",
        "df"
      ],
      "execution_count": null,
      "outputs": [
        {
          "output_type": "execute_result",
          "data": {
            "text/html": [
              "<div>\n",
              "<style scoped>\n",
              "    .dataframe tbody tr th:only-of-type {\n",
              "        vertical-align: middle;\n",
              "    }\n",
              "\n",
              "    .dataframe tbody tr th {\n",
              "        vertical-align: top;\n",
              "    }\n",
              "\n",
              "    .dataframe thead th {\n",
              "        text-align: right;\n",
              "    }\n",
              "</style>\n",
              "<table border=\"1\" class=\"dataframe\">\n",
              "  <thead>\n",
              "    <tr style=\"text-align: right;\">\n",
              "      <th></th>\n",
              "      <th>Name</th>\n",
              "      <th>Date</th>\n",
              "      <th>Shares</th>\n",
              "      <th>Price</th>\n",
              "    </tr>\n",
              "  </thead>\n",
              "  <tbody>\n",
              "    <tr>\n",
              "      <th>one</th>\n",
              "      <td>IBM</td>\n",
              "      <td>2001-12-01</td>\n",
              "      <td>1200</td>\n",
              "      <td>12.300</td>\n",
              "    </tr>\n",
              "    <tr>\n",
              "      <th>two</th>\n",
              "      <td>Google</td>\n",
              "      <td>2012-02-10</td>\n",
              "      <td>1700</td>\n",
              "      <td>10.300</td>\n",
              "    </tr>\n",
              "    <tr>\n",
              "      <th>three</th>\n",
              "      <td>Amazon</td>\n",
              "      <td>2010-11-03</td>\n",
              "      <td>1500</td>\n",
              "      <td>32.300</td>\n",
              "    </tr>\n",
              "    <tr>\n",
              "      <th>four</th>\n",
              "      <td>Microsoft</td>\n",
              "      <td>2010-02-01</td>\n",
              "      <td>3100</td>\n",
              "      <td>37.333</td>\n",
              "    </tr>\n",
              "  </tbody>\n",
              "</table>\n",
              "</div>"
            ],
            "text/plain": [
              "            Name        Date  Shares   Price\n",
              "one          IBM  2001-12-01    1200  12.300\n",
              "two       Google  2012-02-10    1700  10.300\n",
              "three     Amazon  2010-11-03    1500  32.300\n",
              "four   Microsoft  2010-02-01    3100  37.333"
            ]
          },
          "metadata": {
            "tags": []
          },
          "execution_count": 25
        }
      ]
    },
    {
      "cell_type": "code",
      "metadata": {
        "colab": {
          "base_uri": "https://localhost:8080/",
          "height": 173
        },
        "id": "zWbAG4yxkmOY",
        "outputId": "8fad1d87-bf29-4da5-8cfa-31943c7fa5da"
      },
      "source": [
        "df.drop('Shares', axis = 1)"
      ],
      "execution_count": null,
      "outputs": [
        {
          "output_type": "execute_result",
          "data": {
            "text/html": [
              "<div>\n",
              "<style scoped>\n",
              "    .dataframe tbody tr th:only-of-type {\n",
              "        vertical-align: middle;\n",
              "    }\n",
              "\n",
              "    .dataframe tbody tr th {\n",
              "        vertical-align: top;\n",
              "    }\n",
              "\n",
              "    .dataframe thead th {\n",
              "        text-align: right;\n",
              "    }\n",
              "</style>\n",
              "<table border=\"1\" class=\"dataframe\">\n",
              "  <thead>\n",
              "    <tr style=\"text-align: right;\">\n",
              "      <th></th>\n",
              "      <th>Name</th>\n",
              "      <th>Date</th>\n",
              "      <th>Price</th>\n",
              "    </tr>\n",
              "  </thead>\n",
              "  <tbody>\n",
              "    <tr>\n",
              "      <th>one</th>\n",
              "      <td>IBM</td>\n",
              "      <td>2001-12-01</td>\n",
              "      <td>12.300</td>\n",
              "    </tr>\n",
              "    <tr>\n",
              "      <th>two</th>\n",
              "      <td>Google</td>\n",
              "      <td>2012-02-10</td>\n",
              "      <td>10.300</td>\n",
              "    </tr>\n",
              "    <tr>\n",
              "      <th>three</th>\n",
              "      <td>Amazon</td>\n",
              "      <td>2010-11-03</td>\n",
              "      <td>32.300</td>\n",
              "    </tr>\n",
              "    <tr>\n",
              "      <th>four</th>\n",
              "      <td>Microsoft</td>\n",
              "      <td>2010-02-01</td>\n",
              "      <td>37.333</td>\n",
              "    </tr>\n",
              "  </tbody>\n",
              "</table>\n",
              "</div>"
            ],
            "text/plain": [
              "            Name        Date   Price\n",
              "one          IBM  2001-12-01  12.300\n",
              "two       Google  2012-02-10  10.300\n",
              "three     Amazon  2010-11-03  32.300\n",
              "four   Microsoft  2010-02-01  37.333"
            ]
          },
          "metadata": {
            "tags": []
          },
          "execution_count": 26
        }
      ]
    },
    {
      "cell_type": "code",
      "metadata": {
        "colab": {
          "base_uri": "https://localhost:8080/",
          "height": 173
        },
        "id": "y5AzfBBakxoz",
        "outputId": "eca033b1-5c80-44e2-aea9-7522a0365108"
      },
      "source": [
        "df"
      ],
      "execution_count": null,
      "outputs": [
        {
          "output_type": "execute_result",
          "data": {
            "text/html": [
              "<div>\n",
              "<style scoped>\n",
              "    .dataframe tbody tr th:only-of-type {\n",
              "        vertical-align: middle;\n",
              "    }\n",
              "\n",
              "    .dataframe tbody tr th {\n",
              "        vertical-align: top;\n",
              "    }\n",
              "\n",
              "    .dataframe thead th {\n",
              "        text-align: right;\n",
              "    }\n",
              "</style>\n",
              "<table border=\"1\" class=\"dataframe\">\n",
              "  <thead>\n",
              "    <tr style=\"text-align: right;\">\n",
              "      <th></th>\n",
              "      <th>Name</th>\n",
              "      <th>Date</th>\n",
              "      <th>Shares</th>\n",
              "      <th>Price</th>\n",
              "    </tr>\n",
              "  </thead>\n",
              "  <tbody>\n",
              "    <tr>\n",
              "      <th>one</th>\n",
              "      <td>IBM</td>\n",
              "      <td>2001-12-01</td>\n",
              "      <td>1200</td>\n",
              "      <td>12.300</td>\n",
              "    </tr>\n",
              "    <tr>\n",
              "      <th>two</th>\n",
              "      <td>Google</td>\n",
              "      <td>2012-02-10</td>\n",
              "      <td>1700</td>\n",
              "      <td>10.300</td>\n",
              "    </tr>\n",
              "    <tr>\n",
              "      <th>three</th>\n",
              "      <td>Amazon</td>\n",
              "      <td>2010-11-03</td>\n",
              "      <td>1500</td>\n",
              "      <td>32.300</td>\n",
              "    </tr>\n",
              "    <tr>\n",
              "      <th>four</th>\n",
              "      <td>Microsoft</td>\n",
              "      <td>2010-02-01</td>\n",
              "      <td>3100</td>\n",
              "      <td>37.333</td>\n",
              "    </tr>\n",
              "  </tbody>\n",
              "</table>\n",
              "</div>"
            ],
            "text/plain": [
              "            Name        Date  Shares   Price\n",
              "one          IBM  2001-12-01    1200  12.300\n",
              "two       Google  2012-02-10    1700  10.300\n",
              "three     Amazon  2010-11-03    1500  32.300\n",
              "four   Microsoft  2010-02-01    3100  37.333"
            ]
          },
          "metadata": {
            "tags": []
          },
          "execution_count": 27
        }
      ]
    },
    {
      "cell_type": "code",
      "metadata": {
        "id": "ZDyYXwp3k1WC"
      },
      "source": [
        ""
      ],
      "execution_count": null,
      "outputs": []
    }
  ]
}