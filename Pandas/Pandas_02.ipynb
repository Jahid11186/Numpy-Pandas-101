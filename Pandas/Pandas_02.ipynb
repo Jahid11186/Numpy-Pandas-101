{
  "nbformat": 4,
  "nbformat_minor": 0,
  "metadata": {
    "colab": {
      "name": "Pandas-02.ipynb",
      "provenance": [],
      "collapsed_sections": [
        "9WmOoFbs1beG",
        "s-vsjhSH3XRD",
        "yBYMwk2J_EQp",
        "uA1EH6_VE1Fk",
        "RhOugUIjJ3JJ",
        "cjWf6dpkzJEK",
        "O6q-22v11cqC",
        "35YjFjAK2wG3"
      ],
      "include_colab_link": true
    },
    "kernelspec": {
      "name": "python3",
      "display_name": "Python 3"
    },
    "language_info": {
      "name": "python"
    }
  },
  "cells": [
    {
      "cell_type": "markdown",
      "metadata": {
        "id": "view-in-github",
        "colab_type": "text"
      },
      "source": [
        "<a href=\"https://colab.research.google.com/github/Jahid11186/NumpyPandas-101/blob/main/Pandas/Pandas_02.ipynb\" target=\"_parent\"><img src=\"https://colab.research.google.com/assets/colab-badge.svg\" alt=\"Open In Colab\"/></a>"
      ]
    },
    {
      "cell_type": "code",
      "metadata": {
        "colab": {
          "base_uri": "https://localhost:8080/"
        },
        "id": "uNd0VrdZ0or-",
        "outputId": "eda824ec-75a9-46dd-a392-7614fc6b7932"
      },
      "source": [
        "from google.colab import drive\n",
        "drive.mount('/content/drive')"
      ],
      "execution_count": null,
      "outputs": [
        {
          "output_type": "stream",
          "text": [
            "Mounted at /content/drive\n"
          ],
          "name": "stdout"
        }
      ]
    },
    {
      "cell_type": "markdown",
      "metadata": {
        "id": "YPkjtlaf0vS7"
      },
      "source": [
        "# Pandas overview"
      ]
    },
    {
      "cell_type": "markdown",
      "metadata": {
        "id": "9WmOoFbs1beG"
      },
      "source": [
        "## Reading files"
      ]
    },
    {
      "cell_type": "code",
      "metadata": {
        "id": "p1FwudIS1JA2"
      },
      "source": [
        "import pandas as pd"
      ],
      "execution_count": null,
      "outputs": []
    },
    {
      "cell_type": "code",
      "metadata": {
        "id": "WXzy8SWg1q7B"
      },
      "source": [
        "cast = pd.read_csv(\"/content/drive/MyDrive/Datasets/pandas_guide_data/cast.csv\", index_col=None)\n",
        "title = pd.read_csv(\"/content/drive/MyDrive/Datasets/pandas_guide_data/titles.csv\", index_col=None)\n",
        "release = pd.read_csv(\"/content/drive/MyDrive/Datasets/pandas_guide_data/release_dates.csv\", index_col=None)"
      ],
      "execution_count": null,
      "outputs": []
    },
    {
      "cell_type": "code",
      "metadata": {
        "colab": {
          "base_uri": "https://localhost:8080/"
        },
        "id": "TAwgASm_2YwN",
        "outputId": "573fdc4e-6a7e-4bc5-b747-3d5a512f8fd5"
      },
      "source": [
        "cast.head()"
      ],
      "execution_count": null,
      "outputs": [
        {
          "output_type": "execute_result",
          "data": {
            "text/html": [
              "<div>\n",
              "<style scoped>\n",
              "    .dataframe tbody tr th:only-of-type {\n",
              "        vertical-align: middle;\n",
              "    }\n",
              "\n",
              "    .dataframe tbody tr th {\n",
              "        vertical-align: top;\n",
              "    }\n",
              "\n",
              "    .dataframe thead th {\n",
              "        text-align: right;\n",
              "    }\n",
              "</style>\n",
              "<table border=\"1\" class=\"dataframe\">\n",
              "  <thead>\n",
              "    <tr style=\"text-align: right;\">\n",
              "      <th></th>\n",
              "      <th>title</th>\n",
              "      <th>year</th>\n",
              "      <th>name</th>\n",
              "      <th>type</th>\n",
              "      <th>character</th>\n",
              "      <th>n</th>\n",
              "    </tr>\n",
              "  </thead>\n",
              "  <tbody>\n",
              "    <tr>\n",
              "      <th>0</th>\n",
              "      <td>Closet Monster</td>\n",
              "      <td>2015</td>\n",
              "      <td>Buffy #1</td>\n",
              "      <td>actor</td>\n",
              "      <td>Buffy 4</td>\n",
              "      <td>31.0</td>\n",
              "    </tr>\n",
              "    <tr>\n",
              "      <th>1</th>\n",
              "      <td>Suuri illusioni</td>\n",
              "      <td>1985</td>\n",
              "      <td>Homo $</td>\n",
              "      <td>actor</td>\n",
              "      <td>Guests</td>\n",
              "      <td>22.0</td>\n",
              "    </tr>\n",
              "    <tr>\n",
              "      <th>2</th>\n",
              "      <td>Battle of the Sexes</td>\n",
              "      <td>2017</td>\n",
              "      <td>$hutter</td>\n",
              "      <td>actor</td>\n",
              "      <td>Bobby Riggs Fan</td>\n",
              "      <td>10.0</td>\n",
              "    </tr>\n",
              "    <tr>\n",
              "      <th>3</th>\n",
              "      <td>Secret in Their Eyes</td>\n",
              "      <td>2015</td>\n",
              "      <td>$hutter</td>\n",
              "      <td>actor</td>\n",
              "      <td>2002 Dodger Fan</td>\n",
              "      <td>NaN</td>\n",
              "    </tr>\n",
              "    <tr>\n",
              "      <th>4</th>\n",
              "      <td>Steve Jobs</td>\n",
              "      <td>2015</td>\n",
              "      <td>$hutter</td>\n",
              "      <td>actor</td>\n",
              "      <td>1988 Opera House Patron</td>\n",
              "      <td>NaN</td>\n",
              "    </tr>\n",
              "  </tbody>\n",
              "</table>\n",
              "</div>"
            ],
            "text/plain": [
              "                  title  year      name   type                character     n\n",
              "0        Closet Monster  2015  Buffy #1  actor                  Buffy 4  31.0\n",
              "1       Suuri illusioni  1985    Homo $  actor                   Guests  22.0\n",
              "2   Battle of the Sexes  2017   $hutter  actor          Bobby Riggs Fan  10.0\n",
              "3  Secret in Their Eyes  2015   $hutter  actor          2002 Dodger Fan   NaN\n",
              "4            Steve Jobs  2015   $hutter  actor  1988 Opera House Patron   NaN"
            ]
          },
          "metadata": {
            "tags": []
          },
          "execution_count": 4
        }
      ]
    },
    {
      "cell_type": "code",
      "metadata": {
        "colab": {
          "base_uri": "https://localhost:8080/"
        },
        "id": "f-L0GxAT2c8f",
        "outputId": "e194cefd-b49b-429e-ad7f-a9928fe282f3"
      },
      "source": [
        "title.head()"
      ],
      "execution_count": null,
      "outputs": [
        {
          "output_type": "execute_result",
          "data": {
            "text/html": [
              "<div>\n",
              "<style scoped>\n",
              "    .dataframe tbody tr th:only-of-type {\n",
              "        vertical-align: middle;\n",
              "    }\n",
              "\n",
              "    .dataframe tbody tr th {\n",
              "        vertical-align: top;\n",
              "    }\n",
              "\n",
              "    .dataframe thead th {\n",
              "        text-align: right;\n",
              "    }\n",
              "</style>\n",
              "<table border=\"1\" class=\"dataframe\">\n",
              "  <thead>\n",
              "    <tr style=\"text-align: right;\">\n",
              "      <th></th>\n",
              "      <th>title</th>\n",
              "      <th>year</th>\n",
              "      <th>Unnamed: 2</th>\n",
              "    </tr>\n",
              "  </thead>\n",
              "  <tbody>\n",
              "    <tr>\n",
              "      <th>0</th>\n",
              "      <td>The Rising Son</td>\n",
              "      <td>1990</td>\n",
              "      <td>NaN</td>\n",
              "    </tr>\n",
              "    <tr>\n",
              "      <th>1</th>\n",
              "      <td>The Thousand Plane Raid</td>\n",
              "      <td>1969</td>\n",
              "      <td>NaN</td>\n",
              "    </tr>\n",
              "    <tr>\n",
              "      <th>2</th>\n",
              "      <td>Crucea de piatra</td>\n",
              "      <td>1993</td>\n",
              "      <td>NaN</td>\n",
              "    </tr>\n",
              "    <tr>\n",
              "      <th>3</th>\n",
              "      <td>Country</td>\n",
              "      <td>2000</td>\n",
              "      <td>NaN</td>\n",
              "    </tr>\n",
              "    <tr>\n",
              "      <th>4</th>\n",
              "      <td>Gaiking II</td>\n",
              "      <td>2011</td>\n",
              "      <td>NaN</td>\n",
              "    </tr>\n",
              "  </tbody>\n",
              "</table>\n",
              "</div>"
            ],
            "text/plain": [
              "                     title  year  Unnamed: 2\n",
              "0           The Rising Son  1990         NaN\n",
              "1  The Thousand Plane Raid  1969         NaN\n",
              "2         Crucea de piatra  1993         NaN\n",
              "3                  Country  2000         NaN\n",
              "4               Gaiking II  2011         NaN"
            ]
          },
          "metadata": {
            "tags": []
          },
          "execution_count": 5
        }
      ]
    },
    {
      "cell_type": "code",
      "metadata": {
        "colab": {
          "base_uri": "https://localhost:8080/"
        },
        "id": "Xc9ndPP92fdH",
        "outputId": "72fa8930-1629-43bc-f93a-a0b5c2b3416b"
      },
      "source": [
        "release.head()"
      ],
      "execution_count": null,
      "outputs": [
        {
          "output_type": "execute_result",
          "data": {
            "text/html": [
              "<div>\n",
              "<style scoped>\n",
              "    .dataframe tbody tr th:only-of-type {\n",
              "        vertical-align: middle;\n",
              "    }\n",
              "\n",
              "    .dataframe tbody tr th {\n",
              "        vertical-align: top;\n",
              "    }\n",
              "\n",
              "    .dataframe thead th {\n",
              "        text-align: right;\n",
              "    }\n",
              "</style>\n",
              "<table border=\"1\" class=\"dataframe\">\n",
              "  <thead>\n",
              "    <tr style=\"text-align: right;\">\n",
              "      <th></th>\n",
              "      <th>title</th>\n",
              "      <th>year</th>\n",
              "      <th>country</th>\n",
              "      <th>date</th>\n",
              "    </tr>\n",
              "  </thead>\n",
              "  <tbody>\n",
              "    <tr>\n",
              "      <th>0</th>\n",
              "      <td>#73, Shaanthi Nivaasa</td>\n",
              "      <td>2007</td>\n",
              "      <td>India</td>\n",
              "      <td>2007-06-15</td>\n",
              "    </tr>\n",
              "    <tr>\n",
              "      <th>1</th>\n",
              "      <td>#Beings</td>\n",
              "      <td>2015</td>\n",
              "      <td>Romania</td>\n",
              "      <td>2015-01-29</td>\n",
              "    </tr>\n",
              "    <tr>\n",
              "      <th>2</th>\n",
              "      <td>#Declimax</td>\n",
              "      <td>2018</td>\n",
              "      <td>Netherlands</td>\n",
              "      <td>2018-01-21</td>\n",
              "    </tr>\n",
              "    <tr>\n",
              "      <th>3</th>\n",
              "      <td>#Ewankosau saranghaeyo</td>\n",
              "      <td>2015</td>\n",
              "      <td>Philippines</td>\n",
              "      <td>2015-01-21</td>\n",
              "    </tr>\n",
              "    <tr>\n",
              "      <th>4</th>\n",
              "      <td>#Horror</td>\n",
              "      <td>2015</td>\n",
              "      <td>USA</td>\n",
              "      <td>2015-11-20</td>\n",
              "    </tr>\n",
              "  </tbody>\n",
              "</table>\n",
              "</div>"
            ],
            "text/plain": [
              "                    title  year      country        date\n",
              "0   #73, Shaanthi Nivaasa  2007        India  2007-06-15\n",
              "1                 #Beings  2015      Romania  2015-01-29\n",
              "2               #Declimax  2018  Netherlands  2018-01-21\n",
              "3  #Ewankosau saranghaeyo  2015  Philippines  2015-01-21\n",
              "4                 #Horror  2015          USA  2015-11-20"
            ]
          },
          "metadata": {
            "tags": []
          },
          "execution_count": 6
        }
      ]
    },
    {
      "cell_type": "code",
      "metadata": {
        "colab": {
          "base_uri": "https://localhost:8080/"
        },
        "id": "VWbfy7_f2h2E",
        "outputId": "4f1168f4-e49c-4bb1-d9ae-7493e7d5fd89"
      },
      "source": [
        "cast.tail()"
      ],
      "execution_count": null,
      "outputs": [
        {
          "output_type": "execute_result",
          "data": {
            "text/html": [
              "<div>\n",
              "<style scoped>\n",
              "    .dataframe tbody tr th:only-of-type {\n",
              "        vertical-align: middle;\n",
              "    }\n",
              "\n",
              "    .dataframe tbody tr th {\n",
              "        vertical-align: top;\n",
              "    }\n",
              "\n",
              "    .dataframe thead th {\n",
              "        text-align: right;\n",
              "    }\n",
              "</style>\n",
              "<table border=\"1\" class=\"dataframe\">\n",
              "  <thead>\n",
              "    <tr style=\"text-align: right;\">\n",
              "      <th></th>\n",
              "      <th>title</th>\n",
              "      <th>year</th>\n",
              "      <th>name</th>\n",
              "      <th>type</th>\n",
              "      <th>character</th>\n",
              "      <th>n</th>\n",
              "    </tr>\n",
              "  </thead>\n",
              "  <tbody>\n",
              "    <tr>\n",
              "      <th>74996</th>\n",
              "      <td>Mia fora kai ena... moro</td>\n",
              "      <td>2011</td>\n",
              "      <td>Penelope Anastasopoulou</td>\n",
              "      <td>actress</td>\n",
              "      <td>Popi voulkanizater</td>\n",
              "      <td>11.0</td>\n",
              "    </tr>\n",
              "    <tr>\n",
              "      <th>74997</th>\n",
              "      <td>The Magician King</td>\n",
              "      <td>2004</td>\n",
              "      <td>Tiannah Anastassiades</td>\n",
              "      <td>actress</td>\n",
              "      <td>Unicycle Race Attendant</td>\n",
              "      <td>NaN</td>\n",
              "    </tr>\n",
              "    <tr>\n",
              "      <th>74998</th>\n",
              "      <td>Festival of Lights</td>\n",
              "      <td>2010</td>\n",
              "      <td>Zoe Anastassiou</td>\n",
              "      <td>actress</td>\n",
              "      <td>Guidance Counselor</td>\n",
              "      <td>20.0</td>\n",
              "    </tr>\n",
              "    <tr>\n",
              "      <th>74999</th>\n",
              "      <td>Toxic Tutu</td>\n",
              "      <td>2016</td>\n",
              "      <td>Zoe Anastassiou</td>\n",
              "      <td>actress</td>\n",
              "      <td>Demon of Toxicity</td>\n",
              "      <td>NaN</td>\n",
              "    </tr>\n",
              "    <tr>\n",
              "      <th>75000</th>\n",
              "      <td>Fugitive Pieces</td>\n",
              "      <td>2007</td>\n",
              "      <td>Anastassia Anastassopoulou</td>\n",
              "      <td>actress</td>\n",
              "      <td>Laundry Girl</td>\n",
              "      <td>25.0</td>\n",
              "    </tr>\n",
              "  </tbody>\n",
              "</table>\n",
              "</div>"
            ],
            "text/plain": [
              "                          title  year  ...                character     n\n",
              "74996  Mia fora kai ena... moro  2011  ...       Popi voulkanizater  11.0\n",
              "74997         The Magician King  2004  ...  Unicycle Race Attendant   NaN\n",
              "74998        Festival of Lights  2010  ...       Guidance Counselor  20.0\n",
              "74999                Toxic Tutu  2016  ...        Demon of Toxicity   NaN\n",
              "75000           Fugitive Pieces  2007  ...             Laundry Girl  25.0\n",
              "\n",
              "[5 rows x 6 columns]"
            ]
          },
          "metadata": {
            "tags": []
          },
          "execution_count": 7
        }
      ]
    },
    {
      "cell_type": "code",
      "metadata": {
        "colab": {
          "base_uri": "https://localhost:8080/"
        },
        "id": "eQQ2TtvT2oDG",
        "outputId": "3b63d579-520a-4324-920b-47f2e6645a66"
      },
      "source": [
        "len(title)"
      ],
      "execution_count": null,
      "outputs": [
        {
          "output_type": "execute_result",
          "data": {
            "text/plain": [
              "50000"
            ]
          },
          "metadata": {
            "tags": []
          },
          "execution_count": 8
        }
      ]
    },
    {
      "cell_type": "code",
      "metadata": {
        "colab": {
          "base_uri": "https://localhost:8080/"
        },
        "id": "_s9CVWpo2_Ef",
        "outputId": "602dee4f-6f0d-4546-8d53-1b4be41f99f1"
      },
      "source": [
        "len(cast)"
      ],
      "execution_count": null,
      "outputs": [
        {
          "output_type": "execute_result",
          "data": {
            "text/plain": [
              "75001"
            ]
          },
          "metadata": {
            "tags": []
          },
          "execution_count": 9
        }
      ]
    },
    {
      "cell_type": "code",
      "metadata": {
        "colab": {
          "base_uri": "https://localhost:8080/"
        },
        "id": "UB3xXwbR3CGQ",
        "outputId": "46c4f562-9157-421e-8c84-44166a53a914"
      },
      "source": [
        "len(release)"
      ],
      "execution_count": null,
      "outputs": [
        {
          "output_type": "execute_result",
          "data": {
            "text/plain": [
              "50000"
            ]
          },
          "metadata": {
            "tags": []
          },
          "execution_count": 10
        }
      ]
    },
    {
      "cell_type": "markdown",
      "metadata": {
        "id": "s-vsjhSH3XRD"
      },
      "source": [
        "## Data Operation"
      ]
    },
    {
      "cell_type": "markdown",
      "metadata": {
        "id": "FD3gBJcH3bu3"
      },
      "source": [
        "### 1. Row and Column Selection"
      ]
    },
    {
      "cell_type": "code",
      "metadata": {
        "colab": {
          "base_uri": "https://localhost:8080/"
        },
        "id": "MgD5U4nN3R_B",
        "outputId": "e85352b6-691d-4f2d-d132-983b34372ea0"
      },
      "source": [
        "t = title['title']\n",
        "type(t)"
      ],
      "execution_count": null,
      "outputs": [
        {
          "output_type": "execute_result",
          "data": {
            "text/plain": [
              "pandas.core.series.Series"
            ]
          },
          "metadata": {
            "tags": []
          },
          "execution_count": 12
        }
      ]
    },
    {
      "cell_type": "code",
      "metadata": {
        "colab": {
          "base_uri": "https://localhost:8080/"
        },
        "id": "Sj9Um0yufL17",
        "outputId": "23874bb0-4952-43c4-e562-c17acfe0148b"
      },
      "source": [
        "title.title"
      ],
      "execution_count": null,
      "outputs": [
        {
          "output_type": "execute_result",
          "data": {
            "text/plain": [
              "0                 The Rising Son\n",
              "1        The Thousand Plane Raid\n",
              "2               Crucea de piatra\n",
              "3                        Country\n",
              "4                     Gaiking II\n",
              "                  ...           \n",
              "49995                      Rebel\n",
              "49996                    Suzanne\n",
              "49997                      Bomba\n",
              "49998       Aao Jao Ghar Tumhara\n",
              "49999                 Mrs. Munck\n",
              "Name: title, Length: 50000, dtype: object"
            ]
          },
          "metadata": {
            "tags": []
          },
          "execution_count": 13
        }
      ]
    },
    {
      "cell_type": "code",
      "metadata": {
        "colab": {
          "base_uri": "https://localhost:8080/"
        },
        "id": "7ROENTRr3pa8",
        "outputId": "55b4d7fb-cdc5-4d05-e1e7-fde218097296"
      },
      "source": [
        "t.head()"
      ],
      "execution_count": null,
      "outputs": [
        {
          "output_type": "execute_result",
          "data": {
            "text/plain": [
              "0             The Rising Son\n",
              "1    The Thousand Plane Raid\n",
              "2           Crucea de piatra\n",
              "3                    Country\n",
              "4                 Gaiking II\n",
              "Name: title, dtype: object"
            ]
          },
          "metadata": {
            "tags": []
          },
          "execution_count": 14
        }
      ]
    },
    {
      "cell_type": "code",
      "metadata": {
        "colab": {
          "base_uri": "https://localhost:8080/"
        },
        "id": "VLvAHH-f8_wd",
        "outputId": "fd21a97b-1361-4398-e98c-4f7fecb9e00a"
      },
      "source": [
        "title.loc[12000, 'title']"
      ],
      "execution_count": null,
      "outputs": [
        {
          "output_type": "execute_result",
          "data": {
            "application/vnd.google.colaboratory.intrinsic+json": {
              "type": "string"
            },
            "text/plain": [
              "'Cama adentro'"
            ]
          },
          "metadata": {
            "tags": []
          },
          "execution_count": 15
        }
      ]
    },
    {
      "cell_type": "code",
      "metadata": {
        "colab": {
          "base_uri": "https://localhost:8080/"
        },
        "id": "rSxCtdfoAYuh",
        "outputId": "c0e10365-9290-4dd9-911c-84304a251581"
      },
      "source": [
        "title.iloc[12000]"
      ],
      "execution_count": null,
      "outputs": [
        {
          "output_type": "execute_result",
          "data": {
            "text/plain": [
              "title         Cama adentro\n",
              "year                  2004\n",
              "Unnamed: 2             NaN\n",
              "Name: 12000, dtype: object"
            ]
          },
          "metadata": {
            "tags": []
          },
          "execution_count": 16
        }
      ]
    },
    {
      "cell_type": "code",
      "metadata": {
        "colab": {
          "base_uri": "https://localhost:8080/"
        },
        "id": "mUC8yMVY9s4J",
        "outputId": "b6d8e718-d526-427f-a0e7-18c38a762357"
      },
      "source": [
        "title.iloc[25000]"
      ],
      "execution_count": null,
      "outputs": [
        {
          "output_type": "execute_result",
          "data": {
            "text/plain": [
              "title         Mariah Carey: Live from Central Park\n",
              "year                                          2014\n",
              "Unnamed: 2                                     NaN\n",
              "Name: 25000, dtype: object"
            ]
          },
          "metadata": {
            "tags": []
          },
          "execution_count": 17
        }
      ]
    },
    {
      "cell_type": "markdown",
      "metadata": {
        "id": "yBYMwk2J_EQp"
      },
      "source": [
        "### 2. Filter data"
      ]
    },
    {
      "cell_type": "code",
      "metadata": {
        "colab": {
          "base_uri": "https://localhost:8080/",
          "height": 204
        },
        "id": "kNfIPvu5-WlX",
        "outputId": "e7f0ba7a-152b-44ba-9e96-5a2d614765d0"
      },
      "source": [
        "after85 = title[title['year'] > '1985']\n",
        "after85.head()"
      ],
      "execution_count": null,
      "outputs": [
        {
          "output_type": "execute_result",
          "data": {
            "text/html": [
              "<div>\n",
              "<style scoped>\n",
              "    .dataframe tbody tr th:only-of-type {\n",
              "        vertical-align: middle;\n",
              "    }\n",
              "\n",
              "    .dataframe tbody tr th {\n",
              "        vertical-align: top;\n",
              "    }\n",
              "\n",
              "    .dataframe thead th {\n",
              "        text-align: right;\n",
              "    }\n",
              "</style>\n",
              "<table border=\"1\" class=\"dataframe\">\n",
              "  <thead>\n",
              "    <tr style=\"text-align: right;\">\n",
              "      <th></th>\n",
              "      <th>title</th>\n",
              "      <th>year</th>\n",
              "      <th>Unnamed: 2</th>\n",
              "    </tr>\n",
              "  </thead>\n",
              "  <tbody>\n",
              "    <tr>\n",
              "      <th>0</th>\n",
              "      <td>The Rising Son</td>\n",
              "      <td>1990</td>\n",
              "      <td>NaN</td>\n",
              "    </tr>\n",
              "    <tr>\n",
              "      <th>2</th>\n",
              "      <td>Crucea de piatra</td>\n",
              "      <td>1993</td>\n",
              "      <td>NaN</td>\n",
              "    </tr>\n",
              "    <tr>\n",
              "      <th>3</th>\n",
              "      <td>Country</td>\n",
              "      <td>2000</td>\n",
              "      <td>NaN</td>\n",
              "    </tr>\n",
              "    <tr>\n",
              "      <th>4</th>\n",
              "      <td>Gaiking II</td>\n",
              "      <td>2011</td>\n",
              "      <td>NaN</td>\n",
              "    </tr>\n",
              "    <tr>\n",
              "      <th>5</th>\n",
              "      <td>Medusa (IV)</td>\n",
              "      <td>2015</td>\n",
              "      <td>NaN</td>\n",
              "    </tr>\n",
              "  </tbody>\n",
              "</table>\n",
              "</div>"
            ],
            "text/plain": [
              "              title  year  Unnamed: 2\n",
              "0    The Rising Son  1990         NaN\n",
              "2  Crucea de piatra  1993         NaN\n",
              "3           Country  2000         NaN\n",
              "4        Gaiking II  2011         NaN\n",
              "5       Medusa (IV)  2015         NaN"
            ]
          },
          "metadata": {
            "tags": []
          },
          "execution_count": 21
        }
      ]
    },
    {
      "cell_type": "code",
      "metadata": {
        "colab": {
          "base_uri": "https://localhost:8080/",
          "height": 204
        },
        "id": "k8enRLCDAhCH",
        "outputId": "dfed3c62-c57f-486e-9e72-8a86c3e0ea2e"
      },
      "source": [
        "# between 90 to 99\n",
        "between9099 = title[(title['year'] > '1990') & (title['year'] < '1999')]\n",
        "between9099.head()"
      ],
      "execution_count": null,
      "outputs": [
        {
          "output_type": "execute_result",
          "data": {
            "text/html": [
              "<div>\n",
              "<style scoped>\n",
              "    .dataframe tbody tr th:only-of-type {\n",
              "        vertical-align: middle;\n",
              "    }\n",
              "\n",
              "    .dataframe tbody tr th {\n",
              "        vertical-align: top;\n",
              "    }\n",
              "\n",
              "    .dataframe thead th {\n",
              "        text-align: right;\n",
              "    }\n",
              "</style>\n",
              "<table border=\"1\" class=\"dataframe\">\n",
              "  <thead>\n",
              "    <tr style=\"text-align: right;\">\n",
              "      <th></th>\n",
              "      <th>title</th>\n",
              "      <th>year</th>\n",
              "      <th>Unnamed: 2</th>\n",
              "    </tr>\n",
              "  </thead>\n",
              "  <tbody>\n",
              "    <tr>\n",
              "      <th>2</th>\n",
              "      <td>Crucea de piatra</td>\n",
              "      <td>1993</td>\n",
              "      <td>NaN</td>\n",
              "    </tr>\n",
              "    <tr>\n",
              "      <th>12</th>\n",
              "      <td>Poka Makorer Ghar Bosoti</td>\n",
              "      <td>1996</td>\n",
              "      <td>NaN</td>\n",
              "    </tr>\n",
              "    <tr>\n",
              "      <th>24</th>\n",
              "      <td>Conflict of Interest</td>\n",
              "      <td>1993</td>\n",
              "      <td>NaN</td>\n",
              "    </tr>\n",
              "    <tr>\n",
              "      <th>32</th>\n",
              "      <td>Der Brocken</td>\n",
              "      <td>1992</td>\n",
              "      <td>NaN</td>\n",
              "    </tr>\n",
              "    <tr>\n",
              "      <th>35</th>\n",
              "      <td>The Court</td>\n",
              "      <td>1998</td>\n",
              "      <td>NaN</td>\n",
              "    </tr>\n",
              "  </tbody>\n",
              "</table>\n",
              "</div>"
            ],
            "text/plain": [
              "                       title  year  Unnamed: 2\n",
              "2           Crucea de piatra  1993         NaN\n",
              "12  Poka Makorer Ghar Bosoti  1996         NaN\n",
              "24      Conflict of Interest  1993         NaN\n",
              "32               Der Brocken  1992         NaN\n",
              "35                 The Court  1998         NaN"
            ]
          },
          "metadata": {
            "tags": []
          },
          "execution_count": 22
        }
      ]
    },
    {
      "cell_type": "markdown",
      "metadata": {
        "id": "uA1EH6_VE1Fk"
      },
      "source": [
        "### 3. Sorting"
      ]
    },
    {
      "cell_type": "code",
      "metadata": {
        "colab": {
          "base_uri": "https://localhost:8080/",
          "height": 204
        },
        "id": "i-_q67xNCMNE",
        "outputId": "ad644ff8-a6f9-46c4-dcc7-11ecc4c7951f"
      },
      "source": [
        "macbeth = title[title['title'] == 'Macbeth']\n",
        "macbeth.sort_index()"
      ],
      "execution_count": null,
      "outputs": [
        {
          "output_type": "execute_result",
          "data": {
            "text/html": [
              "<div>\n",
              "<style scoped>\n",
              "    .dataframe tbody tr th:only-of-type {\n",
              "        vertical-align: middle;\n",
              "    }\n",
              "\n",
              "    .dataframe tbody tr th {\n",
              "        vertical-align: top;\n",
              "    }\n",
              "\n",
              "    .dataframe thead th {\n",
              "        text-align: right;\n",
              "    }\n",
              "</style>\n",
              "<table border=\"1\" class=\"dataframe\">\n",
              "  <thead>\n",
              "    <tr style=\"text-align: right;\">\n",
              "      <th></th>\n",
              "      <th>title</th>\n",
              "      <th>year</th>\n",
              "      <th>Unnamed: 2</th>\n",
              "    </tr>\n",
              "  </thead>\n",
              "  <tbody>\n",
              "    <tr>\n",
              "      <th>4226</th>\n",
              "      <td>Macbeth</td>\n",
              "      <td>1913</td>\n",
              "      <td>NaN</td>\n",
              "    </tr>\n",
              "    <tr>\n",
              "      <th>9322</th>\n",
              "      <td>Macbeth</td>\n",
              "      <td>2006</td>\n",
              "      <td>NaN</td>\n",
              "    </tr>\n",
              "    <tr>\n",
              "      <th>11722</th>\n",
              "      <td>Macbeth</td>\n",
              "      <td>2013</td>\n",
              "      <td>NaN</td>\n",
              "    </tr>\n",
              "    <tr>\n",
              "      <th>17166</th>\n",
              "      <td>Macbeth</td>\n",
              "      <td>1997</td>\n",
              "      <td>NaN</td>\n",
              "    </tr>\n",
              "    <tr>\n",
              "      <th>25847</th>\n",
              "      <td>Macbeth</td>\n",
              "      <td>1998</td>\n",
              "      <td>NaN</td>\n",
              "    </tr>\n",
              "  </tbody>\n",
              "</table>\n",
              "</div>"
            ],
            "text/plain": [
              "         title  year  Unnamed: 2\n",
              "4226   Macbeth  1913         NaN\n",
              "9322   Macbeth  2006         NaN\n",
              "11722  Macbeth  2013         NaN\n",
              "17166  Macbeth  1997         NaN\n",
              "25847  Macbeth  1998         NaN"
            ]
          },
          "metadata": {
            "tags": []
          },
          "execution_count": 23
        }
      ]
    },
    {
      "cell_type": "code",
      "metadata": {
        "colab": {
          "base_uri": "https://localhost:8080/",
          "height": 204
        },
        "id": "lGlCWce8HIKN",
        "outputId": "02a3d3c6-992c-4690-ca2b-5766b13489aa"
      },
      "source": [
        "macbeth.sort_values('year')"
      ],
      "execution_count": null,
      "outputs": [
        {
          "output_type": "execute_result",
          "data": {
            "text/html": [
              "<div>\n",
              "<style scoped>\n",
              "    .dataframe tbody tr th:only-of-type {\n",
              "        vertical-align: middle;\n",
              "    }\n",
              "\n",
              "    .dataframe tbody tr th {\n",
              "        vertical-align: top;\n",
              "    }\n",
              "\n",
              "    .dataframe thead th {\n",
              "        text-align: right;\n",
              "    }\n",
              "</style>\n",
              "<table border=\"1\" class=\"dataframe\">\n",
              "  <thead>\n",
              "    <tr style=\"text-align: right;\">\n",
              "      <th></th>\n",
              "      <th>title</th>\n",
              "      <th>year</th>\n",
              "      <th>Unnamed: 2</th>\n",
              "    </tr>\n",
              "  </thead>\n",
              "  <tbody>\n",
              "    <tr>\n",
              "      <th>4226</th>\n",
              "      <td>Macbeth</td>\n",
              "      <td>1913</td>\n",
              "      <td>NaN</td>\n",
              "    </tr>\n",
              "    <tr>\n",
              "      <th>17166</th>\n",
              "      <td>Macbeth</td>\n",
              "      <td>1997</td>\n",
              "      <td>NaN</td>\n",
              "    </tr>\n",
              "    <tr>\n",
              "      <th>25847</th>\n",
              "      <td>Macbeth</td>\n",
              "      <td>1998</td>\n",
              "      <td>NaN</td>\n",
              "    </tr>\n",
              "    <tr>\n",
              "      <th>9322</th>\n",
              "      <td>Macbeth</td>\n",
              "      <td>2006</td>\n",
              "      <td>NaN</td>\n",
              "    </tr>\n",
              "    <tr>\n",
              "      <th>11722</th>\n",
              "      <td>Macbeth</td>\n",
              "      <td>2013</td>\n",
              "      <td>NaN</td>\n",
              "    </tr>\n",
              "  </tbody>\n",
              "</table>\n",
              "</div>"
            ],
            "text/plain": [
              "         title  year  Unnamed: 2\n",
              "4226   Macbeth  1913         NaN\n",
              "17166  Macbeth  1997         NaN\n",
              "25847  Macbeth  1998         NaN\n",
              "9322   Macbeth  2006         NaN\n",
              "11722  Macbeth  2013         NaN"
            ]
          },
          "metadata": {
            "tags": []
          },
          "execution_count": 24
        }
      ]
    },
    {
      "cell_type": "markdown",
      "metadata": {
        "id": "RhOugUIjJ3JJ"
      },
      "source": [
        "### 4. Null values"
      ]
    },
    {
      "cell_type": "code",
      "metadata": {
        "colab": {
          "base_uri": "https://localhost:8080/"
        },
        "id": "638GSeEyIP16",
        "outputId": "6136a121-b464-4bfc-db80-28ad5e05b81d"
      },
      "source": [
        "cast.iloc[3:5]"
      ],
      "execution_count": null,
      "outputs": [
        {
          "output_type": "execute_result",
          "data": {
            "text/html": [
              "<div>\n",
              "<style scoped>\n",
              "    .dataframe tbody tr th:only-of-type {\n",
              "        vertical-align: middle;\n",
              "    }\n",
              "\n",
              "    .dataframe tbody tr th {\n",
              "        vertical-align: top;\n",
              "    }\n",
              "\n",
              "    .dataframe thead th {\n",
              "        text-align: right;\n",
              "    }\n",
              "</style>\n",
              "<table border=\"1\" class=\"dataframe\">\n",
              "  <thead>\n",
              "    <tr style=\"text-align: right;\">\n",
              "      <th></th>\n",
              "      <th>title</th>\n",
              "      <th>year</th>\n",
              "      <th>name</th>\n",
              "      <th>type</th>\n",
              "      <th>character</th>\n",
              "      <th>n</th>\n",
              "    </tr>\n",
              "  </thead>\n",
              "  <tbody>\n",
              "    <tr>\n",
              "      <th>3</th>\n",
              "      <td>Secret in Their Eyes</td>\n",
              "      <td>2015</td>\n",
              "      <td>$hutter</td>\n",
              "      <td>actor</td>\n",
              "      <td>2002 Dodger Fan</td>\n",
              "      <td>NaN</td>\n",
              "    </tr>\n",
              "    <tr>\n",
              "      <th>4</th>\n",
              "      <td>Steve Jobs</td>\n",
              "      <td>2015</td>\n",
              "      <td>$hutter</td>\n",
              "      <td>actor</td>\n",
              "      <td>1988 Opera House Patron</td>\n",
              "      <td>NaN</td>\n",
              "    </tr>\n",
              "  </tbody>\n",
              "</table>\n",
              "</div>"
            ],
            "text/plain": [
              "                  title  year     name   type                character   n\n",
              "3  Secret in Their Eyes  2015  $hutter  actor          2002 Dodger Fan NaN\n",
              "4            Steve Jobs  2015  $hutter  actor  1988 Opera House Patron NaN"
            ]
          },
          "metadata": {
            "tags": []
          },
          "execution_count": 22
        }
      ]
    },
    {
      "cell_type": "code",
      "metadata": {
        "colab": {
          "base_uri": "https://localhost:8080/"
        },
        "id": "wZUE3ejbKCcU",
        "outputId": "b89801f3-7363-4d0c-d9bb-b4bfd206496f"
      },
      "source": [
        "cast['n'].isnull().head()"
      ],
      "execution_count": null,
      "outputs": [
        {
          "output_type": "execute_result",
          "data": {
            "text/plain": [
              "0    False\n",
              "1    False\n",
              "2    False\n",
              "3     True\n",
              "4     True\n",
              "Name: n, dtype: bool"
            ]
          },
          "metadata": {
            "tags": []
          },
          "execution_count": 23
        }
      ]
    },
    {
      "cell_type": "code",
      "metadata": {
        "colab": {
          "base_uri": "https://localhost:8080/"
        },
        "id": "l1LJtHeBKakU",
        "outputId": "8faece96-65ec-40dc-b24f-2a8966982a53"
      },
      "source": [
        "cast['n'].notnull().head()"
      ],
      "execution_count": null,
      "outputs": [
        {
          "output_type": "execute_result",
          "data": {
            "text/plain": [
              "0     True\n",
              "1     True\n",
              "2     True\n",
              "3    False\n",
              "4    False\n",
              "Name: n, dtype: bool"
            ]
          },
          "metadata": {
            "tags": []
          },
          "execution_count": 24
        }
      ]
    },
    {
      "cell_type": "code",
      "metadata": {
        "colab": {
          "base_uri": "https://localhost:8080/"
        },
        "id": "epRgzmIiKf-7",
        "outputId": "e4497c01-028d-4c96-a40a-62bed2456716"
      },
      "source": [
        "cast_fill = cast[cast['n'].isnull()].fillna('NA')\n",
        "cast_fill.head()"
      ],
      "execution_count": null,
      "outputs": [
        {
          "output_type": "execute_result",
          "data": {
            "text/html": [
              "<div>\n",
              "<style scoped>\n",
              "    .dataframe tbody tr th:only-of-type {\n",
              "        vertical-align: middle;\n",
              "    }\n",
              "\n",
              "    .dataframe tbody tr th {\n",
              "        vertical-align: top;\n",
              "    }\n",
              "\n",
              "    .dataframe thead th {\n",
              "        text-align: right;\n",
              "    }\n",
              "</style>\n",
              "<table border=\"1\" class=\"dataframe\">\n",
              "  <thead>\n",
              "    <tr style=\"text-align: right;\">\n",
              "      <th></th>\n",
              "      <th>title</th>\n",
              "      <th>year</th>\n",
              "      <th>name</th>\n",
              "      <th>type</th>\n",
              "      <th>character</th>\n",
              "      <th>n</th>\n",
              "    </tr>\n",
              "  </thead>\n",
              "  <tbody>\n",
              "    <tr>\n",
              "      <th>3</th>\n",
              "      <td>Secret in Their Eyes</td>\n",
              "      <td>2015</td>\n",
              "      <td>$hutter</td>\n",
              "      <td>actor</td>\n",
              "      <td>2002 Dodger Fan</td>\n",
              "      <td>NA</td>\n",
              "    </tr>\n",
              "    <tr>\n",
              "      <th>4</th>\n",
              "      <td>Steve Jobs</td>\n",
              "      <td>2015</td>\n",
              "      <td>$hutter</td>\n",
              "      <td>actor</td>\n",
              "      <td>1988 Opera House Patron</td>\n",
              "      <td>NA</td>\n",
              "    </tr>\n",
              "    <tr>\n",
              "      <th>5</th>\n",
              "      <td>Straight Outta Compton</td>\n",
              "      <td>2015</td>\n",
              "      <td>$hutter</td>\n",
              "      <td>actor</td>\n",
              "      <td>Club Patron</td>\n",
              "      <td>NA</td>\n",
              "    </tr>\n",
              "    <tr>\n",
              "      <th>6</th>\n",
              "      <td>Straight Outta Compton</td>\n",
              "      <td>2015</td>\n",
              "      <td>$hutter</td>\n",
              "      <td>actor</td>\n",
              "      <td>Dopeman</td>\n",
              "      <td>NA</td>\n",
              "    </tr>\n",
              "    <tr>\n",
              "      <th>7</th>\n",
              "      <td>For Thy Love 2</td>\n",
              "      <td>2009</td>\n",
              "      <td>Bee Moe $lim</td>\n",
              "      <td>actor</td>\n",
              "      <td>Thug 1</td>\n",
              "      <td>NA</td>\n",
              "    </tr>\n",
              "  </tbody>\n",
              "</table>\n",
              "</div>"
            ],
            "text/plain": [
              "                    title  year  ...                character   n\n",
              "3    Secret in Their Eyes  2015  ...          2002 Dodger Fan  NA\n",
              "4              Steve Jobs  2015  ...  1988 Opera House Patron  NA\n",
              "5  Straight Outta Compton  2015  ...              Club Patron  NA\n",
              "6  Straight Outta Compton  2015  ...                  Dopeman  NA\n",
              "7          For Thy Love 2  2009  ...                   Thug 1  NA\n",
              "\n",
              "[5 rows x 6 columns]"
            ]
          },
          "metadata": {
            "tags": []
          },
          "execution_count": 25
        }
      ]
    },
    {
      "cell_type": "code",
      "metadata": {
        "colab": {
          "base_uri": "https://localhost:8080/"
        },
        "id": "SgORiTPoB31W",
        "outputId": "03950abe-0e70-4c00-9d34-ed39fe33be1e"
      },
      "source": [
        "cast_fill.head()"
      ],
      "execution_count": null,
      "outputs": [
        {
          "output_type": "execute_result",
          "data": {
            "text/html": [
              "<div>\n",
              "<style scoped>\n",
              "    .dataframe tbody tr th:only-of-type {\n",
              "        vertical-align: middle;\n",
              "    }\n",
              "\n",
              "    .dataframe tbody tr th {\n",
              "        vertical-align: top;\n",
              "    }\n",
              "\n",
              "    .dataframe thead th {\n",
              "        text-align: right;\n",
              "    }\n",
              "</style>\n",
              "<table border=\"1\" class=\"dataframe\">\n",
              "  <thead>\n",
              "    <tr style=\"text-align: right;\">\n",
              "      <th></th>\n",
              "      <th>title</th>\n",
              "      <th>year</th>\n",
              "      <th>name</th>\n",
              "      <th>type</th>\n",
              "      <th>character</th>\n",
              "      <th>n</th>\n",
              "    </tr>\n",
              "  </thead>\n",
              "  <tbody>\n",
              "    <tr>\n",
              "      <th>3</th>\n",
              "      <td>Secret in Their Eyes</td>\n",
              "      <td>2015</td>\n",
              "      <td>$hutter</td>\n",
              "      <td>actor</td>\n",
              "      <td>2002 Dodger Fan</td>\n",
              "      <td>NA</td>\n",
              "    </tr>\n",
              "    <tr>\n",
              "      <th>4</th>\n",
              "      <td>Steve Jobs</td>\n",
              "      <td>2015</td>\n",
              "      <td>$hutter</td>\n",
              "      <td>actor</td>\n",
              "      <td>1988 Opera House Patron</td>\n",
              "      <td>NA</td>\n",
              "    </tr>\n",
              "    <tr>\n",
              "      <th>5</th>\n",
              "      <td>Straight Outta Compton</td>\n",
              "      <td>2015</td>\n",
              "      <td>$hutter</td>\n",
              "      <td>actor</td>\n",
              "      <td>Club Patron</td>\n",
              "      <td>NA</td>\n",
              "    </tr>\n",
              "    <tr>\n",
              "      <th>6</th>\n",
              "      <td>Straight Outta Compton</td>\n",
              "      <td>2015</td>\n",
              "      <td>$hutter</td>\n",
              "      <td>actor</td>\n",
              "      <td>Dopeman</td>\n",
              "      <td>NA</td>\n",
              "    </tr>\n",
              "    <tr>\n",
              "      <th>7</th>\n",
              "      <td>For Thy Love 2</td>\n",
              "      <td>2009</td>\n",
              "      <td>Bee Moe $lim</td>\n",
              "      <td>actor</td>\n",
              "      <td>Thug 1</td>\n",
              "      <td>NA</td>\n",
              "    </tr>\n",
              "  </tbody>\n",
              "</table>\n",
              "</div>"
            ],
            "text/plain": [
              "                    title  year  ...                character   n\n",
              "3    Secret in Their Eyes  2015  ...          2002 Dodger Fan  NA\n",
              "4              Steve Jobs  2015  ...  1988 Opera House Patron  NA\n",
              "5  Straight Outta Compton  2015  ...              Club Patron  NA\n",
              "6  Straight Outta Compton  2015  ...                  Dopeman  NA\n",
              "7          For Thy Love 2  2009  ...                   Thug 1  NA\n",
              "\n",
              "[5 rows x 6 columns]"
            ]
          },
          "metadata": {
            "tags": []
          },
          "execution_count": 26
        }
      ]
    },
    {
      "cell_type": "code",
      "metadata": {
        "colab": {
          "base_uri": "https://localhost:8080/"
        },
        "id": "k_kP-AxSL0QT",
        "outputId": "acc97dfa-fbb5-42bd-d3ee-a078b4873526"
      },
      "source": [
        "cast.head()"
      ],
      "execution_count": null,
      "outputs": [
        {
          "output_type": "execute_result",
          "data": {
            "text/html": [
              "<div>\n",
              "<style scoped>\n",
              "    .dataframe tbody tr th:only-of-type {\n",
              "        vertical-align: middle;\n",
              "    }\n",
              "\n",
              "    .dataframe tbody tr th {\n",
              "        vertical-align: top;\n",
              "    }\n",
              "\n",
              "    .dataframe thead th {\n",
              "        text-align: right;\n",
              "    }\n",
              "</style>\n",
              "<table border=\"1\" class=\"dataframe\">\n",
              "  <thead>\n",
              "    <tr style=\"text-align: right;\">\n",
              "      <th></th>\n",
              "      <th>title</th>\n",
              "      <th>year</th>\n",
              "      <th>name</th>\n",
              "      <th>type</th>\n",
              "      <th>character</th>\n",
              "      <th>n</th>\n",
              "    </tr>\n",
              "  </thead>\n",
              "  <tbody>\n",
              "    <tr>\n",
              "      <th>0</th>\n",
              "      <td>Closet Monster</td>\n",
              "      <td>2015</td>\n",
              "      <td>Buffy #1</td>\n",
              "      <td>actor</td>\n",
              "      <td>Buffy 4</td>\n",
              "      <td>31.0</td>\n",
              "    </tr>\n",
              "    <tr>\n",
              "      <th>1</th>\n",
              "      <td>Suuri illusioni</td>\n",
              "      <td>1985</td>\n",
              "      <td>Homo $</td>\n",
              "      <td>actor</td>\n",
              "      <td>Guests</td>\n",
              "      <td>22.0</td>\n",
              "    </tr>\n",
              "    <tr>\n",
              "      <th>2</th>\n",
              "      <td>Battle of the Sexes</td>\n",
              "      <td>2017</td>\n",
              "      <td>$hutter</td>\n",
              "      <td>actor</td>\n",
              "      <td>Bobby Riggs Fan</td>\n",
              "      <td>10.0</td>\n",
              "    </tr>\n",
              "    <tr>\n",
              "      <th>3</th>\n",
              "      <td>Secret in Their Eyes</td>\n",
              "      <td>2015</td>\n",
              "      <td>$hutter</td>\n",
              "      <td>actor</td>\n",
              "      <td>2002 Dodger Fan</td>\n",
              "      <td>NaN</td>\n",
              "    </tr>\n",
              "    <tr>\n",
              "      <th>4</th>\n",
              "      <td>Steve Jobs</td>\n",
              "      <td>2015</td>\n",
              "      <td>$hutter</td>\n",
              "      <td>actor</td>\n",
              "      <td>1988 Opera House Patron</td>\n",
              "      <td>NaN</td>\n",
              "    </tr>\n",
              "  </tbody>\n",
              "</table>\n",
              "</div>"
            ],
            "text/plain": [
              "                  title  year      name   type                character     n\n",
              "0        Closet Monster  2015  Buffy #1  actor                  Buffy 4  31.0\n",
              "1       Suuri illusioni  1985    Homo $  actor                   Guests  22.0\n",
              "2   Battle of the Sexes  2017   $hutter  actor          Bobby Riggs Fan  10.0\n",
              "3  Secret in Their Eyes  2015   $hutter  actor          2002 Dodger Fan   NaN\n",
              "4            Steve Jobs  2015   $hutter  actor  1988 Opera House Patron   NaN"
            ]
          },
          "metadata": {
            "tags": []
          },
          "execution_count": 27
        }
      ]
    },
    {
      "cell_type": "markdown",
      "metadata": {
        "id": "cjWf6dpkzJEK"
      },
      "source": [
        "### 5. String Operation"
      ]
    },
    {
      "cell_type": "code",
      "metadata": {
        "id": "TqJHff7dL7Sp",
        "colab": {
          "base_uri": "https://localhost:8080/",
          "height": 80
        },
        "outputId": "c3d9510a-80a1-48fa-de4d-7b1025af67fa"
      },
      "source": [
        "t = title\n",
        "t[t['title'] == 'Maa']"
      ],
      "execution_count": null,
      "outputs": [
        {
          "output_type": "execute_result",
          "data": {
            "text/html": [
              "<div>\n",
              "<style scoped>\n",
              "    .dataframe tbody tr th:only-of-type {\n",
              "        vertical-align: middle;\n",
              "    }\n",
              "\n",
              "    .dataframe tbody tr th {\n",
              "        vertical-align: top;\n",
              "    }\n",
              "\n",
              "    .dataframe thead th {\n",
              "        text-align: right;\n",
              "    }\n",
              "</style>\n",
              "<table border=\"1\" class=\"dataframe\">\n",
              "  <thead>\n",
              "    <tr style=\"text-align: right;\">\n",
              "      <th></th>\n",
              "      <th>title</th>\n",
              "      <th>year</th>\n",
              "      <th>Unnamed: 2</th>\n",
              "    </tr>\n",
              "  </thead>\n",
              "  <tbody>\n",
              "    <tr>\n",
              "      <th>38880</th>\n",
              "      <td>Maa</td>\n",
              "      <td>1968</td>\n",
              "      <td>NaN</td>\n",
              "    </tr>\n",
              "  </tbody>\n",
              "</table>\n",
              "</div>"
            ],
            "text/plain": [
              "      title  year  Unnamed: 2\n",
              "38880   Maa  1968         NaN"
            ]
          },
          "metadata": {
            "tags": []
          },
          "execution_count": 26
        }
      ]
    },
    {
      "cell_type": "code",
      "metadata": {
        "colab": {
          "base_uri": "https://localhost:8080/",
          "height": 204
        },
        "id": "KXPCwntV0gDl",
        "outputId": "154e08c0-5ac3-4f03-c244-42dcd8ad995b"
      },
      "source": [
        "t[t['title'].str.startswith('Maa ')]. head()"
      ],
      "execution_count": null,
      "outputs": [
        {
          "output_type": "execute_result",
          "data": {
            "text/html": [
              "<div>\n",
              "<style scoped>\n",
              "    .dataframe tbody tr th:only-of-type {\n",
              "        vertical-align: middle;\n",
              "    }\n",
              "\n",
              "    .dataframe tbody tr th {\n",
              "        vertical-align: top;\n",
              "    }\n",
              "\n",
              "    .dataframe thead th {\n",
              "        text-align: right;\n",
              "    }\n",
              "</style>\n",
              "<table border=\"1\" class=\"dataframe\">\n",
              "  <thead>\n",
              "    <tr style=\"text-align: right;\">\n",
              "      <th></th>\n",
              "      <th>title</th>\n",
              "      <th>year</th>\n",
              "      <th>Unnamed: 2</th>\n",
              "    </tr>\n",
              "  </thead>\n",
              "  <tbody>\n",
              "    <tr>\n",
              "      <th>19</th>\n",
              "      <td>Maa Durga Shakti</td>\n",
              "      <td>1999</td>\n",
              "      <td>NaN</td>\n",
              "    </tr>\n",
              "    <tr>\n",
              "      <th>3046</th>\n",
              "      <td>Maa Aur Mamta</td>\n",
              "      <td>1970</td>\n",
              "      <td>NaN</td>\n",
              "    </tr>\n",
              "    <tr>\n",
              "      <th>7470</th>\n",
              "      <td>Maa Vaibhav Laxmi</td>\n",
              "      <td>1989</td>\n",
              "      <td>NaN</td>\n",
              "    </tr>\n",
              "    <tr>\n",
              "      <th>7933</th>\n",
              "      <td>Maa Kande Aaji Puate Pain</td>\n",
              "      <td>2002</td>\n",
              "      <td>NaN</td>\n",
              "    </tr>\n",
              "    <tr>\n",
              "      <th>17197</th>\n",
              "      <td>Maa al-Khatar</td>\n",
              "      <td>2016</td>\n",
              "      <td>NaN</td>\n",
              "    </tr>\n",
              "  </tbody>\n",
              "</table>\n",
              "</div>"
            ],
            "text/plain": [
              "                           title  year  Unnamed: 2\n",
              "19              Maa Durga Shakti  1999         NaN\n",
              "3046               Maa Aur Mamta  1970         NaN\n",
              "7470           Maa Vaibhav Laxmi  1989         NaN\n",
              "7933   Maa Kande Aaji Puate Pain  2002         NaN\n",
              "17197              Maa al-Khatar  2016         NaN"
            ]
          },
          "metadata": {
            "tags": []
          },
          "execution_count": 27
        }
      ]
    },
    {
      "cell_type": "markdown",
      "metadata": {
        "id": "O6q-22v11cqC"
      },
      "source": [
        "### 6. Count values"
      ]
    },
    {
      "cell_type": "code",
      "metadata": {
        "colab": {
          "base_uri": "https://localhost:8080/"
        },
        "id": "5Rf6Vdri08mY",
        "outputId": "2a217443-2d0b-4bde-c93c-0a2c1b0c1cdf"
      },
      "source": [
        "t['year'].value_counts()"
      ],
      "execution_count": null,
      "outputs": [
        {
          "output_type": "execute_result",
          "data": {
            "text/plain": [
              "2016                             2363\n",
              "2017                             2138\n",
              "2015                             1848\n",
              "2014                             1701\n",
              "2013                             1608\n",
              "                                 ... \n",
              " Rockola                            1\n",
              "1905                                1\n",
              " Koko yotaro march                  1\n",
              " si ese tiempo pudiera volver       1\n",
              " Yeon-ae-jo-jak-do                  1\n",
              "Name: year, Length: 127, dtype: int64"
            ]
          },
          "metadata": {
            "tags": []
          },
          "execution_count": 30
        }
      ]
    },
    {
      "cell_type": "markdown",
      "metadata": {
        "id": "35YjFjAK2wG3"
      },
      "source": [
        "### 7. Plots"
      ]
    },
    {
      "cell_type": "code",
      "metadata": {
        "colab": {
          "base_uri": "https://localhost:8080/",
          "height": 265
        },
        "id": "nDt8Wtcr1lde",
        "outputId": "962734af-7eb8-4142-ada0-05b7e6a8f003"
      },
      "source": [
        "import matplotlib.pyplot as plt\n",
        "p = t['year'].value_counts()\n",
        "p.plot()\n",
        "plt.show()"
      ],
      "execution_count": null,
      "outputs": [
        {
          "output_type": "display_data",
          "data": {
            "image/png": "[encoded data removed]",
            "text/plain": [
              "<Figure size 432x288 with 1 Axes>"
            ]
          },
          "metadata": {
            "tags": [],
            "needs_background": "light"
          }
        }
      ]
    },
    {
      "cell_type": "code",
      "metadata": {
        "colab": {
          "base_uri": "https://localhost:8080/",
          "height": 265
        },
        "id": "GG7n_vDy3nMD",
        "outputId": "7c653f82-164a-449b-ee2a-63651c2d0da1"
      },
      "source": [
        "p.sort_index().plot()\n",
        "plt.show()"
      ],
      "execution_count": null,
      "outputs": [
        {
          "output_type": "display_data",
          "data": {
            "image/png": "[encoded data removed]",
            "text/plain": [
              "<Figure size 432x288 with 1 Axes>"
            ]
          },
          "metadata": {
            "tags": [],
            "needs_background": "light"
          }
        }
      ]
    },
    {
      "cell_type": "markdown",
      "metadata": {
        "id": "r-miyYMd5MXK"
      },
      "source": [
        "## Groupby"
      ]
    },
    {
      "cell_type": "markdown",
      "metadata": {
        "id": "IDybciTs5U_-"
      },
      "source": [
        "### 1. Groupby  with column-names"
      ]
    },
    {
      "cell_type": "code",
      "metadata": {
        "colab": {
          "base_uri": "https://localhost:8080/",
          "height": 282
        },
        "id": "CaINbhjp3tXn",
        "outputId": "29b9a41e-aa0f-4561-e38c-f8c96990a031"
      },
      "source": [
        "c = cast\n",
        "cg = c.groupby(['year']).size()\n",
        "cg.plot()\n",
        "plt.show()"
      ],
      "execution_count": null,
      "outputs": [
        {
          "output_type": "display_data",
          "data": {
            "image/png": "[encoded data removed]",
            "text/plain": [
              "<Figure size 432x288 with 1 Axes>"
            ]
          },
          "metadata": {
            "tags": [],
            "needs_background": "light"
          }
        }
      ]
    },
    {
      "cell_type": "code",
      "metadata": {
        "colab": {
          "base_uri": "https://localhost:8080/"
        },
        "id": "R5aSJCPG7HZN",
        "outputId": "7e42360f-2772-4941-a7da-5583bbb4c6ee"
      },
      "source": [
        "cf = c[c['name'] == 'Aaron Abrams']\n",
        "cf.groupby(['year']).size()"
      ],
      "execution_count": null,
      "outputs": [
        {
          "output_type": "execute_result",
          "data": {
            "text/plain": [
              "year\n",
              "2003    2\n",
              "2004    2\n",
              "2005    2\n",
              "2006    1\n",
              "2007    2\n",
              "2008    1\n",
              "2009    2\n",
              "2011    5\n",
              "2013    1\n",
              "2015    2\n",
              "2017    2\n",
              "2018    1\n",
              "dtype: int64"
            ]
          },
          "metadata": {
            "tags": []
          },
          "execution_count": 32
        }
      ]
    },
    {
      "cell_type": "code",
      "metadata": {
        "id": "1tqD5e-Y7IHu",
        "colab": {
          "base_uri": "https://localhost:8080/"
        },
        "outputId": "4c13b8d6-707d-48cb-99eb-8c485d1b0334"
      },
      "source": [
        "cf.groupby(['year', 'title']).size()"
      ],
      "execution_count": null,
      "outputs": [
        {
          "output_type": "execute_result",
          "data": {
            "text/plain": [
              "year  title                               \n",
              "2003  The In-Laws                             1\n",
              "      The Visual Bible: The Gospel of John    1\n",
              "2004  Resident Evil: Apocalypse               1\n",
              "      Siblings                                1\n",
              "2005  Cinderella Man                          1\n",
              "      Sabah                                   1\n",
              "2006  Zoom                                    1\n",
              "2007  Firehouse Dog                           1\n",
              "      Young People Fucking                    1\n",
              "2008  Flash of Genius                         1\n",
              "2009  Amelia                                  1\n",
              "      At Home by Myself... with You           1\n",
              "2011  388 Arletta Avenue                      1\n",
              "      Jesus Henry Christ                      2\n",
              "      Take This Waltz                         1\n",
              "      The Chicago 8                           1\n",
              "2013  It Was You Charlie                      1\n",
              "2015  Closet Monster                          1\n",
              "      Regression                              1\n",
              "2017  #FromJennifer                           1\n",
              "      The Go-Getters                          1\n",
              "2018  Code 8                                  1\n",
              "dtype: int64"
            ]
          },
          "metadata": {
            "tags": []
          },
          "execution_count": 33
        }
      ]
    },
    {
      "cell_type": "code",
      "metadata": {
        "colab": {
          "base_uri": "https://localhost:8080/"
        },
        "id": "bC3JLV-li_UY",
        "outputId": "53cb1ef5-1da3-466e-e93a-d8877e5da81c"
      },
      "source": [
        "c.groupby(['year']).n.min().head()"
      ],
      "execution_count": null,
      "outputs": [
        {
          "output_type": "execute_result",
          "data": {
            "text/plain": [
              "year\n",
              "1912    6.0\n",
              "1913    1.0\n",
              "1914    1.0\n",
              "1915    1.0\n",
              "1916    1.0\n",
              "Name: n, dtype: float64"
            ]
          },
          "metadata": {
            "tags": []
          },
          "execution_count": 34
        }
      ]
    },
    {
      "cell_type": "code",
      "metadata": {
        "colab": {
          "base_uri": "https://localhost:8080/"
        },
        "id": "B_r3chmpjs_b",
        "outputId": "8f2dd7b7-b30c-4670-c1ec-b6fe74981b6b"
      },
      "source": [
        "c.groupby(['year']).size()"
      ],
      "execution_count": null,
      "outputs": [
        {
          "output_type": "execute_result",
          "data": {
            "text/plain": [
              "year\n",
              "1912       3\n",
              "1913      10\n",
              "1914      61\n",
              "1915      82\n",
              "1916     116\n",
              "        ... \n",
              "2017    2159\n",
              "2018     158\n",
              "2019      16\n",
              "2020       4\n",
              "2023       3\n",
              "Length: 110, dtype: int64"
            ]
          },
          "metadata": {
            "tags": []
          },
          "execution_count": 37
        }
      ]
    },
    {
      "cell_type": "code",
      "metadata": {
        "colab": {
          "base_uri": "https://localhost:8080/"
        },
        "id": "B1DkQCXMjRI0",
        "outputId": "8b12c173-0e6a-4db4-9334-2ae4463acf20"
      },
      "source": [
        "c.groupby([c['year'] == 1912]).size()"
      ],
      "execution_count": null,
      "outputs": [
        {
          "output_type": "execute_result",
          "data": {
            "text/plain": [
              "year\n",
              "False    74998\n",
              "True         3\n",
              "dtype: int64"
            ]
          },
          "metadata": {
            "tags": []
          },
          "execution_count": 38
        }
      ]
    },
    {
      "cell_type": "code",
      "metadata": {
        "colab": {
          "base_uri": "https://localhost:8080/"
        },
        "id": "igKudl2PkU8c",
        "outputId": "46468fea-2c44-41c9-9387-d4f206fa0063"
      },
      "source": [
        "c.groupby(['year']).n.mean().head()"
      ],
      "execution_count": null,
      "outputs": [
        {
          "output_type": "execute_result",
          "data": {
            "text/plain": [
              "year\n",
              "1912    6.000000\n",
              "1913    4.142857\n",
              "1914    7.085106\n",
              "1915    4.236111\n",
              "1916    5.037736\n",
              "Name: n, dtype: float64"
            ]
          },
          "metadata": {
            "tags": []
          },
          "execution_count": 39
        }
      ]
    },
    {
      "cell_type": "markdown",
      "metadata": {
        "id": "Y1pHKfQ_kuVS"
      },
      "source": [
        "### 2. Groupby with custom field"
      ]
    },
    {
      "cell_type": "code",
      "metadata": {
        "colab": {
          "base_uri": "https://localhost:8080/"
        },
        "id": "9q9N7UPul3Rn",
        "outputId": "0a62f68f-52af-4f19-d87a-260508214a7b"
      },
      "source": [
        "1985 // 10"
      ],
      "execution_count": null,
      "outputs": [
        {
          "output_type": "execute_result",
          "data": {
            "text/plain": [
              "198"
            ]
          },
          "metadata": {
            "tags": []
          },
          "execution_count": 36
        }
      ]
    },
    {
      "cell_type": "code",
      "metadata": {
        "colab": {
          "base_uri": "https://localhost:8080/"
        },
        "id": "I9LkwGF2l6-q",
        "outputId": "f42dfc24-a13b-4663-858d-9a2183e81526"
      },
      "source": [
        "1985 // 10*10"
      ],
      "execution_count": null,
      "outputs": [
        {
          "output_type": "execute_result",
          "data": {
            "text/plain": [
              "1980"
            ]
          },
          "metadata": {
            "tags": []
          },
          "execution_count": 37
        }
      ]
    },
    {
      "cell_type": "code",
      "metadata": {
        "id": "kQT0oC7gkl3w"
      },
      "source": [
        "# decade conversion 1985 // 10 = 198; 198 * 10 = 1980\n",
        "decade = c['year'] // 10 * 10\n",
        "c_dec = c.groupby(decade).n.size()"
      ],
      "execution_count": null,
      "outputs": []
    },
    {
      "cell_type": "code",
      "metadata": {
        "colab": {
          "base_uri": "https://localhost:8080/"
        },
        "id": "aL6DWgSKlB2w",
        "outputId": "be98f20c-2758-48d9-f598-9c77cfd42af3"
      },
      "source": [
        "c_dec"
      ],
      "execution_count": null,
      "outputs": [
        {
          "output_type": "execute_result",
          "data": {
            "text/plain": [
              "year\n",
              "1910      669\n",
              "1920     1121\n",
              "1930     3448\n",
              "1940     3997\n",
              "1950     3892\n",
              "1960     3743\n",
              "1970     4343\n",
              "1980     5554\n",
              "1990     7652\n",
              "2000    16199\n",
              "2010    24376\n",
              "2020        7\n",
              "Name: n, dtype: int64"
            ]
          },
          "metadata": {
            "tags": []
          },
          "execution_count": 43
        }
      ]
    },
    {
      "cell_type": "markdown",
      "metadata": {
        "id": "X3M29HftFuVu"
      },
      "source": [
        "## Unstack"
      ]
    },
    {
      "cell_type": "code",
      "metadata": {
        "colab": {
          "base_uri": "https://localhost:8080/",
          "height": 204
        },
        "id": "-KCyRIvfmm5Q",
        "outputId": "beb53de9-678e-4a98-f42f-89624e6c4187"
      },
      "source": [
        "cast.head()"
      ],
      "execution_count": null,
      "outputs": [
        {
          "output_type": "execute_result",
          "data": {
            "text/html": [
              "<div>\n",
              "<style scoped>\n",
              "    .dataframe tbody tr th:only-of-type {\n",
              "        vertical-align: middle;\n",
              "    }\n",
              "\n",
              "    .dataframe tbody tr th {\n",
              "        vertical-align: top;\n",
              "    }\n",
              "\n",
              "    .dataframe thead th {\n",
              "        text-align: right;\n",
              "    }\n",
              "</style>\n",
              "<table border=\"1\" class=\"dataframe\">\n",
              "  <thead>\n",
              "    <tr style=\"text-align: right;\">\n",
              "      <th></th>\n",
              "      <th>title</th>\n",
              "      <th>year</th>\n",
              "      <th>name</th>\n",
              "      <th>type</th>\n",
              "      <th>character</th>\n",
              "      <th>n</th>\n",
              "    </tr>\n",
              "  </thead>\n",
              "  <tbody>\n",
              "    <tr>\n",
              "      <th>0</th>\n",
              "      <td>Closet Monster</td>\n",
              "      <td>2015</td>\n",
              "      <td>Buffy #1</td>\n",
              "      <td>actor</td>\n",
              "      <td>Buffy 4</td>\n",
              "      <td>31.0</td>\n",
              "    </tr>\n",
              "    <tr>\n",
              "      <th>1</th>\n",
              "      <td>Suuri illusioni</td>\n",
              "      <td>1985</td>\n",
              "      <td>Homo $</td>\n",
              "      <td>actor</td>\n",
              "      <td>Guests</td>\n",
              "      <td>22.0</td>\n",
              "    </tr>\n",
              "    <tr>\n",
              "      <th>2</th>\n",
              "      <td>Battle of the Sexes</td>\n",
              "      <td>2017</td>\n",
              "      <td>$hutter</td>\n",
              "      <td>actor</td>\n",
              "      <td>Bobby Riggs Fan</td>\n",
              "      <td>10.0</td>\n",
              "    </tr>\n",
              "    <tr>\n",
              "      <th>3</th>\n",
              "      <td>Secret in Their Eyes</td>\n",
              "      <td>2015</td>\n",
              "      <td>$hutter</td>\n",
              "      <td>actor</td>\n",
              "      <td>2002 Dodger Fan</td>\n",
              "      <td>NaN</td>\n",
              "    </tr>\n",
              "    <tr>\n",
              "      <th>4</th>\n",
              "      <td>Steve Jobs</td>\n",
              "      <td>2015</td>\n",
              "      <td>$hutter</td>\n",
              "      <td>actor</td>\n",
              "      <td>1988 Opera House Patron</td>\n",
              "      <td>NaN</td>\n",
              "    </tr>\n",
              "  </tbody>\n",
              "</table>\n",
              "</div>"
            ],
            "text/plain": [
              "                  title  year      name   type                character     n\n",
              "0        Closet Monster  2015  Buffy #1  actor                  Buffy 4  31.0\n",
              "1       Suuri illusioni  1985    Homo $  actor                   Guests  22.0\n",
              "2   Battle of the Sexes  2017   $hutter  actor          Bobby Riggs Fan  10.0\n",
              "3  Secret in Their Eyes  2015   $hutter  actor          2002 Dodger Fan   NaN\n",
              "4            Steve Jobs  2015   $hutter  actor  1988 Opera House Patron   NaN"
            ]
          },
          "metadata": {
            "tags": []
          },
          "execution_count": 42
        }
      ]
    },
    {
      "cell_type": "code",
      "metadata": {
        "colab": {
          "base_uri": "https://localhost:8080/"
        },
        "id": "WouxjBQAFzNP",
        "outputId": "1225a54a-267f-4a25-cb4d-0e3fcec19d49"
      },
      "source": [
        "c = cast\n",
        "cast.groupby([c['year'] // 10 * 10, 'type']).size()"
      ],
      "execution_count": null,
      "outputs": [
        {
          "output_type": "execute_result",
          "data": {
            "text/plain": [
              "year  type   \n",
              "1910  actor        384\n",
              "      actress      285\n",
              "1920  actor        710\n",
              "      actress      411\n",
              "1930  actor       2628\n",
              "      actress      820\n",
              "1940  actor       3014\n",
              "      actress      983\n",
              "1950  actor       2877\n",
              "      actress     1015\n",
              "1960  actor       2775\n",
              "      actress      968\n",
              "1970  actor       3044\n",
              "      actress     1299\n",
              "1980  actor       3565\n",
              "      actress     1989\n",
              "1990  actor       5108\n",
              "      actress     2544\n",
              "2000  actor      10368\n",
              "      actress     5831\n",
              "2010  actor      15523\n",
              "      actress     8853\n",
              "2020  actor          4\n",
              "      actress        3\n",
              "dtype: int64"
            ]
          },
          "metadata": {
            "tags": []
          },
          "execution_count": 43
        }
      ]
    },
    {
      "cell_type": "code",
      "metadata": {
        "id": "mYdoeZH8GlNK",
        "colab": {
          "base_uri": "https://localhost:8080/",
          "height": 452
        },
        "outputId": "f61132e2-f193-419a-9230-619f641611a5"
      },
      "source": [
        "c_decade = cast.groupby([c['year'] // 10 * 10, 'type']).size()\n",
        "c_decade.unstack()"
      ],
      "execution_count": null,
      "outputs": [
        {
          "output_type": "execute_result",
          "data": {
            "text/html": [
              "<div>\n",
              "<style scoped>\n",
              "    .dataframe tbody tr th:only-of-type {\n",
              "        vertical-align: middle;\n",
              "    }\n",
              "\n",
              "    .dataframe tbody tr th {\n",
              "        vertical-align: top;\n",
              "    }\n",
              "\n",
              "    .dataframe thead th {\n",
              "        text-align: right;\n",
              "    }\n",
              "</style>\n",
              "<table border=\"1\" class=\"dataframe\">\n",
              "  <thead>\n",
              "    <tr style=\"text-align: right;\">\n",
              "      <th>type</th>\n",
              "      <th>actor</th>\n",
              "      <th>actress</th>\n",
              "    </tr>\n",
              "    <tr>\n",
              "      <th>year</th>\n",
              "      <th></th>\n",
              "      <th></th>\n",
              "    </tr>\n",
              "  </thead>\n",
              "  <tbody>\n",
              "    <tr>\n",
              "      <th>1910</th>\n",
              "      <td>384</td>\n",
              "      <td>285</td>\n",
              "    </tr>\n",
              "    <tr>\n",
              "      <th>1920</th>\n",
              "      <td>710</td>\n",
              "      <td>411</td>\n",
              "    </tr>\n",
              "    <tr>\n",
              "      <th>1930</th>\n",
              "      <td>2628</td>\n",
              "      <td>820</td>\n",
              "    </tr>\n",
              "    <tr>\n",
              "      <th>1940</th>\n",
              "      <td>3014</td>\n",
              "      <td>983</td>\n",
              "    </tr>\n",
              "    <tr>\n",
              "      <th>1950</th>\n",
              "      <td>2877</td>\n",
              "      <td>1015</td>\n",
              "    </tr>\n",
              "    <tr>\n",
              "      <th>1960</th>\n",
              "      <td>2775</td>\n",
              "      <td>968</td>\n",
              "    </tr>\n",
              "    <tr>\n",
              "      <th>1970</th>\n",
              "      <td>3044</td>\n",
              "      <td>1299</td>\n",
              "    </tr>\n",
              "    <tr>\n",
              "      <th>1980</th>\n",
              "      <td>3565</td>\n",
              "      <td>1989</td>\n",
              "    </tr>\n",
              "    <tr>\n",
              "      <th>1990</th>\n",
              "      <td>5108</td>\n",
              "      <td>2544</td>\n",
              "    </tr>\n",
              "    <tr>\n",
              "      <th>2000</th>\n",
              "      <td>10368</td>\n",
              "      <td>5831</td>\n",
              "    </tr>\n",
              "    <tr>\n",
              "      <th>2010</th>\n",
              "      <td>15523</td>\n",
              "      <td>8853</td>\n",
              "    </tr>\n",
              "    <tr>\n",
              "      <th>2020</th>\n",
              "      <td>4</td>\n",
              "      <td>3</td>\n",
              "    </tr>\n",
              "  </tbody>\n",
              "</table>\n",
              "</div>"
            ],
            "text/plain": [
              "type  actor  actress\n",
              "year                \n",
              "1910    384      285\n",
              "1920    710      411\n",
              "1930   2628      820\n",
              "1940   3014      983\n",
              "1950   2877     1015\n",
              "1960   2775      968\n",
              "1970   3044     1299\n",
              "1980   3565     1989\n",
              "1990   5108     2544\n",
              "2000  10368     5831\n",
              "2010  15523     8853\n",
              "2020      4        3"
            ]
          },
          "metadata": {
            "tags": []
          },
          "execution_count": 44
        }
      ]
    },
    {
      "cell_type": "code",
      "metadata": {
        "colab": {
          "base_uri": "https://localhost:8080/",
          "height": 142
        },
        "id": "NrMepsOzohNZ",
        "outputId": "8f7c2c87-6012-490e-92ce-7652547c9d0b"
      },
      "source": [
        "c_decade.unstack(0)"
      ],
      "execution_count": null,
      "outputs": [
        {
          "output_type": "execute_result",
          "data": {
            "text/html": [
              "<div>\n",
              "<style scoped>\n",
              "    .dataframe tbody tr th:only-of-type {\n",
              "        vertical-align: middle;\n",
              "    }\n",
              "\n",
              "    .dataframe tbody tr th {\n",
              "        vertical-align: top;\n",
              "    }\n",
              "\n",
              "    .dataframe thead th {\n",
              "        text-align: right;\n",
              "    }\n",
              "</style>\n",
              "<table border=\"1\" class=\"dataframe\">\n",
              "  <thead>\n",
              "    <tr style=\"text-align: right;\">\n",
              "      <th>year</th>\n",
              "      <th>1910</th>\n",
              "      <th>1920</th>\n",
              "      <th>1930</th>\n",
              "      <th>1940</th>\n",
              "      <th>1950</th>\n",
              "      <th>1960</th>\n",
              "      <th>1970</th>\n",
              "      <th>1980</th>\n",
              "      <th>1990</th>\n",
              "      <th>2000</th>\n",
              "      <th>2010</th>\n",
              "      <th>2020</th>\n",
              "    </tr>\n",
              "    <tr>\n",
              "      <th>type</th>\n",
              "      <th></th>\n",
              "      <th></th>\n",
              "      <th></th>\n",
              "      <th></th>\n",
              "      <th></th>\n",
              "      <th></th>\n",
              "      <th></th>\n",
              "      <th></th>\n",
              "      <th></th>\n",
              "      <th></th>\n",
              "      <th></th>\n",
              "      <th></th>\n",
              "    </tr>\n",
              "  </thead>\n",
              "  <tbody>\n",
              "    <tr>\n",
              "      <th>actor</th>\n",
              "      <td>384</td>\n",
              "      <td>710</td>\n",
              "      <td>2628</td>\n",
              "      <td>3014</td>\n",
              "      <td>2877</td>\n",
              "      <td>2775</td>\n",
              "      <td>3044</td>\n",
              "      <td>3565</td>\n",
              "      <td>5108</td>\n",
              "      <td>10368</td>\n",
              "      <td>15523</td>\n",
              "      <td>4</td>\n",
              "    </tr>\n",
              "    <tr>\n",
              "      <th>actress</th>\n",
              "      <td>285</td>\n",
              "      <td>411</td>\n",
              "      <td>820</td>\n",
              "      <td>983</td>\n",
              "      <td>1015</td>\n",
              "      <td>968</td>\n",
              "      <td>1299</td>\n",
              "      <td>1989</td>\n",
              "      <td>2544</td>\n",
              "      <td>5831</td>\n",
              "      <td>8853</td>\n",
              "      <td>3</td>\n",
              "    </tr>\n",
              "  </tbody>\n",
              "</table>\n",
              "</div>"
            ],
            "text/plain": [
              "year     1910  1920  1930  1940  1950  ...  1980  1990   2000   2010  2020\n",
              "type                                   ...                                \n",
              "actor     384   710  2628  3014  2877  ...  3565  5108  10368  15523     4\n",
              "actress   285   411   820   983  1015  ...  1989  2544   5831   8853     3\n",
              "\n",
              "[2 rows x 12 columns]"
            ]
          },
          "metadata": {
            "tags": []
          },
          "execution_count": 45
        }
      ]
    },
    {
      "cell_type": "code",
      "metadata": {
        "colab": {
          "base_uri": "https://localhost:8080/",
          "height": 280
        },
        "id": "rqIi_uKhnUqk",
        "outputId": "278d7128-b423-4ad6-c8fe-23dd91b38055"
      },
      "source": [
        "c_decade.unstack().plot()\n",
        "plt.show()"
      ],
      "execution_count": null,
      "outputs": [
        {
          "output_type": "display_data",
          "data": {
            "image/png": "[encoded data removed]",
            "text/plain": [
              "<Figure size 432x288 with 1 Axes>"
            ]
          },
          "metadata": {
            "tags": [],
            "needs_background": "light"
          }
        }
      ]
    },
    {
      "cell_type": "code",
      "metadata": {
        "colab": {
          "base_uri": "https://localhost:8080/",
          "height": 295
        },
        "id": "djy5wnzcntDA",
        "outputId": "a4fdf8fc-b110-4b71-b0f7-be8ecbac838d"
      },
      "source": [
        "c_decade.unstack().plot(kind='bar')\n",
        "plt.show()"
      ],
      "execution_count": null,
      "outputs": [
        {
          "output_type": "display_data",
          "data": {
            "image/png": "[encoded data removed]",
            "text/plain": [
              "<Figure size 432x288 with 1 Axes>"
            ]
          },
          "metadata": {
            "tags": [],
            "needs_background": "light"
          }
        }
      ]
    },
    {
      "cell_type": "code",
      "metadata": {
        "colab": {
          "base_uri": "https://localhost:8080/",
          "height": 305
        },
        "id": "q7ZOJPEtoJwC",
        "outputId": "c22fcfe8-63af-4da5-903b-fad72bec0e14"
      },
      "source": [
        "c_decade.unstack(0).plot(kind='bar')\n",
        "plt.show()"
      ],
      "execution_count": null,
      "outputs": [
        {
          "output_type": "display_data",
          "data": {
            "image/png": "[encoded data removed]",
            "text/plain": [
              "<Figure size 432x288 with 1 Axes>"
            ]
          },
          "metadata": {
            "tags": [],
            "needs_background": "light"
          }
        }
      ]
    },
    {
      "cell_type": "markdown",
      "metadata": {
        "id": "qfVjyD3wpgWz"
      },
      "source": [
        "## Merge"
      ]
    },
    {
      "cell_type": "markdown",
      "metadata": {
        "id": "cqD93otipl4j"
      },
      "source": [
        "### 1. Merge with different files"
      ]
    },
    {
      "cell_type": "code",
      "metadata": {
        "colab": {
          "base_uri": "https://localhost:8080/",
          "height": 204
        },
        "id": "w9h1dZA8pRML",
        "outputId": "7293785b-975a-4c39-dd70-7dc47c133b74"
      },
      "source": [
        "release.head()"
      ],
      "execution_count": null,
      "outputs": [
        {
          "output_type": "execute_result",
          "data": {
            "text/html": [
              "<div>\n",
              "<style scoped>\n",
              "    .dataframe tbody tr th:only-of-type {\n",
              "        vertical-align: middle;\n",
              "    }\n",
              "\n",
              "    .dataframe tbody tr th {\n",
              "        vertical-align: top;\n",
              "    }\n",
              "\n",
              "    .dataframe thead th {\n",
              "        text-align: right;\n",
              "    }\n",
              "</style>\n",
              "<table border=\"1\" class=\"dataframe\">\n",
              "  <thead>\n",
              "    <tr style=\"text-align: right;\">\n",
              "      <th></th>\n",
              "      <th>title</th>\n",
              "      <th>year</th>\n",
              "      <th>country</th>\n",
              "      <th>date</th>\n",
              "    </tr>\n",
              "  </thead>\n",
              "  <tbody>\n",
              "    <tr>\n",
              "      <th>0</th>\n",
              "      <td>#73, Shaanthi Nivaasa</td>\n",
              "      <td>2007</td>\n",
              "      <td>India</td>\n",
              "      <td>2007-06-15</td>\n",
              "    </tr>\n",
              "    <tr>\n",
              "      <th>1</th>\n",
              "      <td>#Beings</td>\n",
              "      <td>2015</td>\n",
              "      <td>Romania</td>\n",
              "      <td>2015-01-29</td>\n",
              "    </tr>\n",
              "    <tr>\n",
              "      <th>2</th>\n",
              "      <td>#Declimax</td>\n",
              "      <td>2018</td>\n",
              "      <td>Netherlands</td>\n",
              "      <td>2018-01-21</td>\n",
              "    </tr>\n",
              "    <tr>\n",
              "      <th>3</th>\n",
              "      <td>#Ewankosau saranghaeyo</td>\n",
              "      <td>2015</td>\n",
              "      <td>Philippines</td>\n",
              "      <td>2015-01-21</td>\n",
              "    </tr>\n",
              "    <tr>\n",
              "      <th>4</th>\n",
              "      <td>#Horror</td>\n",
              "      <td>2015</td>\n",
              "      <td>USA</td>\n",
              "      <td>2015-11-20</td>\n",
              "    </tr>\n",
              "  </tbody>\n",
              "</table>\n",
              "</div>"
            ],
            "text/plain": [
              "                    title  year      country        date\n",
              "0   #73, Shaanthi Nivaasa  2007        India  2007-06-15\n",
              "1                 #Beings  2015      Romania  2015-01-29\n",
              "2               #Declimax  2018  Netherlands  2018-01-21\n",
              "3  #Ewankosau saranghaeyo  2015  Philippines  2015-01-21\n",
              "4                 #Horror  2015          USA  2015-11-20"
            ]
          },
          "metadata": {
            "tags": []
          },
          "execution_count": 61
        }
      ]
    },
    {
      "cell_type": "code",
      "metadata": {
        "colab": {
          "base_uri": "https://localhost:8080/",
          "height": 111
        },
        "id": "gP4tFzVGqyKk",
        "outputId": "e8840be0-9fc1-45e6-c2b5-ee1a32504731"
      },
      "source": [
        "c_amelia = cast[cast['title'] == 'Amelia']\n",
        "c_amelia"
      ],
      "execution_count": null,
      "outputs": [
        {
          "output_type": "execute_result",
          "data": {
            "text/html": [
              "<div>\n",
              "<style scoped>\n",
              "    .dataframe tbody tr th:only-of-type {\n",
              "        vertical-align: middle;\n",
              "    }\n",
              "\n",
              "    .dataframe tbody tr th {\n",
              "        vertical-align: top;\n",
              "    }\n",
              "\n",
              "    .dataframe thead th {\n",
              "        text-align: right;\n",
              "    }\n",
              "</style>\n",
              "<table border=\"1\" class=\"dataframe\">\n",
              "  <thead>\n",
              "    <tr style=\"text-align: right;\">\n",
              "      <th></th>\n",
              "      <th>title</th>\n",
              "      <th>year</th>\n",
              "      <th>name</th>\n",
              "      <th>type</th>\n",
              "      <th>character</th>\n",
              "      <th>n</th>\n",
              "    </tr>\n",
              "  </thead>\n",
              "  <tbody>\n",
              "    <tr>\n",
              "      <th>5767</th>\n",
              "      <td>Amelia</td>\n",
              "      <td>2009</td>\n",
              "      <td>Aaron Abrams</td>\n",
              "      <td>actor</td>\n",
              "      <td>Slim Gordon</td>\n",
              "      <td>8.0</td>\n",
              "    </tr>\n",
              "    <tr>\n",
              "      <th>23319</th>\n",
              "      <td>Amelia</td>\n",
              "      <td>2009</td>\n",
              "      <td>Jeremy Akerman</td>\n",
              "      <td>actor</td>\n",
              "      <td>Sheriff</td>\n",
              "      <td>19.0</td>\n",
              "    </tr>\n",
              "  </tbody>\n",
              "</table>\n",
              "</div>"
            ],
            "text/plain": [
              "        title  year            name   type    character     n\n",
              "5767   Amelia  2009    Aaron Abrams  actor  Slim Gordon   8.0\n",
              "23319  Amelia  2009  Jeremy Akerman  actor      Sheriff  19.0"
            ]
          },
          "metadata": {
            "tags": []
          },
          "execution_count": 62
        }
      ]
    },
    {
      "cell_type": "code",
      "metadata": {
        "colab": {
          "base_uri": "https://localhost:8080/",
          "height": 824
        },
        "id": "9eb1G2ZmrBur",
        "outputId": "4f556d02-df1d-49d4-da1a-bdf79dd03ffe"
      },
      "source": [
        "release[release['title'] == 'Amelia']"
      ],
      "execution_count": null,
      "outputs": [
        {
          "output_type": "execute_result",
          "data": {
            "text/html": [
              "<div>\n",
              "<style scoped>\n",
              "    .dataframe tbody tr th:only-of-type {\n",
              "        vertical-align: middle;\n",
              "    }\n",
              "\n",
              "    .dataframe tbody tr th {\n",
              "        vertical-align: top;\n",
              "    }\n",
              "\n",
              "    .dataframe thead th {\n",
              "        text-align: right;\n",
              "    }\n",
              "</style>\n",
              "<table border=\"1\" class=\"dataframe\">\n",
              "  <thead>\n",
              "    <tr style=\"text-align: right;\">\n",
              "      <th></th>\n",
              "      <th>title</th>\n",
              "      <th>year</th>\n",
              "      <th>country</th>\n",
              "      <th>date</th>\n",
              "    </tr>\n",
              "  </thead>\n",
              "  <tbody>\n",
              "    <tr>\n",
              "      <th>20543</th>\n",
              "      <td>Amelia</td>\n",
              "      <td>1966</td>\n",
              "      <td>Mexico</td>\n",
              "      <td>1966-03-10</td>\n",
              "    </tr>\n",
              "    <tr>\n",
              "      <th>20544</th>\n",
              "      <td>Amelia</td>\n",
              "      <td>2009</td>\n",
              "      <td>Canada</td>\n",
              "      <td>2009-10-23</td>\n",
              "    </tr>\n",
              "    <tr>\n",
              "      <th>20545</th>\n",
              "      <td>Amelia</td>\n",
              "      <td>2009</td>\n",
              "      <td>USA</td>\n",
              "      <td>2009-10-23</td>\n",
              "    </tr>\n",
              "    <tr>\n",
              "      <th>20546</th>\n",
              "      <td>Amelia</td>\n",
              "      <td>2009</td>\n",
              "      <td>Australia</td>\n",
              "      <td>2009-11-12</td>\n",
              "    </tr>\n",
              "    <tr>\n",
              "      <th>20547</th>\n",
              "      <td>Amelia</td>\n",
              "      <td>2009</td>\n",
              "      <td>Singapore</td>\n",
              "      <td>2009-11-12</td>\n",
              "    </tr>\n",
              "    <tr>\n",
              "      <th>20548</th>\n",
              "      <td>Amelia</td>\n",
              "      <td>2009</td>\n",
              "      <td>Ireland</td>\n",
              "      <td>2009-11-13</td>\n",
              "    </tr>\n",
              "    <tr>\n",
              "      <th>20549</th>\n",
              "      <td>Amelia</td>\n",
              "      <td>2009</td>\n",
              "      <td>Mexico</td>\n",
              "      <td>2009-11-13</td>\n",
              "    </tr>\n",
              "    <tr>\n",
              "      <th>20550</th>\n",
              "      <td>Amelia</td>\n",
              "      <td>2009</td>\n",
              "      <td>UK</td>\n",
              "      <td>2009-11-13</td>\n",
              "    </tr>\n",
              "    <tr>\n",
              "      <th>20551</th>\n",
              "      <td>Amelia</td>\n",
              "      <td>2009</td>\n",
              "      <td>Spain</td>\n",
              "      <td>2009-11-20</td>\n",
              "    </tr>\n",
              "    <tr>\n",
              "      <th>20552</th>\n",
              "      <td>Amelia</td>\n",
              "      <td>2009</td>\n",
              "      <td>Philippines</td>\n",
              "      <td>2009-12-02</td>\n",
              "    </tr>\n",
              "    <tr>\n",
              "      <th>20553</th>\n",
              "      <td>Amelia</td>\n",
              "      <td>2009</td>\n",
              "      <td>Italy</td>\n",
              "      <td>2009-12-23</td>\n",
              "    </tr>\n",
              "    <tr>\n",
              "      <th>20554</th>\n",
              "      <td>Amelia</td>\n",
              "      <td>2009</td>\n",
              "      <td>Sweden</td>\n",
              "      <td>2010-01-01</td>\n",
              "    </tr>\n",
              "    <tr>\n",
              "      <th>20555</th>\n",
              "      <td>Amelia</td>\n",
              "      <td>2009</td>\n",
              "      <td>Turkey</td>\n",
              "      <td>2010-01-08</td>\n",
              "    </tr>\n",
              "    <tr>\n",
              "      <th>20556</th>\n",
              "      <td>Amelia</td>\n",
              "      <td>2009</td>\n",
              "      <td>Belarus</td>\n",
              "      <td>2010-01-14</td>\n",
              "    </tr>\n",
              "    <tr>\n",
              "      <th>20557</th>\n",
              "      <td>Amelia</td>\n",
              "      <td>2009</td>\n",
              "      <td>Kazakhstan</td>\n",
              "      <td>2010-01-14</td>\n",
              "    </tr>\n",
              "    <tr>\n",
              "      <th>20558</th>\n",
              "      <td>Amelia</td>\n",
              "      <td>2009</td>\n",
              "      <td>Russia</td>\n",
              "      <td>2010-01-14</td>\n",
              "    </tr>\n",
              "    <tr>\n",
              "      <th>20559</th>\n",
              "      <td>Amelia</td>\n",
              "      <td>2009</td>\n",
              "      <td>Greece</td>\n",
              "      <td>2010-01-21</td>\n",
              "    </tr>\n",
              "    <tr>\n",
              "      <th>20560</th>\n",
              "      <td>Amelia</td>\n",
              "      <td>2009</td>\n",
              "      <td>Poland</td>\n",
              "      <td>2010-02-12</td>\n",
              "    </tr>\n",
              "    <tr>\n",
              "      <th>20561</th>\n",
              "      <td>Amelia</td>\n",
              "      <td>2009</td>\n",
              "      <td>Belgium</td>\n",
              "      <td>2010-03-03</td>\n",
              "    </tr>\n",
              "    <tr>\n",
              "      <th>20562</th>\n",
              "      <td>Amelia</td>\n",
              "      <td>2009</td>\n",
              "      <td>India</td>\n",
              "      <td>2010-03-12</td>\n",
              "    </tr>\n",
              "    <tr>\n",
              "      <th>20563</th>\n",
              "      <td>Amelia</td>\n",
              "      <td>2009</td>\n",
              "      <td>Netherlands</td>\n",
              "      <td>2010-03-25</td>\n",
              "    </tr>\n",
              "    <tr>\n",
              "      <th>20564</th>\n",
              "      <td>Amelia</td>\n",
              "      <td>2009</td>\n",
              "      <td>Brazil</td>\n",
              "      <td>2010-03-26</td>\n",
              "    </tr>\n",
              "    <tr>\n",
              "      <th>20565</th>\n",
              "      <td>Amelia</td>\n",
              "      <td>2009</td>\n",
              "      <td>France</td>\n",
              "      <td>2010-04-14</td>\n",
              "    </tr>\n",
              "    <tr>\n",
              "      <th>20566</th>\n",
              "      <td>Amelia</td>\n",
              "      <td>2009</td>\n",
              "      <td>Germany</td>\n",
              "      <td>2010-06-17</td>\n",
              "    </tr>\n",
              "    <tr>\n",
              "      <th>20567</th>\n",
              "      <td>Amelia</td>\n",
              "      <td>2009</td>\n",
              "      <td>Japan</td>\n",
              "      <td>2010-11-27</td>\n",
              "    </tr>\n",
              "  </tbody>\n",
              "</table>\n",
              "</div>"
            ],
            "text/plain": [
              "        title  year      country        date\n",
              "20543  Amelia  1966       Mexico  1966-03-10\n",
              "20544  Amelia  2009       Canada  2009-10-23\n",
              "20545  Amelia  2009          USA  2009-10-23\n",
              "20546  Amelia  2009    Australia  2009-11-12\n",
              "20547  Amelia  2009    Singapore  2009-11-12\n",
              "20548  Amelia  2009      Ireland  2009-11-13\n",
              "20549  Amelia  2009       Mexico  2009-11-13\n",
              "20550  Amelia  2009           UK  2009-11-13\n",
              "20551  Amelia  2009        Spain  2009-11-20\n",
              "20552  Amelia  2009  Philippines  2009-12-02\n",
              "20553  Amelia  2009        Italy  2009-12-23\n",
              "20554  Amelia  2009       Sweden  2010-01-01\n",
              "20555  Amelia  2009       Turkey  2010-01-08\n",
              "20556  Amelia  2009      Belarus  2010-01-14\n",
              "20557  Amelia  2009   Kazakhstan  2010-01-14\n",
              "20558  Amelia  2009       Russia  2010-01-14\n",
              "20559  Amelia  2009       Greece  2010-01-21\n",
              "20560  Amelia  2009       Poland  2010-02-12\n",
              "20561  Amelia  2009      Belgium  2010-03-03\n",
              "20562  Amelia  2009        India  2010-03-12\n",
              "20563  Amelia  2009  Netherlands  2010-03-25\n",
              "20564  Amelia  2009       Brazil  2010-03-26\n",
              "20565  Amelia  2009       France  2010-04-14\n",
              "20566  Amelia  2009      Germany  2010-06-17\n",
              "20567  Amelia  2009        Japan  2010-11-27"
            ]
          },
          "metadata": {
            "tags": []
          },
          "execution_count": 63
        }
      ]
    },
    {
      "cell_type": "code",
      "metadata": {
        "colab": {
          "base_uri": "https://localhost:8080/",
          "height": 1000
        },
        "id": "XV5Gq70asD6g",
        "outputId": "fc1227b1-cbab-4d9b-f528-da48e6e29bdb"
      },
      "source": [
        "c_amelia.merge(release)"
      ],
      "execution_count": null,
      "outputs": [
        {
          "output_type": "execute_result",
          "data": {
            "text/html": [
              "<div>\n",
              "<style scoped>\n",
              "    .dataframe tbody tr th:only-of-type {\n",
              "        vertical-align: middle;\n",
              "    }\n",
              "\n",
              "    .dataframe tbody tr th {\n",
              "        vertical-align: top;\n",
              "    }\n",
              "\n",
              "    .dataframe thead th {\n",
              "        text-align: right;\n",
              "    }\n",
              "</style>\n",
              "<table border=\"1\" class=\"dataframe\">\n",
              "  <thead>\n",
              "    <tr style=\"text-align: right;\">\n",
              "      <th></th>\n",
              "      <th>title</th>\n",
              "      <th>year</th>\n",
              "      <th>name</th>\n",
              "      <th>type</th>\n",
              "      <th>character</th>\n",
              "      <th>n</th>\n",
              "      <th>country</th>\n",
              "      <th>date</th>\n",
              "    </tr>\n",
              "  </thead>\n",
              "  <tbody>\n",
              "    <tr>\n",
              "      <th>0</th>\n",
              "      <td>Amelia</td>\n",
              "      <td>2009</td>\n",
              "      <td>Aaron Abrams</td>\n",
              "      <td>actor</td>\n",
              "      <td>Slim Gordon</td>\n",
              "      <td>8.0</td>\n",
              "      <td>Canada</td>\n",
              "      <td>2009-10-23</td>\n",
              "    </tr>\n",
              "    <tr>\n",
              "      <th>1</th>\n",
              "      <td>Amelia</td>\n",
              "      <td>2009</td>\n",
              "      <td>Aaron Abrams</td>\n",
              "      <td>actor</td>\n",
              "      <td>Slim Gordon</td>\n",
              "      <td>8.0</td>\n",
              "      <td>USA</td>\n",
              "      <td>2009-10-23</td>\n",
              "    </tr>\n",
              "    <tr>\n",
              "      <th>2</th>\n",
              "      <td>Amelia</td>\n",
              "      <td>2009</td>\n",
              "      <td>Aaron Abrams</td>\n",
              "      <td>actor</td>\n",
              "      <td>Slim Gordon</td>\n",
              "      <td>8.0</td>\n",
              "      <td>Australia</td>\n",
              "      <td>2009-11-12</td>\n",
              "    </tr>\n",
              "    <tr>\n",
              "      <th>3</th>\n",
              "      <td>Amelia</td>\n",
              "      <td>2009</td>\n",
              "      <td>Aaron Abrams</td>\n",
              "      <td>actor</td>\n",
              "      <td>Slim Gordon</td>\n",
              "      <td>8.0</td>\n",
              "      <td>Singapore</td>\n",
              "      <td>2009-11-12</td>\n",
              "    </tr>\n",
              "    <tr>\n",
              "      <th>4</th>\n",
              "      <td>Amelia</td>\n",
              "      <td>2009</td>\n",
              "      <td>Aaron Abrams</td>\n",
              "      <td>actor</td>\n",
              "      <td>Slim Gordon</td>\n",
              "      <td>8.0</td>\n",
              "      <td>Ireland</td>\n",
              "      <td>2009-11-13</td>\n",
              "    </tr>\n",
              "    <tr>\n",
              "      <th>5</th>\n",
              "      <td>Amelia</td>\n",
              "      <td>2009</td>\n",
              "      <td>Aaron Abrams</td>\n",
              "      <td>actor</td>\n",
              "      <td>Slim Gordon</td>\n",
              "      <td>8.0</td>\n",
              "      <td>Mexico</td>\n",
              "      <td>2009-11-13</td>\n",
              "    </tr>\n",
              "    <tr>\n",
              "      <th>6</th>\n",
              "      <td>Amelia</td>\n",
              "      <td>2009</td>\n",
              "      <td>Aaron Abrams</td>\n",
              "      <td>actor</td>\n",
              "      <td>Slim Gordon</td>\n",
              "      <td>8.0</td>\n",
              "      <td>UK</td>\n",
              "      <td>2009-11-13</td>\n",
              "    </tr>\n",
              "    <tr>\n",
              "      <th>7</th>\n",
              "      <td>Amelia</td>\n",
              "      <td>2009</td>\n",
              "      <td>Aaron Abrams</td>\n",
              "      <td>actor</td>\n",
              "      <td>Slim Gordon</td>\n",
              "      <td>8.0</td>\n",
              "      <td>Spain</td>\n",
              "      <td>2009-11-20</td>\n",
              "    </tr>\n",
              "    <tr>\n",
              "      <th>8</th>\n",
              "      <td>Amelia</td>\n",
              "      <td>2009</td>\n",
              "      <td>Aaron Abrams</td>\n",
              "      <td>actor</td>\n",
              "      <td>Slim Gordon</td>\n",
              "      <td>8.0</td>\n",
              "      <td>Philippines</td>\n",
              "      <td>2009-12-02</td>\n",
              "    </tr>\n",
              "    <tr>\n",
              "      <th>9</th>\n",
              "      <td>Amelia</td>\n",
              "      <td>2009</td>\n",
              "      <td>Aaron Abrams</td>\n",
              "      <td>actor</td>\n",
              "      <td>Slim Gordon</td>\n",
              "      <td>8.0</td>\n",
              "      <td>Italy</td>\n",
              "      <td>2009-12-23</td>\n",
              "    </tr>\n",
              "    <tr>\n",
              "      <th>10</th>\n",
              "      <td>Amelia</td>\n",
              "      <td>2009</td>\n",
              "      <td>Aaron Abrams</td>\n",
              "      <td>actor</td>\n",
              "      <td>Slim Gordon</td>\n",
              "      <td>8.0</td>\n",
              "      <td>Sweden</td>\n",
              "      <td>2010-01-01</td>\n",
              "    </tr>\n",
              "    <tr>\n",
              "      <th>11</th>\n",
              "      <td>Amelia</td>\n",
              "      <td>2009</td>\n",
              "      <td>Aaron Abrams</td>\n",
              "      <td>actor</td>\n",
              "      <td>Slim Gordon</td>\n",
              "      <td>8.0</td>\n",
              "      <td>Turkey</td>\n",
              "      <td>2010-01-08</td>\n",
              "    </tr>\n",
              "    <tr>\n",
              "      <th>12</th>\n",
              "      <td>Amelia</td>\n",
              "      <td>2009</td>\n",
              "      <td>Aaron Abrams</td>\n",
              "      <td>actor</td>\n",
              "      <td>Slim Gordon</td>\n",
              "      <td>8.0</td>\n",
              "      <td>Belarus</td>\n",
              "      <td>2010-01-14</td>\n",
              "    </tr>\n",
              "    <tr>\n",
              "      <th>13</th>\n",
              "      <td>Amelia</td>\n",
              "      <td>2009</td>\n",
              "      <td>Aaron Abrams</td>\n",
              "      <td>actor</td>\n",
              "      <td>Slim Gordon</td>\n",
              "      <td>8.0</td>\n",
              "      <td>Kazakhstan</td>\n",
              "      <td>2010-01-14</td>\n",
              "    </tr>\n",
              "    <tr>\n",
              "      <th>14</th>\n",
              "      <td>Amelia</td>\n",
              "      <td>2009</td>\n",
              "      <td>Aaron Abrams</td>\n",
              "      <td>actor</td>\n",
              "      <td>Slim Gordon</td>\n",
              "      <td>8.0</td>\n",
              "      <td>Russia</td>\n",
              "      <td>2010-01-14</td>\n",
              "    </tr>\n",
              "    <tr>\n",
              "      <th>15</th>\n",
              "      <td>Amelia</td>\n",
              "      <td>2009</td>\n",
              "      <td>Aaron Abrams</td>\n",
              "      <td>actor</td>\n",
              "      <td>Slim Gordon</td>\n",
              "      <td>8.0</td>\n",
              "      <td>Greece</td>\n",
              "      <td>2010-01-21</td>\n",
              "    </tr>\n",
              "    <tr>\n",
              "      <th>16</th>\n",
              "      <td>Amelia</td>\n",
              "      <td>2009</td>\n",
              "      <td>Aaron Abrams</td>\n",
              "      <td>actor</td>\n",
              "      <td>Slim Gordon</td>\n",
              "      <td>8.0</td>\n",
              "      <td>Poland</td>\n",
              "      <td>2010-02-12</td>\n",
              "    </tr>\n",
              "    <tr>\n",
              "      <th>17</th>\n",
              "      <td>Amelia</td>\n",
              "      <td>2009</td>\n",
              "      <td>Aaron Abrams</td>\n",
              "      <td>actor</td>\n",
              "      <td>Slim Gordon</td>\n",
              "      <td>8.0</td>\n",
              "      <td>Belgium</td>\n",
              "      <td>2010-03-03</td>\n",
              "    </tr>\n",
              "    <tr>\n",
              "      <th>18</th>\n",
              "      <td>Amelia</td>\n",
              "      <td>2009</td>\n",
              "      <td>Aaron Abrams</td>\n",
              "      <td>actor</td>\n",
              "      <td>Slim Gordon</td>\n",
              "      <td>8.0</td>\n",
              "      <td>India</td>\n",
              "      <td>2010-03-12</td>\n",
              "    </tr>\n",
              "    <tr>\n",
              "      <th>19</th>\n",
              "      <td>Amelia</td>\n",
              "      <td>2009</td>\n",
              "      <td>Aaron Abrams</td>\n",
              "      <td>actor</td>\n",
              "      <td>Slim Gordon</td>\n",
              "      <td>8.0</td>\n",
              "      <td>Netherlands</td>\n",
              "      <td>2010-03-25</td>\n",
              "    </tr>\n",
              "    <tr>\n",
              "      <th>20</th>\n",
              "      <td>Amelia</td>\n",
              "      <td>2009</td>\n",
              "      <td>Aaron Abrams</td>\n",
              "      <td>actor</td>\n",
              "      <td>Slim Gordon</td>\n",
              "      <td>8.0</td>\n",
              "      <td>Brazil</td>\n",
              "      <td>2010-03-26</td>\n",
              "    </tr>\n",
              "    <tr>\n",
              "      <th>21</th>\n",
              "      <td>Amelia</td>\n",
              "      <td>2009</td>\n",
              "      <td>Aaron Abrams</td>\n",
              "      <td>actor</td>\n",
              "      <td>Slim Gordon</td>\n",
              "      <td>8.0</td>\n",
              "      <td>France</td>\n",
              "      <td>2010-04-14</td>\n",
              "    </tr>\n",
              "    <tr>\n",
              "      <th>22</th>\n",
              "      <td>Amelia</td>\n",
              "      <td>2009</td>\n",
              "      <td>Aaron Abrams</td>\n",
              "      <td>actor</td>\n",
              "      <td>Slim Gordon</td>\n",
              "      <td>8.0</td>\n",
              "      <td>Germany</td>\n",
              "      <td>2010-06-17</td>\n",
              "    </tr>\n",
              "    <tr>\n",
              "      <th>23</th>\n",
              "      <td>Amelia</td>\n",
              "      <td>2009</td>\n",
              "      <td>Aaron Abrams</td>\n",
              "      <td>actor</td>\n",
              "      <td>Slim Gordon</td>\n",
              "      <td>8.0</td>\n",
              "      <td>Japan</td>\n",
              "      <td>2010-11-27</td>\n",
              "    </tr>\n",
              "    <tr>\n",
              "      <th>24</th>\n",
              "      <td>Amelia</td>\n",
              "      <td>2009</td>\n",
              "      <td>Jeremy Akerman</td>\n",
              "      <td>actor</td>\n",
              "      <td>Sheriff</td>\n",
              "      <td>19.0</td>\n",
              "      <td>Canada</td>\n",
              "      <td>2009-10-23</td>\n",
              "    </tr>\n",
              "    <tr>\n",
              "      <th>25</th>\n",
              "      <td>Amelia</td>\n",
              "      <td>2009</td>\n",
              "      <td>Jeremy Akerman</td>\n",
              "      <td>actor</td>\n",
              "      <td>Sheriff</td>\n",
              "      <td>19.0</td>\n",
              "      <td>USA</td>\n",
              "      <td>2009-10-23</td>\n",
              "    </tr>\n",
              "    <tr>\n",
              "      <th>26</th>\n",
              "      <td>Amelia</td>\n",
              "      <td>2009</td>\n",
              "      <td>Jeremy Akerman</td>\n",
              "      <td>actor</td>\n",
              "      <td>Sheriff</td>\n",
              "      <td>19.0</td>\n",
              "      <td>Australia</td>\n",
              "      <td>2009-11-12</td>\n",
              "    </tr>\n",
              "    <tr>\n",
              "      <th>27</th>\n",
              "      <td>Amelia</td>\n",
              "      <td>2009</td>\n",
              "      <td>Jeremy Akerman</td>\n",
              "      <td>actor</td>\n",
              "      <td>Sheriff</td>\n",
              "      <td>19.0</td>\n",
              "      <td>Singapore</td>\n",
              "      <td>2009-11-12</td>\n",
              "    </tr>\n",
              "    <tr>\n",
              "      <th>28</th>\n",
              "      <td>Amelia</td>\n",
              "      <td>2009</td>\n",
              "      <td>Jeremy Akerman</td>\n",
              "      <td>actor</td>\n",
              "      <td>Sheriff</td>\n",
              "      <td>19.0</td>\n",
              "      <td>Ireland</td>\n",
              "      <td>2009-11-13</td>\n",
              "    </tr>\n",
              "    <tr>\n",
              "      <th>29</th>\n",
              "      <td>Amelia</td>\n",
              "      <td>2009</td>\n",
              "      <td>Jeremy Akerman</td>\n",
              "      <td>actor</td>\n",
              "      <td>Sheriff</td>\n",
              "      <td>19.0</td>\n",
              "      <td>Mexico</td>\n",
              "      <td>2009-11-13</td>\n",
              "    </tr>\n",
              "    <tr>\n",
              "      <th>30</th>\n",
              "      <td>Amelia</td>\n",
              "      <td>2009</td>\n",
              "      <td>Jeremy Akerman</td>\n",
              "      <td>actor</td>\n",
              "      <td>Sheriff</td>\n",
              "      <td>19.0</td>\n",
              "      <td>UK</td>\n",
              "      <td>2009-11-13</td>\n",
              "    </tr>\n",
              "    <tr>\n",
              "      <th>31</th>\n",
              "      <td>Amelia</td>\n",
              "      <td>2009</td>\n",
              "      <td>Jeremy Akerman</td>\n",
              "      <td>actor</td>\n",
              "      <td>Sheriff</td>\n",
              "      <td>19.0</td>\n",
              "      <td>Spain</td>\n",
              "      <td>2009-11-20</td>\n",
              "    </tr>\n",
              "    <tr>\n",
              "      <th>32</th>\n",
              "      <td>Amelia</td>\n",
              "      <td>2009</td>\n",
              "      <td>Jeremy Akerman</td>\n",
              "      <td>actor</td>\n",
              "      <td>Sheriff</td>\n",
              "      <td>19.0</td>\n",
              "      <td>Philippines</td>\n",
              "      <td>2009-12-02</td>\n",
              "    </tr>\n",
              "    <tr>\n",
              "      <th>33</th>\n",
              "      <td>Amelia</td>\n",
              "      <td>2009</td>\n",
              "      <td>Jeremy Akerman</td>\n",
              "      <td>actor</td>\n",
              "      <td>Sheriff</td>\n",
              "      <td>19.0</td>\n",
              "      <td>Italy</td>\n",
              "      <td>2009-12-23</td>\n",
              "    </tr>\n",
              "    <tr>\n",
              "      <th>34</th>\n",
              "      <td>Amelia</td>\n",
              "      <td>2009</td>\n",
              "      <td>Jeremy Akerman</td>\n",
              "      <td>actor</td>\n",
              "      <td>Sheriff</td>\n",
              "      <td>19.0</td>\n",
              "      <td>Sweden</td>\n",
              "      <td>2010-01-01</td>\n",
              "    </tr>\n",
              "    <tr>\n",
              "      <th>35</th>\n",
              "      <td>Amelia</td>\n",
              "      <td>2009</td>\n",
              "      <td>Jeremy Akerman</td>\n",
              "      <td>actor</td>\n",
              "      <td>Sheriff</td>\n",
              "      <td>19.0</td>\n",
              "      <td>Turkey</td>\n",
              "      <td>2010-01-08</td>\n",
              "    </tr>\n",
              "    <tr>\n",
              "      <th>36</th>\n",
              "      <td>Amelia</td>\n",
              "      <td>2009</td>\n",
              "      <td>Jeremy Akerman</td>\n",
              "      <td>actor</td>\n",
              "      <td>Sheriff</td>\n",
              "      <td>19.0</td>\n",
              "      <td>Belarus</td>\n",
              "      <td>2010-01-14</td>\n",
              "    </tr>\n",
              "    <tr>\n",
              "      <th>37</th>\n",
              "      <td>Amelia</td>\n",
              "      <td>2009</td>\n",
              "      <td>Jeremy Akerman</td>\n",
              "      <td>actor</td>\n",
              "      <td>Sheriff</td>\n",
              "      <td>19.0</td>\n",
              "      <td>Kazakhstan</td>\n",
              "      <td>2010-01-14</td>\n",
              "    </tr>\n",
              "    <tr>\n",
              "      <th>38</th>\n",
              "      <td>Amelia</td>\n",
              "      <td>2009</td>\n",
              "      <td>Jeremy Akerman</td>\n",
              "      <td>actor</td>\n",
              "      <td>Sheriff</td>\n",
              "      <td>19.0</td>\n",
              "      <td>Russia</td>\n",
              "      <td>2010-01-14</td>\n",
              "    </tr>\n",
              "    <tr>\n",
              "      <th>39</th>\n",
              "      <td>Amelia</td>\n",
              "      <td>2009</td>\n",
              "      <td>Jeremy Akerman</td>\n",
              "      <td>actor</td>\n",
              "      <td>Sheriff</td>\n",
              "      <td>19.0</td>\n",
              "      <td>Greece</td>\n",
              "      <td>2010-01-21</td>\n",
              "    </tr>\n",
              "    <tr>\n",
              "      <th>40</th>\n",
              "      <td>Amelia</td>\n",
              "      <td>2009</td>\n",
              "      <td>Jeremy Akerman</td>\n",
              "      <td>actor</td>\n",
              "      <td>Sheriff</td>\n",
              "      <td>19.0</td>\n",
              "      <td>Poland</td>\n",
              "      <td>2010-02-12</td>\n",
              "    </tr>\n",
              "    <tr>\n",
              "      <th>41</th>\n",
              "      <td>Amelia</td>\n",
              "      <td>2009</td>\n",
              "      <td>Jeremy Akerman</td>\n",
              "      <td>actor</td>\n",
              "      <td>Sheriff</td>\n",
              "      <td>19.0</td>\n",
              "      <td>Belgium</td>\n",
              "      <td>2010-03-03</td>\n",
              "    </tr>\n",
              "    <tr>\n",
              "      <th>42</th>\n",
              "      <td>Amelia</td>\n",
              "      <td>2009</td>\n",
              "      <td>Jeremy Akerman</td>\n",
              "      <td>actor</td>\n",
              "      <td>Sheriff</td>\n",
              "      <td>19.0</td>\n",
              "      <td>India</td>\n",
              "      <td>2010-03-12</td>\n",
              "    </tr>\n",
              "    <tr>\n",
              "      <th>43</th>\n",
              "      <td>Amelia</td>\n",
              "      <td>2009</td>\n",
              "      <td>Jeremy Akerman</td>\n",
              "      <td>actor</td>\n",
              "      <td>Sheriff</td>\n",
              "      <td>19.0</td>\n",
              "      <td>Netherlands</td>\n",
              "      <td>2010-03-25</td>\n",
              "    </tr>\n",
              "    <tr>\n",
              "      <th>44</th>\n",
              "      <td>Amelia</td>\n",
              "      <td>2009</td>\n",
              "      <td>Jeremy Akerman</td>\n",
              "      <td>actor</td>\n",
              "      <td>Sheriff</td>\n",
              "      <td>19.0</td>\n",
              "      <td>Brazil</td>\n",
              "      <td>2010-03-26</td>\n",
              "    </tr>\n",
              "    <tr>\n",
              "      <th>45</th>\n",
              "      <td>Amelia</td>\n",
              "      <td>2009</td>\n",
              "      <td>Jeremy Akerman</td>\n",
              "      <td>actor</td>\n",
              "      <td>Sheriff</td>\n",
              "      <td>19.0</td>\n",
              "      <td>France</td>\n",
              "      <td>2010-04-14</td>\n",
              "    </tr>\n",
              "    <tr>\n",
              "      <th>46</th>\n",
              "      <td>Amelia</td>\n",
              "      <td>2009</td>\n",
              "      <td>Jeremy Akerman</td>\n",
              "      <td>actor</td>\n",
              "      <td>Sheriff</td>\n",
              "      <td>19.0</td>\n",
              "      <td>Germany</td>\n",
              "      <td>2010-06-17</td>\n",
              "    </tr>\n",
              "    <tr>\n",
              "      <th>47</th>\n",
              "      <td>Amelia</td>\n",
              "      <td>2009</td>\n",
              "      <td>Jeremy Akerman</td>\n",
              "      <td>actor</td>\n",
              "      <td>Sheriff</td>\n",
              "      <td>19.0</td>\n",
              "      <td>Japan</td>\n",
              "      <td>2010-11-27</td>\n",
              "    </tr>\n",
              "  </tbody>\n",
              "</table>\n",
              "</div>"
            ],
            "text/plain": [
              "     title  year            name  ...     n      country        date\n",
              "0   Amelia  2009    Aaron Abrams  ...   8.0       Canada  2009-10-23\n",
              "1   Amelia  2009    Aaron Abrams  ...   8.0          USA  2009-10-23\n",
              "2   Amelia  2009    Aaron Abrams  ...   8.0    Australia  2009-11-12\n",
              "3   Amelia  2009    Aaron Abrams  ...   8.0    Singapore  2009-11-12\n",
              "4   Amelia  2009    Aaron Abrams  ...   8.0      Ireland  2009-11-13\n",
              "5   Amelia  2009    Aaron Abrams  ...   8.0       Mexico  2009-11-13\n",
              "6   Amelia  2009    Aaron Abrams  ...   8.0           UK  2009-11-13\n",
              "7   Amelia  2009    Aaron Abrams  ...   8.0        Spain  2009-11-20\n",
              "8   Amelia  2009    Aaron Abrams  ...   8.0  Philippines  2009-12-02\n",
              "9   Amelia  2009    Aaron Abrams  ...   8.0        Italy  2009-12-23\n",
              "10  Amelia  2009    Aaron Abrams  ...   8.0       Sweden  2010-01-01\n",
              "11  Amelia  2009    Aaron Abrams  ...   8.0       Turkey  2010-01-08\n",
              "12  Amelia  2009    Aaron Abrams  ...   8.0      Belarus  2010-01-14\n",
              "13  Amelia  2009    Aaron Abrams  ...   8.0   Kazakhstan  2010-01-14\n",
              "14  Amelia  2009    Aaron Abrams  ...   8.0       Russia  2010-01-14\n",
              "15  Amelia  2009    Aaron Abrams  ...   8.0       Greece  2010-01-21\n",
              "16  Amelia  2009    Aaron Abrams  ...   8.0       Poland  2010-02-12\n",
              "17  Amelia  2009    Aaron Abrams  ...   8.0      Belgium  2010-03-03\n",
              "18  Amelia  2009    Aaron Abrams  ...   8.0        India  2010-03-12\n",
              "19  Amelia  2009    Aaron Abrams  ...   8.0  Netherlands  2010-03-25\n",
              "20  Amelia  2009    Aaron Abrams  ...   8.0       Brazil  2010-03-26\n",
              "21  Amelia  2009    Aaron Abrams  ...   8.0       France  2010-04-14\n",
              "22  Amelia  2009    Aaron Abrams  ...   8.0      Germany  2010-06-17\n",
              "23  Amelia  2009    Aaron Abrams  ...   8.0        Japan  2010-11-27\n",
              "24  Amelia  2009  Jeremy Akerman  ...  19.0       Canada  2009-10-23\n",
              "25  Amelia  2009  Jeremy Akerman  ...  19.0          USA  2009-10-23\n",
              "26  Amelia  2009  Jeremy Akerman  ...  19.0    Australia  2009-11-12\n",
              "27  Amelia  2009  Jeremy Akerman  ...  19.0    Singapore  2009-11-12\n",
              "28  Amelia  2009  Jeremy Akerman  ...  19.0      Ireland  2009-11-13\n",
              "29  Amelia  2009  Jeremy Akerman  ...  19.0       Mexico  2009-11-13\n",
              "30  Amelia  2009  Jeremy Akerman  ...  19.0           UK  2009-11-13\n",
              "31  Amelia  2009  Jeremy Akerman  ...  19.0        Spain  2009-11-20\n",
              "32  Amelia  2009  Jeremy Akerman  ...  19.0  Philippines  2009-12-02\n",
              "33  Amelia  2009  Jeremy Akerman  ...  19.0        Italy  2009-12-23\n",
              "34  Amelia  2009  Jeremy Akerman  ...  19.0       Sweden  2010-01-01\n",
              "35  Amelia  2009  Jeremy Akerman  ...  19.0       Turkey  2010-01-08\n",
              "36  Amelia  2009  Jeremy Akerman  ...  19.0      Belarus  2010-01-14\n",
              "37  Amelia  2009  Jeremy Akerman  ...  19.0   Kazakhstan  2010-01-14\n",
              "38  Amelia  2009  Jeremy Akerman  ...  19.0       Russia  2010-01-14\n",
              "39  Amelia  2009  Jeremy Akerman  ...  19.0       Greece  2010-01-21\n",
              "40  Amelia  2009  Jeremy Akerman  ...  19.0       Poland  2010-02-12\n",
              "41  Amelia  2009  Jeremy Akerman  ...  19.0      Belgium  2010-03-03\n",
              "42  Amelia  2009  Jeremy Akerman  ...  19.0        India  2010-03-12\n",
              "43  Amelia  2009  Jeremy Akerman  ...  19.0  Netherlands  2010-03-25\n",
              "44  Amelia  2009  Jeremy Akerman  ...  19.0       Brazil  2010-03-26\n",
              "45  Amelia  2009  Jeremy Akerman  ...  19.0       France  2010-04-14\n",
              "46  Amelia  2009  Jeremy Akerman  ...  19.0      Germany  2010-06-17\n",
              "47  Amelia  2009  Jeremy Akerman  ...  19.0        Japan  2010-11-27\n",
              "\n",
              "[48 rows x 8 columns]"
            ]
          },
          "metadata": {
            "tags": []
          },
          "execution_count": 65
        }
      ]
    },
    {
      "cell_type": "markdown",
      "metadata": {
        "id": "YCuoQwcDwGLi"
      },
      "source": [
        "### 2. Merge with itself"
      ]
    },
    {
      "cell_type": "code",
      "metadata": {
        "colab": {
          "base_uri": "https://localhost:8080/",
          "height": 204
        },
        "id": "sQgcWK04wF6E",
        "outputId": "75587e1e-c4d6-44c5-cb0b-31195f558d63"
      },
      "source": [
        "c = cast[cast['name'] == 'Aaron Abrams']\n",
        "c.head()"
      ],
      "execution_count": null,
      "outputs": [
        {
          "output_type": "execute_result",
          "data": {
            "text/html": [
              "<div>\n",
              "<style scoped>\n",
              "    .dataframe tbody tr th:only-of-type {\n",
              "        vertical-align: middle;\n",
              "    }\n",
              "\n",
              "    .dataframe tbody tr th {\n",
              "        vertical-align: top;\n",
              "    }\n",
              "\n",
              "    .dataframe thead th {\n",
              "        text-align: right;\n",
              "    }\n",
              "</style>\n",
              "<table border=\"1\" class=\"dataframe\">\n",
              "  <thead>\n",
              "    <tr style=\"text-align: right;\">\n",
              "      <th></th>\n",
              "      <th>title</th>\n",
              "      <th>year</th>\n",
              "      <th>name</th>\n",
              "      <th>type</th>\n",
              "      <th>character</th>\n",
              "      <th>n</th>\n",
              "    </tr>\n",
              "  </thead>\n",
              "  <tbody>\n",
              "    <tr>\n",
              "      <th>5765</th>\n",
              "      <td>#FromJennifer</td>\n",
              "      <td>2017</td>\n",
              "      <td>Aaron Abrams</td>\n",
              "      <td>actor</td>\n",
              "      <td>Ralph Sinclair</td>\n",
              "      <td>NaN</td>\n",
              "    </tr>\n",
              "    <tr>\n",
              "      <th>5766</th>\n",
              "      <td>388 Arletta Avenue</td>\n",
              "      <td>2011</td>\n",
              "      <td>Aaron Abrams</td>\n",
              "      <td>actor</td>\n",
              "      <td>Alex</td>\n",
              "      <td>4.0</td>\n",
              "    </tr>\n",
              "    <tr>\n",
              "      <th>5767</th>\n",
              "      <td>Amelia</td>\n",
              "      <td>2009</td>\n",
              "      <td>Aaron Abrams</td>\n",
              "      <td>actor</td>\n",
              "      <td>Slim Gordon</td>\n",
              "      <td>8.0</td>\n",
              "    </tr>\n",
              "    <tr>\n",
              "      <th>5768</th>\n",
              "      <td>At Home by Myself... with You</td>\n",
              "      <td>2009</td>\n",
              "      <td>Aaron Abrams</td>\n",
              "      <td>actor</td>\n",
              "      <td>Guy</td>\n",
              "      <td>2.0</td>\n",
              "    </tr>\n",
              "    <tr>\n",
              "      <th>5769</th>\n",
              "      <td>Cinderella Man</td>\n",
              "      <td>2005</td>\n",
              "      <td>Aaron Abrams</td>\n",
              "      <td>actor</td>\n",
              "      <td>1928 Fan</td>\n",
              "      <td>67.0</td>\n",
              "    </tr>\n",
              "  </tbody>\n",
              "</table>\n",
              "</div>"
            ],
            "text/plain": [
              "                              title  year  ...       character     n\n",
              "5765                  #FromJennifer  2017  ...  Ralph Sinclair   NaN\n",
              "5766             388 Arletta Avenue  2011  ...            Alex   4.0\n",
              "5767                         Amelia  2009  ...     Slim Gordon   8.0\n",
              "5768  At Home by Myself... with You  2009  ...             Guy   2.0\n",
              "5769                 Cinderella Man  2005  ...        1928 Fan  67.0\n",
              "\n",
              "[5 rows x 6 columns]"
            ]
          },
          "metadata": {
            "tags": []
          },
          "execution_count": 69
        }
      ]
    },
    {
      "cell_type": "code",
      "metadata": {
        "colab": {
          "base_uri": "https://localhost:8080/",
          "height": 204
        },
        "id": "kSQqKRp3tD5u",
        "outputId": "d5a520d2-ec58-4b0e-fe29-8116ed634516"
      },
      "source": [
        "c.merge(cast, on=['title', 'year']).head()"
      ],
      "execution_count": null,
      "outputs": [
        {
          "output_type": "execute_result",
          "data": {
            "text/html": [
              "<div>\n",
              "<style scoped>\n",
              "    .dataframe tbody tr th:only-of-type {\n",
              "        vertical-align: middle;\n",
              "    }\n",
              "\n",
              "    .dataframe tbody tr th {\n",
              "        vertical-align: top;\n",
              "    }\n",
              "\n",
              "    .dataframe thead th {\n",
              "        text-align: right;\n",
              "    }\n",
              "</style>\n",
              "<table border=\"1\" class=\"dataframe\">\n",
              "  <thead>\n",
              "    <tr style=\"text-align: right;\">\n",
              "      <th></th>\n",
              "      <th>title</th>\n",
              "      <th>year</th>\n",
              "      <th>name_x</th>\n",
              "      <th>type_x</th>\n",
              "      <th>character_x</th>\n",
              "      <th>n_x</th>\n",
              "      <th>name_y</th>\n",
              "      <th>type_y</th>\n",
              "      <th>character_y</th>\n",
              "      <th>n_y</th>\n",
              "    </tr>\n",
              "  </thead>\n",
              "  <tbody>\n",
              "    <tr>\n",
              "      <th>0</th>\n",
              "      <td>Closet Monster</td>\n",
              "      <td>2015</td>\n",
              "      <td>Buffy #1</td>\n",
              "      <td>actor</td>\n",
              "      <td>Buffy 4</td>\n",
              "      <td>31.0</td>\n",
              "      <td>Buffy #1</td>\n",
              "      <td>actor</td>\n",
              "      <td>Buffy 4</td>\n",
              "      <td>31.0</td>\n",
              "    </tr>\n",
              "    <tr>\n",
              "      <th>1</th>\n",
              "      <td>Closet Monster</td>\n",
              "      <td>2015</td>\n",
              "      <td>Buffy #1</td>\n",
              "      <td>actor</td>\n",
              "      <td>Buffy 4</td>\n",
              "      <td>31.0</td>\n",
              "      <td>Aaron Abrams</td>\n",
              "      <td>actor</td>\n",
              "      <td>Peter Madly</td>\n",
              "      <td>1.0</td>\n",
              "    </tr>\n",
              "    <tr>\n",
              "      <th>2</th>\n",
              "      <td>Closet Monster</td>\n",
              "      <td>2015</td>\n",
              "      <td>Aaron Abrams</td>\n",
              "      <td>actor</td>\n",
              "      <td>Peter Madly</td>\n",
              "      <td>1.0</td>\n",
              "      <td>Buffy #1</td>\n",
              "      <td>actor</td>\n",
              "      <td>Buffy 4</td>\n",
              "      <td>31.0</td>\n",
              "    </tr>\n",
              "    <tr>\n",
              "      <th>3</th>\n",
              "      <td>Closet Monster</td>\n",
              "      <td>2015</td>\n",
              "      <td>Aaron Abrams</td>\n",
              "      <td>actor</td>\n",
              "      <td>Peter Madly</td>\n",
              "      <td>1.0</td>\n",
              "      <td>Aaron Abrams</td>\n",
              "      <td>actor</td>\n",
              "      <td>Peter Madly</td>\n",
              "      <td>1.0</td>\n",
              "    </tr>\n",
              "    <tr>\n",
              "      <th>4</th>\n",
              "      <td>Suuri illusioni</td>\n",
              "      <td>1985</td>\n",
              "      <td>Homo $</td>\n",
              "      <td>actor</td>\n",
              "      <td>Guests</td>\n",
              "      <td>22.0</td>\n",
              "      <td>Homo $</td>\n",
              "      <td>actor</td>\n",
              "      <td>Guests</td>\n",
              "      <td>22.0</td>\n",
              "    </tr>\n",
              "  </tbody>\n",
              "</table>\n",
              "</div>"
            ],
            "text/plain": [
              "             title  year        name_x  ... type_y  character_y   n_y\n",
              "0   Closet Monster  2015      Buffy #1  ...  actor      Buffy 4  31.0\n",
              "1   Closet Monster  2015      Buffy #1  ...  actor  Peter Madly   1.0\n",
              "2   Closet Monster  2015  Aaron Abrams  ...  actor      Buffy 4  31.0\n",
              "3   Closet Monster  2015  Aaron Abrams  ...  actor  Peter Madly   1.0\n",
              "4  Suuri illusioni  1985        Homo $  ...  actor       Guests  22.0\n",
              "\n",
              "[5 rows x 10 columns]"
            ]
          },
          "metadata": {
            "tags": []
          },
          "execution_count": 52
        }
      ]
    },
    {
      "cell_type": "code",
      "metadata": {
        "id": "b2ncZXIWw5vL"
      },
      "source": [
        "c_costar = c.merge(cast, on=['title', 'year'])"
      ],
      "execution_count": null,
      "outputs": []
    },
    {
      "cell_type": "code",
      "metadata": {
        "colab": {
          "base_uri": "https://localhost:8080/",
          "height": 204
        },
        "id": "e2VCS056xx4C",
        "outputId": "6abdedfe-ed3f-4c9c-ad51-8aecd7bb6041"
      },
      "source": [
        "c_costar = c_costar[c_costar['name_y'] != 'Aaron Abrams']\n",
        "c_costar.head()"
      ],
      "execution_count": null,
      "outputs": [
        {
          "output_type": "execute_result",
          "data": {
            "text/html": [
              "<div>\n",
              "<style scoped>\n",
              "    .dataframe tbody tr th:only-of-type {\n",
              "        vertical-align: middle;\n",
              "    }\n",
              "\n",
              "    .dataframe tbody tr th {\n",
              "        vertical-align: top;\n",
              "    }\n",
              "\n",
              "    .dataframe thead th {\n",
              "        text-align: right;\n",
              "    }\n",
              "</style>\n",
              "<table border=\"1\" class=\"dataframe\">\n",
              "  <thead>\n",
              "    <tr style=\"text-align: right;\">\n",
              "      <th></th>\n",
              "      <th>title</th>\n",
              "      <th>year</th>\n",
              "      <th>name_x</th>\n",
              "      <th>type_x</th>\n",
              "      <th>character_x</th>\n",
              "      <th>n_x</th>\n",
              "      <th>name_y</th>\n",
              "      <th>type_y</th>\n",
              "      <th>character_y</th>\n",
              "      <th>n_y</th>\n",
              "    </tr>\n",
              "  </thead>\n",
              "  <tbody>\n",
              "    <tr>\n",
              "      <th>0</th>\n",
              "      <td>Closet Monster</td>\n",
              "      <td>2015</td>\n",
              "      <td>Buffy #1</td>\n",
              "      <td>actor</td>\n",
              "      <td>Buffy 4</td>\n",
              "      <td>31.0</td>\n",
              "      <td>Buffy #1</td>\n",
              "      <td>actor</td>\n",
              "      <td>Buffy 4</td>\n",
              "      <td>31.0</td>\n",
              "    </tr>\n",
              "    <tr>\n",
              "      <th>2</th>\n",
              "      <td>Closet Monster</td>\n",
              "      <td>2015</td>\n",
              "      <td>Aaron Abrams</td>\n",
              "      <td>actor</td>\n",
              "      <td>Peter Madly</td>\n",
              "      <td>1.0</td>\n",
              "      <td>Buffy #1</td>\n",
              "      <td>actor</td>\n",
              "      <td>Buffy 4</td>\n",
              "      <td>31.0</td>\n",
              "    </tr>\n",
              "    <tr>\n",
              "      <th>4</th>\n",
              "      <td>Suuri illusioni</td>\n",
              "      <td>1985</td>\n",
              "      <td>Homo $</td>\n",
              "      <td>actor</td>\n",
              "      <td>Guests</td>\n",
              "      <td>22.0</td>\n",
              "      <td>Homo $</td>\n",
              "      <td>actor</td>\n",
              "      <td>Guests</td>\n",
              "      <td>22.0</td>\n",
              "    </tr>\n",
              "    <tr>\n",
              "      <th>5</th>\n",
              "      <td>Battle of the Sexes</td>\n",
              "      <td>2017</td>\n",
              "      <td>$hutter</td>\n",
              "      <td>actor</td>\n",
              "      <td>Bobby Riggs Fan</td>\n",
              "      <td>10.0</td>\n",
              "      <td>$hutter</td>\n",
              "      <td>actor</td>\n",
              "      <td>Bobby Riggs Fan</td>\n",
              "      <td>10.0</td>\n",
              "    </tr>\n",
              "    <tr>\n",
              "      <th>6</th>\n",
              "      <td>Battle of the Sexes</td>\n",
              "      <td>2017</td>\n",
              "      <td>$hutter</td>\n",
              "      <td>actor</td>\n",
              "      <td>Bobby Riggs Fan</td>\n",
              "      <td>10.0</td>\n",
              "      <td>Nawras Alzubaidy</td>\n",
              "      <td>actor</td>\n",
              "      <td>Cheerleader</td>\n",
              "      <td>NaN</td>\n",
              "    </tr>\n",
              "  </tbody>\n",
              "</table>\n",
              "</div>"
            ],
            "text/plain": [
              "                 title  year        name_x  ... type_y      character_y   n_y\n",
              "0       Closet Monster  2015      Buffy #1  ...  actor          Buffy 4  31.0\n",
              "2       Closet Monster  2015  Aaron Abrams  ...  actor          Buffy 4  31.0\n",
              "4      Suuri illusioni  1985        Homo $  ...  actor           Guests  22.0\n",
              "5  Battle of the Sexes  2017       $hutter  ...  actor  Bobby Riggs Fan  10.0\n",
              "6  Battle of the Sexes  2017       $hutter  ...  actor      Cheerleader   NaN\n",
              "\n",
              "[5 rows x 10 columns]"
            ]
          },
          "metadata": {
            "tags": []
          },
          "execution_count": 54
        }
      ]
    },
    {
      "cell_type": "markdown",
      "metadata": {
        "id": "6FJhTF8F1H2j"
      },
      "source": [
        "## Indexing"
      ]
    },
    {
      "cell_type": "markdown",
      "metadata": {
        "id": "u1KJG9B81Rvb"
      },
      "source": [
        "### 1. Creating Index"
      ]
    },
    {
      "cell_type": "code",
      "metadata": {
        "colab": {
          "base_uri": "https://localhost:8080/",
          "height": 204
        },
        "id": "Plt_ZrhGyTkw",
        "outputId": "bed82210-836a-4fcf-ea48-2457ef40ab58"
      },
      "source": [
        "cast.head()"
      ],
      "execution_count": null,
      "outputs": [
        {
          "output_type": "execute_result",
          "data": {
            "text/html": [
              "<div>\n",
              "<style scoped>\n",
              "    .dataframe tbody tr th:only-of-type {\n",
              "        vertical-align: middle;\n",
              "    }\n",
              "\n",
              "    .dataframe tbody tr th {\n",
              "        vertical-align: top;\n",
              "    }\n",
              "\n",
              "    .dataframe thead th {\n",
              "        text-align: right;\n",
              "    }\n",
              "</style>\n",
              "<table border=\"1\" class=\"dataframe\">\n",
              "  <thead>\n",
              "    <tr style=\"text-align: right;\">\n",
              "      <th></th>\n",
              "      <th>title</th>\n",
              "      <th>year</th>\n",
              "      <th>name</th>\n",
              "      <th>type</th>\n",
              "      <th>character</th>\n",
              "      <th>n</th>\n",
              "    </tr>\n",
              "  </thead>\n",
              "  <tbody>\n",
              "    <tr>\n",
              "      <th>0</th>\n",
              "      <td>Closet Monster</td>\n",
              "      <td>2015</td>\n",
              "      <td>Buffy #1</td>\n",
              "      <td>actor</td>\n",
              "      <td>Buffy 4</td>\n",
              "      <td>31.0</td>\n",
              "    </tr>\n",
              "    <tr>\n",
              "      <th>1</th>\n",
              "      <td>Suuri illusioni</td>\n",
              "      <td>1985</td>\n",
              "      <td>Homo $</td>\n",
              "      <td>actor</td>\n",
              "      <td>Guests</td>\n",
              "      <td>22.0</td>\n",
              "    </tr>\n",
              "    <tr>\n",
              "      <th>2</th>\n",
              "      <td>Battle of the Sexes</td>\n",
              "      <td>2017</td>\n",
              "      <td>$hutter</td>\n",
              "      <td>actor</td>\n",
              "      <td>Bobby Riggs Fan</td>\n",
              "      <td>10.0</td>\n",
              "    </tr>\n",
              "    <tr>\n",
              "      <th>3</th>\n",
              "      <td>Secret in Their Eyes</td>\n",
              "      <td>2015</td>\n",
              "      <td>$hutter</td>\n",
              "      <td>actor</td>\n",
              "      <td>2002 Dodger Fan</td>\n",
              "      <td>NaN</td>\n",
              "    </tr>\n",
              "    <tr>\n",
              "      <th>4</th>\n",
              "      <td>Steve Jobs</td>\n",
              "      <td>2015</td>\n",
              "      <td>$hutter</td>\n",
              "      <td>actor</td>\n",
              "      <td>1988 Opera House Patron</td>\n",
              "      <td>NaN</td>\n",
              "    </tr>\n",
              "  </tbody>\n",
              "</table>\n",
              "</div>"
            ],
            "text/plain": [
              "                  title  year      name   type                character     n\n",
              "0        Closet Monster  2015  Buffy #1  actor                  Buffy 4  31.0\n",
              "1       Suuri illusioni  1985    Homo $  actor                   Guests  22.0\n",
              "2   Battle of the Sexes  2017   $hutter  actor          Bobby Riggs Fan  10.0\n",
              "3  Secret in Their Eyes  2015   $hutter  actor          2002 Dodger Fan   NaN\n",
              "4            Steve Jobs  2015   $hutter  actor  1988 Opera House Patron   NaN"
            ]
          },
          "metadata": {
            "tags": []
          },
          "execution_count": 73
        }
      ]
    },
    {
      "cell_type": "code",
      "metadata": {
        "colab": {
          "base_uri": "https://localhost:8080/",
          "height": 331
        },
        "id": "3bT6jCEQ9TdF",
        "outputId": "99b85bcb-6f9a-40a6-9960-8cc3a5df6d6f"
      },
      "source": [
        "%%time\n",
        "cast[cast['title'] == 'Macbeth']"
      ],
      "execution_count": null,
      "outputs": [
        {
          "output_type": "stream",
          "text": [
            "CPU times: user 6.74 ms, sys: 929 µs, total: 7.67 ms\n",
            "Wall time: 9.06 ms\n"
          ],
          "name": "stdout"
        },
        {
          "output_type": "execute_result",
          "data": {
            "text/html": [
              "<div>\n",
              "<style scoped>\n",
              "    .dataframe tbody tr th:only-of-type {\n",
              "        vertical-align: middle;\n",
              "    }\n",
              "\n",
              "    .dataframe tbody tr th {\n",
              "        vertical-align: top;\n",
              "    }\n",
              "\n",
              "    .dataframe thead th {\n",
              "        text-align: right;\n",
              "    }\n",
              "</style>\n",
              "<table border=\"1\" class=\"dataframe\">\n",
              "  <thead>\n",
              "    <tr style=\"text-align: right;\">\n",
              "      <th></th>\n",
              "      <th>title</th>\n",
              "      <th>year</th>\n",
              "      <th>name</th>\n",
              "      <th>type</th>\n",
              "      <th>character</th>\n",
              "      <th>n</th>\n",
              "    </tr>\n",
              "  </thead>\n",
              "  <tbody>\n",
              "    <tr>\n",
              "      <th>12868</th>\n",
              "      <td>Macbeth</td>\n",
              "      <td>2015</td>\n",
              "      <td>Darren Adamson</td>\n",
              "      <td>actor</td>\n",
              "      <td>Soldier</td>\n",
              "      <td>NaN</td>\n",
              "    </tr>\n",
              "    <tr>\n",
              "      <th>22302</th>\n",
              "      <td>Macbeth</td>\n",
              "      <td>1916</td>\n",
              "      <td>Spottiswoode Aitken</td>\n",
              "      <td>actor</td>\n",
              "      <td>Duncan</td>\n",
              "      <td>4.0</td>\n",
              "    </tr>\n",
              "    <tr>\n",
              "      <th>25855</th>\n",
              "      <td>Macbeth</td>\n",
              "      <td>1948</td>\n",
              "      <td>Robert Alan</td>\n",
              "      <td>actor</td>\n",
              "      <td>Third Murderer</td>\n",
              "      <td>NaN</td>\n",
              "    </tr>\n",
              "    <tr>\n",
              "      <th>26990</th>\n",
              "      <td>Macbeth</td>\n",
              "      <td>2016</td>\n",
              "      <td>John Albasiny</td>\n",
              "      <td>actor</td>\n",
              "      <td>Doctor</td>\n",
              "      <td>NaN</td>\n",
              "    </tr>\n",
              "    <tr>\n",
              "      <th>38090</th>\n",
              "      <td>Macbeth</td>\n",
              "      <td>1948</td>\n",
              "      <td>William Alland</td>\n",
              "      <td>actor</td>\n",
              "      <td>Second Murderer</td>\n",
              "      <td>18.0</td>\n",
              "    </tr>\n",
              "    <tr>\n",
              "      <th>40639</th>\n",
              "      <td>Macbeth</td>\n",
              "      <td>1997</td>\n",
              "      <td>Stevie Allen</td>\n",
              "      <td>actor</td>\n",
              "      <td>Murderer</td>\n",
              "      <td>21.0</td>\n",
              "    </tr>\n",
              "    <tr>\n",
              "      <th>60543</th>\n",
              "      <td>Macbeth</td>\n",
              "      <td>2014</td>\n",
              "      <td>Moyo Akand?</td>\n",
              "      <td>actress</td>\n",
              "      <td>Witch</td>\n",
              "      <td>NaN</td>\n",
              "    </tr>\n",
              "    <tr>\n",
              "      <th>63776</th>\n",
              "      <td>Macbeth</td>\n",
              "      <td>1916</td>\n",
              "      <td>Mary Alden</td>\n",
              "      <td>actress</td>\n",
              "      <td>Lady Macduff</td>\n",
              "      <td>6.0</td>\n",
              "    </tr>\n",
              "  </tbody>\n",
              "</table>\n",
              "</div>"
            ],
            "text/plain": [
              "         title  year                 name     type        character     n\n",
              "12868  Macbeth  2015       Darren Adamson    actor          Soldier   NaN\n",
              "22302  Macbeth  1916  Spottiswoode Aitken    actor           Duncan   4.0\n",
              "25855  Macbeth  1948          Robert Alan    actor   Third Murderer   NaN\n",
              "26990  Macbeth  2016        John Albasiny    actor           Doctor   NaN\n",
              "38090  Macbeth  1948       William Alland    actor  Second Murderer  18.0\n",
              "40639  Macbeth  1997         Stevie Allen    actor         Murderer  21.0\n",
              "60543  Macbeth  2014          Moyo Akand?  actress            Witch   NaN\n",
              "63776  Macbeth  1916           Mary Alden  actress     Lady Macduff   6.0"
            ]
          },
          "metadata": {
            "tags": []
          },
          "execution_count": 75
        }
      ]
    },
    {
      "cell_type": "code",
      "metadata": {
        "colab": {
          "base_uri": "https://localhost:8080/"
        },
        "id": "DBdvTbFX9oH-",
        "outputId": "94cd35af-e3fe-46b6-a6cf-fb4fce82af8d"
      },
      "source": [
        "%%timeit\n",
        "cast[cast['title'] == 'Macbeth']"
      ],
      "execution_count": null,
      "outputs": [
        {
          "output_type": "stream",
          "text": [
            "100 loops, best of 5: 4.62 ms per loop\n"
          ],
          "name": "stdout"
        }
      ]
    },
    {
      "cell_type": "code",
      "metadata": {
        "colab": {
          "base_uri": "https://localhost:8080/",
          "height": 235
        },
        "id": "s3ISY-8C96QO",
        "outputId": "8c924f88-767c-4a1d-c732-63b51541a529"
      },
      "source": [
        "c = cast.set_index(['title'])\n",
        "c.head()"
      ],
      "execution_count": null,
      "outputs": [
        {
          "output_type": "execute_result",
          "data": {
            "text/html": [
              "<div>\n",
              "<style scoped>\n",
              "    .dataframe tbody tr th:only-of-type {\n",
              "        vertical-align: middle;\n",
              "    }\n",
              "\n",
              "    .dataframe tbody tr th {\n",
              "        vertical-align: top;\n",
              "    }\n",
              "\n",
              "    .dataframe thead th {\n",
              "        text-align: right;\n",
              "    }\n",
              "</style>\n",
              "<table border=\"1\" class=\"dataframe\">\n",
              "  <thead>\n",
              "    <tr style=\"text-align: right;\">\n",
              "      <th></th>\n",
              "      <th>year</th>\n",
              "      <th>name</th>\n",
              "      <th>type</th>\n",
              "      <th>character</th>\n",
              "      <th>n</th>\n",
              "    </tr>\n",
              "    <tr>\n",
              "      <th>title</th>\n",
              "      <th></th>\n",
              "      <th></th>\n",
              "      <th></th>\n",
              "      <th></th>\n",
              "      <th></th>\n",
              "    </tr>\n",
              "  </thead>\n",
              "  <tbody>\n",
              "    <tr>\n",
              "      <th>Closet Monster</th>\n",
              "      <td>2015</td>\n",
              "      <td>Buffy #1</td>\n",
              "      <td>actor</td>\n",
              "      <td>Buffy 4</td>\n",
              "      <td>31.0</td>\n",
              "    </tr>\n",
              "    <tr>\n",
              "      <th>Suuri illusioni</th>\n",
              "      <td>1985</td>\n",
              "      <td>Homo $</td>\n",
              "      <td>actor</td>\n",
              "      <td>Guests</td>\n",
              "      <td>22.0</td>\n",
              "    </tr>\n",
              "    <tr>\n",
              "      <th>Battle of the Sexes</th>\n",
              "      <td>2017</td>\n",
              "      <td>$hutter</td>\n",
              "      <td>actor</td>\n",
              "      <td>Bobby Riggs Fan</td>\n",
              "      <td>10.0</td>\n",
              "    </tr>\n",
              "    <tr>\n",
              "      <th>Secret in Their Eyes</th>\n",
              "      <td>2015</td>\n",
              "      <td>$hutter</td>\n",
              "      <td>actor</td>\n",
              "      <td>2002 Dodger Fan</td>\n",
              "      <td>NaN</td>\n",
              "    </tr>\n",
              "    <tr>\n",
              "      <th>Steve Jobs</th>\n",
              "      <td>2015</td>\n",
              "      <td>$hutter</td>\n",
              "      <td>actor</td>\n",
              "      <td>1988 Opera House Patron</td>\n",
              "      <td>NaN</td>\n",
              "    </tr>\n",
              "  </tbody>\n",
              "</table>\n",
              "</div>"
            ],
            "text/plain": [
              "                      year      name   type                character     n\n",
              "title                                                                     \n",
              "Closet Monster        2015  Buffy #1  actor                  Buffy 4  31.0\n",
              "Suuri illusioni       1985    Homo $  actor                   Guests  22.0\n",
              "Battle of the Sexes   2017   $hutter  actor          Bobby Riggs Fan  10.0\n",
              "Secret in Their Eyes  2015   $hutter  actor          2002 Dodger Fan   NaN\n",
              "Steve Jobs            2015   $hutter  actor  1988 Opera House Patron   NaN"
            ]
          },
          "metadata": {
            "tags": []
          },
          "execution_count": 77
        }
      ]
    },
    {
      "cell_type": "code",
      "metadata": {
        "colab": {
          "base_uri": "https://localhost:8080/",
          "height": 235
        },
        "id": "mGZuZreg-mC2",
        "outputId": "aef022fd-2473-4096-e6e1-e8af4ba6b3fa"
      },
      "source": [
        "c = cast.set_index(['title'])\n",
        "c.head()"
      ],
      "execution_count": null,
      "outputs": [
        {
          "output_type": "execute_result",
          "data": {
            "text/html": [
              "<div>\n",
              "<style scoped>\n",
              "    .dataframe tbody tr th:only-of-type {\n",
              "        vertical-align: middle;\n",
              "    }\n",
              "\n",
              "    .dataframe tbody tr th {\n",
              "        vertical-align: top;\n",
              "    }\n",
              "\n",
              "    .dataframe thead th {\n",
              "        text-align: right;\n",
              "    }\n",
              "</style>\n",
              "<table border=\"1\" class=\"dataframe\">\n",
              "  <thead>\n",
              "    <tr style=\"text-align: right;\">\n",
              "      <th></th>\n",
              "      <th>year</th>\n",
              "      <th>name</th>\n",
              "      <th>type</th>\n",
              "      <th>character</th>\n",
              "      <th>n</th>\n",
              "    </tr>\n",
              "    <tr>\n",
              "      <th>title</th>\n",
              "      <th></th>\n",
              "      <th></th>\n",
              "      <th></th>\n",
              "      <th></th>\n",
              "      <th></th>\n",
              "    </tr>\n",
              "  </thead>\n",
              "  <tbody>\n",
              "    <tr>\n",
              "      <th>Closet Monster</th>\n",
              "      <td>2015</td>\n",
              "      <td>Buffy #1</td>\n",
              "      <td>actor</td>\n",
              "      <td>Buffy 4</td>\n",
              "      <td>31.0</td>\n",
              "    </tr>\n",
              "    <tr>\n",
              "      <th>Suuri illusioni</th>\n",
              "      <td>1985</td>\n",
              "      <td>Homo $</td>\n",
              "      <td>actor</td>\n",
              "      <td>Guests</td>\n",
              "      <td>22.0</td>\n",
              "    </tr>\n",
              "    <tr>\n",
              "      <th>Battle of the Sexes</th>\n",
              "      <td>2017</td>\n",
              "      <td>$hutter</td>\n",
              "      <td>actor</td>\n",
              "      <td>Bobby Riggs Fan</td>\n",
              "      <td>10.0</td>\n",
              "    </tr>\n",
              "    <tr>\n",
              "      <th>Secret in Their Eyes</th>\n",
              "      <td>2015</td>\n",
              "      <td>$hutter</td>\n",
              "      <td>actor</td>\n",
              "      <td>2002 Dodger Fan</td>\n",
              "      <td>NaN</td>\n",
              "    </tr>\n",
              "    <tr>\n",
              "      <th>Steve Jobs</th>\n",
              "      <td>2015</td>\n",
              "      <td>$hutter</td>\n",
              "      <td>actor</td>\n",
              "      <td>1988 Opera House Patron</td>\n",
              "      <td>NaN</td>\n",
              "    </tr>\n",
              "  </tbody>\n",
              "</table>\n",
              "</div>"
            ],
            "text/plain": [
              "                      year      name   type                character     n\n",
              "title                                                                     \n",
              "Closet Monster        2015  Buffy #1  actor                  Buffy 4  31.0\n",
              "Suuri illusioni       1985    Homo $  actor                   Guests  22.0\n",
              "Battle of the Sexes   2017   $hutter  actor          Bobby Riggs Fan  10.0\n",
              "Secret in Their Eyes  2015   $hutter  actor          2002 Dodger Fan   NaN\n",
              "Steve Jobs            2015   $hutter  actor  1988 Opera House Patron   NaN"
            ]
          },
          "metadata": {
            "tags": []
          },
          "execution_count": 78
        }
      ]
    },
    {
      "cell_type": "code",
      "metadata": {
        "colab": {
          "base_uri": "https://localhost:8080/",
          "height": 362
        },
        "id": "jeYtu_NICilI",
        "outputId": "9abe6f58-32e2-4232-e97e-4c407a25d19b"
      },
      "source": [
        "%%time\n",
        "c.loc['Macbeth']"
      ],
      "execution_count": null,
      "outputs": [
        {
          "output_type": "stream",
          "text": [
            "CPU times: user 6.07 ms, sys: 0 ns, total: 6.07 ms\n",
            "Wall time: 8.31 ms\n"
          ],
          "name": "stdout"
        },
        {
          "output_type": "execute_result",
          "data": {
            "text/html": [
              "<div>\n",
              "<style scoped>\n",
              "    .dataframe tbody tr th:only-of-type {\n",
              "        vertical-align: middle;\n",
              "    }\n",
              "\n",
              "    .dataframe tbody tr th {\n",
              "        vertical-align: top;\n",
              "    }\n",
              "\n",
              "    .dataframe thead th {\n",
              "        text-align: right;\n",
              "    }\n",
              "</style>\n",
              "<table border=\"1\" class=\"dataframe\">\n",
              "  <thead>\n",
              "    <tr style=\"text-align: right;\">\n",
              "      <th></th>\n",
              "      <th>year</th>\n",
              "      <th>name</th>\n",
              "      <th>type</th>\n",
              "      <th>character</th>\n",
              "      <th>n</th>\n",
              "    </tr>\n",
              "    <tr>\n",
              "      <th>title</th>\n",
              "      <th></th>\n",
              "      <th></th>\n",
              "      <th></th>\n",
              "      <th></th>\n",
              "      <th></th>\n",
              "    </tr>\n",
              "  </thead>\n",
              "  <tbody>\n",
              "    <tr>\n",
              "      <th>Macbeth</th>\n",
              "      <td>2015</td>\n",
              "      <td>Darren Adamson</td>\n",
              "      <td>actor</td>\n",
              "      <td>Soldier</td>\n",
              "      <td>NaN</td>\n",
              "    </tr>\n",
              "    <tr>\n",
              "      <th>Macbeth</th>\n",
              "      <td>1916</td>\n",
              "      <td>Spottiswoode Aitken</td>\n",
              "      <td>actor</td>\n",
              "      <td>Duncan</td>\n",
              "      <td>4.0</td>\n",
              "    </tr>\n",
              "    <tr>\n",
              "      <th>Macbeth</th>\n",
              "      <td>1948</td>\n",
              "      <td>Robert Alan</td>\n",
              "      <td>actor</td>\n",
              "      <td>Third Murderer</td>\n",
              "      <td>NaN</td>\n",
              "    </tr>\n",
              "    <tr>\n",
              "      <th>Macbeth</th>\n",
              "      <td>2016</td>\n",
              "      <td>John Albasiny</td>\n",
              "      <td>actor</td>\n",
              "      <td>Doctor</td>\n",
              "      <td>NaN</td>\n",
              "    </tr>\n",
              "    <tr>\n",
              "      <th>Macbeth</th>\n",
              "      <td>1948</td>\n",
              "      <td>William Alland</td>\n",
              "      <td>actor</td>\n",
              "      <td>Second Murderer</td>\n",
              "      <td>18.0</td>\n",
              "    </tr>\n",
              "    <tr>\n",
              "      <th>Macbeth</th>\n",
              "      <td>1997</td>\n",
              "      <td>Stevie Allen</td>\n",
              "      <td>actor</td>\n",
              "      <td>Murderer</td>\n",
              "      <td>21.0</td>\n",
              "    </tr>\n",
              "    <tr>\n",
              "      <th>Macbeth</th>\n",
              "      <td>2014</td>\n",
              "      <td>Moyo Akand?</td>\n",
              "      <td>actress</td>\n",
              "      <td>Witch</td>\n",
              "      <td>NaN</td>\n",
              "    </tr>\n",
              "    <tr>\n",
              "      <th>Macbeth</th>\n",
              "      <td>1916</td>\n",
              "      <td>Mary Alden</td>\n",
              "      <td>actress</td>\n",
              "      <td>Lady Macduff</td>\n",
              "      <td>6.0</td>\n",
              "    </tr>\n",
              "  </tbody>\n",
              "</table>\n",
              "</div>"
            ],
            "text/plain": [
              "         year                 name     type        character     n\n",
              "title                                                             \n",
              "Macbeth  2015       Darren Adamson    actor          Soldier   NaN\n",
              "Macbeth  1916  Spottiswoode Aitken    actor           Duncan   4.0\n",
              "Macbeth  1948          Robert Alan    actor   Third Murderer   NaN\n",
              "Macbeth  2016        John Albasiny    actor           Doctor   NaN\n",
              "Macbeth  1948       William Alland    actor  Second Murderer  18.0\n",
              "Macbeth  1997         Stevie Allen    actor         Murderer  21.0\n",
              "Macbeth  2014          Moyo Akand?  actress            Witch   NaN\n",
              "Macbeth  1916           Mary Alden  actress     Lady Macduff   6.0"
            ]
          },
          "metadata": {
            "tags": []
          },
          "execution_count": 79
        }
      ]
    },
    {
      "cell_type": "code",
      "metadata": {
        "colab": {
          "base_uri": "https://localhost:8080/"
        },
        "id": "AGqmsicWDeI0",
        "outputId": "38a6b412-cd88-459b-d1a2-a700518f0653"
      },
      "source": [
        "%%timeit\n",
        "c.loc['Macbeth']"
      ],
      "execution_count": null,
      "outputs": [
        {
          "output_type": "stream",
          "text": [
            "1000 loops, best of 5: 1.68 ms per loop\n"
          ],
          "name": "stdout"
        }
      ]
    },
    {
      "cell_type": "markdown",
      "metadata": {
        "id": "23e36HriH6L9"
      },
      "source": [
        "### Multiple Index"
      ]
    },
    {
      "cell_type": "code",
      "metadata": {
        "colab": {
          "base_uri": "https://localhost:8080/",
          "height": 1000
        },
        "id": "xgYR-dtrDv-E",
        "outputId": "919c4d27-8051-42c1-d9ae-70837abf7006"
      },
      "source": [
        "cm = cast.set_index(['title', 'n']).sort_index()\n",
        "cm.head(30)"
      ],
      "execution_count": null,
      "outputs": [
        {
          "output_type": "execute_result",
          "data": {
            "text/html": [
              "<div>\n",
              "<style scoped>\n",
              "    .dataframe tbody tr th:only-of-type {\n",
              "        vertical-align: middle;\n",
              "    }\n",
              "\n",
              "    .dataframe tbody tr th {\n",
              "        vertical-align: top;\n",
              "    }\n",
              "\n",
              "    .dataframe thead th {\n",
              "        text-align: right;\n",
              "    }\n",
              "</style>\n",
              "<table border=\"1\" class=\"dataframe\">\n",
              "  <thead>\n",
              "    <tr style=\"text-align: right;\">\n",
              "      <th></th>\n",
              "      <th></th>\n",
              "      <th>year</th>\n",
              "      <th>name</th>\n",
              "      <th>type</th>\n",
              "      <th>character</th>\n",
              "    </tr>\n",
              "    <tr>\n",
              "      <th>title</th>\n",
              "      <th>n</th>\n",
              "      <th></th>\n",
              "      <th></th>\n",
              "      <th></th>\n",
              "      <th></th>\n",
              "    </tr>\n",
              "  </thead>\n",
              "  <tbody>\n",
              "    <tr>\n",
              "      <th>#1 Serial Killer</th>\n",
              "      <th>17.0</th>\n",
              "      <td>2013</td>\n",
              "      <td>Michael Alton</td>\n",
              "      <td>actor</td>\n",
              "      <td>Detective Roberts</td>\n",
              "    </tr>\n",
              "    <tr>\n",
              "      <th>#DigitalLivesMatter</th>\n",
              "      <th>NaN</th>\n",
              "      <td>2016</td>\n",
              "      <td>Rashan Ali</td>\n",
              "      <td>actress</td>\n",
              "      <td>News Reporter</td>\n",
              "    </tr>\n",
              "    <tr>\n",
              "      <th rowspan=\"2\" valign=\"top\">#FromJennifer</th>\n",
              "      <th>NaN</th>\n",
              "      <td>2017</td>\n",
              "      <td>Aaron Abrams</td>\n",
              "      <td>actor</td>\n",
              "      <td>Ralph Sinclair</td>\n",
              "    </tr>\n",
              "    <tr>\n",
              "      <th>NaN</th>\n",
              "      <td>2017</td>\n",
              "      <td>Christian Ackerman</td>\n",
              "      <td>actor</td>\n",
              "      <td>Simon</td>\n",
              "    </tr>\n",
              "    <tr>\n",
              "      <th>#Horror</th>\n",
              "      <th>1.0</th>\n",
              "      <td>2015</td>\n",
              "      <td>Emma Adler</td>\n",
              "      <td>actress</td>\n",
              "      <td>Georgie</td>\n",
              "    </tr>\n",
              "    <tr>\n",
              "      <th>#Lucky Number</th>\n",
              "      <th>31.0</th>\n",
              "      <td>2015</td>\n",
              "      <td>Grace Abbott</td>\n",
              "      <td>actress</td>\n",
              "      <td>Internet Porn Star</td>\n",
              "    </tr>\n",
              "    <tr>\n",
              "      <th>#Nerealnaya lyubov</th>\n",
              "      <th>NaN</th>\n",
              "      <td>2014</td>\n",
              "      <td>Marina Aleksandrova</td>\n",
              "      <td>actress</td>\n",
              "      <td>Mira Orlova</td>\n",
              "    </tr>\n",
              "    <tr>\n",
              "      <th>#REALITYHIGH</th>\n",
              "      <th>NaN</th>\n",
              "      <td>2017</td>\n",
              "      <td>Suzanne Altfeld</td>\n",
              "      <td>actress</td>\n",
              "      <td>Freddie's Grandmother</td>\n",
              "    </tr>\n",
              "    <tr>\n",
              "      <th>#Roxy</th>\n",
              "      <th>NaN</th>\n",
              "      <td>2017</td>\n",
              "      <td>Chris Aanderson</td>\n",
              "      <td>actor</td>\n",
              "      <td>Roxy's Dad</td>\n",
              "    </tr>\n",
              "    <tr>\n",
              "      <th rowspan=\"3\" valign=\"top\">#Stuck</th>\n",
              "      <th>18.0</th>\n",
              "      <td>2014</td>\n",
              "      <td>Logan Agayan</td>\n",
              "      <td>actor</td>\n",
              "      <td>Baby</td>\n",
              "    </tr>\n",
              "    <tr>\n",
              "      <th>NaN</th>\n",
              "      <td>2014</td>\n",
              "      <td>Gaby Alcazar</td>\n",
              "      <td>actress</td>\n",
              "      <td>Girl in Bar</td>\n",
              "    </tr>\n",
              "    <tr>\n",
              "      <th>NaN</th>\n",
              "      <td>2014</td>\n",
              "      <td>Gaby Alcazar</td>\n",
              "      <td>actress</td>\n",
              "      <td>Street Walker</td>\n",
              "    </tr>\n",
              "    <tr>\n",
              "      <th rowspan=\"7\" valign=\"top\">#Y</th>\n",
              "      <th>4.0</th>\n",
              "      <td>2014</td>\n",
              "      <td>Sophie Albert</td>\n",
              "      <td>actress</td>\n",
              "      <td>Lia</td>\n",
              "    </tr>\n",
              "    <tr>\n",
              "      <th>9.0</th>\n",
              "      <td>2014</td>\n",
              "      <td>Apollo Abraham</td>\n",
              "      <td>actor</td>\n",
              "      <td>Miles' Dad</td>\n",
              "    </tr>\n",
              "    <tr>\n",
              "      <th>13.0</th>\n",
              "      <td>2014</td>\n",
              "      <td>Angelou Alayan</td>\n",
              "      <td>actress</td>\n",
              "      <td>7 Yo. Miles</td>\n",
              "    </tr>\n",
              "    <tr>\n",
              "      <th>16.0</th>\n",
              "      <td>2014</td>\n",
              "      <td>Vada Agapito</td>\n",
              "      <td>actress</td>\n",
              "      <td>Leslie</td>\n",
              "    </tr>\n",
              "    <tr>\n",
              "      <th>35.0</th>\n",
              "      <td>2014</td>\n",
              "      <td>Mario Angelo Abello</td>\n",
              "      <td>actor</td>\n",
              "      <td>4 Teenager</td>\n",
              "    </tr>\n",
              "    <tr>\n",
              "      <th>39.0</th>\n",
              "      <td>2014</td>\n",
              "      <td>Jun Abrina</td>\n",
              "      <td>actor</td>\n",
              "      <td>Mr. Jun Limcaoco</td>\n",
              "    </tr>\n",
              "    <tr>\n",
              "      <th>67.0</th>\n",
              "      <td>2014</td>\n",
              "      <td>Katrina Alcaraz</td>\n",
              "      <td>actress</td>\n",
              "      <td>Party Animal</td>\n",
              "    </tr>\n",
              "    <tr>\n",
              "      <th>#modelswanted</th>\n",
              "      <th>NaN</th>\n",
              "      <td>2016</td>\n",
              "      <td>Stephanie Almeida</td>\n",
              "      <td>actress</td>\n",
              "      <td>Friend of Vicitm</td>\n",
              "    </tr>\n",
              "    <tr>\n",
              "      <th>$40,000</th>\n",
              "      <th>34.0</th>\n",
              "      <td>1996</td>\n",
              "      <td>Michael Agbabian</td>\n",
              "      <td>actor</td>\n",
              "      <td>News Producer</td>\n",
              "    </tr>\n",
              "    <tr>\n",
              "      <th rowspan=\"2\" valign=\"top\">$5 a Day</th>\n",
              "      <th>NaN</th>\n",
              "      <td>2008</td>\n",
              "      <td>Sequoyah Adams-Rice</td>\n",
              "      <td>actor</td>\n",
              "      <td>Crying Child</td>\n",
              "    </tr>\n",
              "    <tr>\n",
              "      <th>NaN</th>\n",
              "      <td>2008</td>\n",
              "      <td>Lynda Alhussiny</td>\n",
              "      <td>actress</td>\n",
              "      <td>Pharmaceutical Representative</td>\n",
              "    </tr>\n",
              "    <tr>\n",
              "      <th>$50,000 Reward</th>\n",
              "      <th>9.0</th>\n",
              "      <td>1924</td>\n",
              "      <td>Augusta Ain</td>\n",
              "      <td>actress</td>\n",
              "      <td>Freckles</td>\n",
              "    </tr>\n",
              "    <tr>\n",
              "      <th>$50K and a Call Girl: A Love Story</th>\n",
              "      <th>4.0</th>\n",
              "      <td>2014</td>\n",
              "      <td>Lauren Aboulafia</td>\n",
              "      <td>actress</td>\n",
              "      <td>Lauren</td>\n",
              "    </tr>\n",
              "    <tr>\n",
              "      <th rowspan=\"4\" valign=\"top\">$elfie Shootout</th>\n",
              "      <th>NaN</th>\n",
              "      <td>2016</td>\n",
              "      <td>Shawn Alfaro</td>\n",
              "      <td>actor</td>\n",
              "      <td>Bar Patron #4</td>\n",
              "    </tr>\n",
              "    <tr>\n",
              "      <th>NaN</th>\n",
              "      <td>2016</td>\n",
              "      <td>Joseph Altamuro</td>\n",
              "      <td>actor</td>\n",
              "      <td>Bar Patron #3</td>\n",
              "    </tr>\n",
              "    <tr>\n",
              "      <th>NaN</th>\n",
              "      <td>2016</td>\n",
              "      <td>Morgan Altenhoff</td>\n",
              "      <td>actress</td>\n",
              "      <td>Party Goer</td>\n",
              "    </tr>\n",
              "    <tr>\n",
              "      <th>NaN</th>\n",
              "      <td>2016</td>\n",
              "      <td>Morgan Altenhoff</td>\n",
              "      <td>actress</td>\n",
              "      <td>$elfie Girl</td>\n",
              "    </tr>\n",
              "    <tr>\n",
              "      <th>$kumbagz</th>\n",
              "      <th>1.0</th>\n",
              "      <td>2015</td>\n",
              "      <td>Krystal Pixie Adams</td>\n",
              "      <td>actress</td>\n",
              "      <td>Stephanie</td>\n",
              "    </tr>\n",
              "  </tbody>\n",
              "</table>\n",
              "</div>"
            ],
            "text/plain": [
              "                                          year  ...                      character\n",
              "title                              n            ...                               \n",
              "#1 Serial Killer                   17.0   2013  ...              Detective Roberts\n",
              "#DigitalLivesMatter                NaN    2016  ...                  News Reporter\n",
              "#FromJennifer                      NaN    2017  ...                 Ralph Sinclair\n",
              "                                   NaN    2017  ...                          Simon\n",
              "#Horror                            1.0    2015  ...                        Georgie\n",
              "#Lucky Number                      31.0   2015  ...             Internet Porn Star\n",
              "#Nerealnaya lyubov                 NaN    2014  ...                    Mira Orlova\n",
              "#REALITYHIGH                       NaN    2017  ...          Freddie's Grandmother\n",
              "#Roxy                              NaN    2017  ...                     Roxy's Dad\n",
              "#Stuck                             18.0   2014  ...                           Baby\n",
              "                                   NaN    2014  ...                    Girl in Bar\n",
              "                                   NaN    2014  ...                  Street Walker\n",
              "#Y                                 4.0    2014  ...                            Lia\n",
              "                                   9.0    2014  ...                     Miles' Dad\n",
              "                                   13.0   2014  ...                    7 Yo. Miles\n",
              "                                   16.0   2014  ...                         Leslie\n",
              "                                   35.0   2014  ...                     4 Teenager\n",
              "                                   39.0   2014  ...               Mr. Jun Limcaoco\n",
              "                                   67.0   2014  ...                   Party Animal\n",
              "#modelswanted                      NaN    2016  ...               Friend of Vicitm\n",
              "$40,000                            34.0   1996  ...                  News Producer\n",
              "$5 a Day                           NaN    2008  ...                   Crying Child\n",
              "                                   NaN    2008  ...  Pharmaceutical Representative\n",
              "$50,000 Reward                     9.0    1924  ...                       Freckles\n",
              "$50K and a Call Girl: A Love Story 4.0    2014  ...                         Lauren\n",
              "$elfie Shootout                    NaN    2016  ...                  Bar Patron #4\n",
              "                                   NaN    2016  ...                  Bar Patron #3\n",
              "                                   NaN    2016  ...                     Party Goer\n",
              "                                   NaN    2016  ...                    $elfie Girl\n",
              "$kumbagz                           1.0    2015  ...                      Stephanie\n",
              "\n",
              "[30 rows x 4 columns]"
            ]
          },
          "metadata": {
            "tags": []
          },
          "execution_count": 87
        }
      ]
    },
    {
      "cell_type": "code",
      "metadata": {
        "colab": {
          "base_uri": "https://localhost:8080/",
          "height": 173
        },
        "id": "L2VH3HIFIhM-",
        "outputId": "3c3d77a8-f339-490d-c1be-eb3ce4bdc589"
      },
      "source": [
        "cm.loc['Macbeth'].loc[4:18]"
      ],
      "execution_count": null,
      "outputs": [
        {
          "output_type": "execute_result",
          "data": {
            "text/html": [
              "<div>\n",
              "<style scoped>\n",
              "    .dataframe tbody tr th:only-of-type {\n",
              "        vertical-align: middle;\n",
              "    }\n",
              "\n",
              "    .dataframe tbody tr th {\n",
              "        vertical-align: top;\n",
              "    }\n",
              "\n",
              "    .dataframe thead th {\n",
              "        text-align: right;\n",
              "    }\n",
              "</style>\n",
              "<table border=\"1\" class=\"dataframe\">\n",
              "  <thead>\n",
              "    <tr style=\"text-align: right;\">\n",
              "      <th></th>\n",
              "      <th>year</th>\n",
              "      <th>name</th>\n",
              "      <th>type</th>\n",
              "      <th>character</th>\n",
              "    </tr>\n",
              "    <tr>\n",
              "      <th>n</th>\n",
              "      <th></th>\n",
              "      <th></th>\n",
              "      <th></th>\n",
              "      <th></th>\n",
              "    </tr>\n",
              "  </thead>\n",
              "  <tbody>\n",
              "    <tr>\n",
              "      <th>4.0</th>\n",
              "      <td>1916</td>\n",
              "      <td>Spottiswoode Aitken</td>\n",
              "      <td>actor</td>\n",
              "      <td>Duncan</td>\n",
              "    </tr>\n",
              "    <tr>\n",
              "      <th>6.0</th>\n",
              "      <td>1916</td>\n",
              "      <td>Mary Alden</td>\n",
              "      <td>actress</td>\n",
              "      <td>Lady Macduff</td>\n",
              "    </tr>\n",
              "    <tr>\n",
              "      <th>18.0</th>\n",
              "      <td>1948</td>\n",
              "      <td>William Alland</td>\n",
              "      <td>actor</td>\n",
              "      <td>Second Murderer</td>\n",
              "    </tr>\n",
              "  </tbody>\n",
              "</table>\n",
              "</div>"
            ],
            "text/plain": [
              "      year                 name     type        character\n",
              "n                                                        \n",
              "4.0   1916  Spottiswoode Aitken    actor           Duncan\n",
              "6.0   1916           Mary Alden  actress     Lady Macduff\n",
              "18.0  1948       William Alland    actor  Second Murderer"
            ]
          },
          "metadata": {
            "tags": []
          },
          "execution_count": 84
        }
      ]
    },
    {
      "cell_type": "code",
      "metadata": {
        "colab": {
          "base_uri": "https://localhost:8080/"
        },
        "id": "A9dXTVPvJbEK",
        "outputId": "b5b16ad7-b2c0-4c49-b19a-60e20d915d81"
      },
      "source": [
        "cm.loc['Macbeth'].loc[4]"
      ],
      "execution_count": null,
      "outputs": [
        {
          "output_type": "execute_result",
          "data": {
            "text/plain": [
              "year                        1916\n",
              "name         Spottiswoode Aitken\n",
              "type                       actor\n",
              "character                 Duncan\n",
              "Name: 4.0, dtype: object"
            ]
          },
          "metadata": {
            "tags": []
          },
          "execution_count": 86
        }
      ]
    },
    {
      "cell_type": "markdown",
      "metadata": {
        "id": "RCoX2kaxKAIs"
      },
      "source": [
        "### Reset Index"
      ]
    },
    {
      "cell_type": "code",
      "metadata": {
        "colab": {
          "base_uri": "https://localhost:8080/",
          "height": 450
        },
        "id": "spJi3RPtJrLs",
        "outputId": "ab6e65f1-3e5a-400a-f721-18ebb79dadc2"
      },
      "source": [
        "cm = cm.reset_index('n')\n",
        "cm"
      ],
      "execution_count": null,
      "outputs": [
        {
          "output_type": "execute_result",
          "data": {
            "text/html": [
              "<div>\n",
              "<style scoped>\n",
              "    .dataframe tbody tr th:only-of-type {\n",
              "        vertical-align: middle;\n",
              "    }\n",
              "\n",
              "    .dataframe tbody tr th {\n",
              "        vertical-align: top;\n",
              "    }\n",
              "\n",
              "    .dataframe thead th {\n",
              "        text-align: right;\n",
              "    }\n",
              "</style>\n",
              "<table border=\"1\" class=\"dataframe\">\n",
              "  <thead>\n",
              "    <tr style=\"text-align: right;\">\n",
              "      <th></th>\n",
              "      <th>n</th>\n",
              "      <th>year</th>\n",
              "      <th>name</th>\n",
              "      <th>type</th>\n",
              "      <th>character</th>\n",
              "    </tr>\n",
              "    <tr>\n",
              "      <th>title</th>\n",
              "      <th></th>\n",
              "      <th></th>\n",
              "      <th></th>\n",
              "      <th></th>\n",
              "      <th></th>\n",
              "    </tr>\n",
              "  </thead>\n",
              "  <tbody>\n",
              "    <tr>\n",
              "      <th>#1 Serial Killer</th>\n",
              "      <td>17.0</td>\n",
              "      <td>2013</td>\n",
              "      <td>Michael Alton</td>\n",
              "      <td>actor</td>\n",
              "      <td>Detective Roberts</td>\n",
              "    </tr>\n",
              "    <tr>\n",
              "      <th>#DigitalLivesMatter</th>\n",
              "      <td>NaN</td>\n",
              "      <td>2016</td>\n",
              "      <td>Rashan Ali</td>\n",
              "      <td>actress</td>\n",
              "      <td>News Reporter</td>\n",
              "    </tr>\n",
              "    <tr>\n",
              "      <th>#FromJennifer</th>\n",
              "      <td>NaN</td>\n",
              "      <td>2017</td>\n",
              "      <td>Aaron Abrams</td>\n",
              "      <td>actor</td>\n",
              "      <td>Ralph Sinclair</td>\n",
              "    </tr>\n",
              "    <tr>\n",
              "      <th>#FromJennifer</th>\n",
              "      <td>NaN</td>\n",
              "      <td>2017</td>\n",
              "      <td>Christian Ackerman</td>\n",
              "      <td>actor</td>\n",
              "      <td>Simon</td>\n",
              "    </tr>\n",
              "    <tr>\n",
              "      <th>#Horror</th>\n",
              "      <td>1.0</td>\n",
              "      <td>2015</td>\n",
              "      <td>Emma Adler</td>\n",
              "      <td>actress</td>\n",
              "      <td>Georgie</td>\n",
              "    </tr>\n",
              "    <tr>\n",
              "      <th>...</th>\n",
              "      <td>...</td>\n",
              "      <td>...</td>\n",
              "      <td>...</td>\n",
              "      <td>...</td>\n",
              "      <td>...</td>\n",
              "    </tr>\n",
              "    <tr>\n",
              "      <th>w Delta z</th>\n",
              "      <td>8.0</td>\n",
              "      <td>2007</td>\n",
              "      <td>Barbara Adair</td>\n",
              "      <td>actress</td>\n",
              "      <td>Alice Jackson</td>\n",
              "    </tr>\n",
              "    <tr>\n",
              "      <th>xXx: Return of Xander Cage</th>\n",
              "      <td>34.0</td>\n",
              "      <td>2017</td>\n",
              "      <td>Wayne Ambrose</td>\n",
              "      <td>actor</td>\n",
              "      <td>Choir Members</td>\n",
              "    </tr>\n",
              "    <tr>\n",
              "      <th>xXx: Return of Xander Cage</th>\n",
              "      <td>64.0</td>\n",
              "      <td>2017</td>\n",
              "      <td>Jeimi Abila</td>\n",
              "      <td>actress</td>\n",
              "      <td>Lazarus' Girls</td>\n",
              "    </tr>\n",
              "    <tr>\n",
              "      <th>xXx: Return of Xander Cage</th>\n",
              "      <td>84.0</td>\n",
              "      <td>2017</td>\n",
              "      <td>Julie Abcede</td>\n",
              "      <td>actor</td>\n",
              "      <td>Catwalk Partiers</td>\n",
              "    </tr>\n",
              "    <tr>\n",
              "      <th>xXx: State of the Union</th>\n",
              "      <td>NaN</td>\n",
              "      <td>2005</td>\n",
              "      <td>Robert Alonzo</td>\n",
              "      <td>actor</td>\n",
              "      <td>Guard</td>\n",
              "    </tr>\n",
              "  </tbody>\n",
              "</table>\n",
              "<p>75001 rows × 5 columns</p>\n",
              "</div>"
            ],
            "text/plain": [
              "                               n  year  ...     type          character\n",
              "title                                   ...                            \n",
              "#1 Serial Killer            17.0  2013  ...    actor  Detective Roberts\n",
              "#DigitalLivesMatter          NaN  2016  ...  actress      News Reporter\n",
              "#FromJennifer                NaN  2017  ...    actor     Ralph Sinclair\n",
              "#FromJennifer                NaN  2017  ...    actor              Simon\n",
              "#Horror                      1.0  2015  ...  actress            Georgie\n",
              "...                          ...   ...  ...      ...                ...\n",
              "w Delta z                    8.0  2007  ...  actress      Alice Jackson\n",
              "xXx: Return of Xander Cage  34.0  2017  ...    actor      Choir Members\n",
              "xXx: Return of Xander Cage  64.0  2017  ...  actress     Lazarus' Girls\n",
              "xXx: Return of Xander Cage  84.0  2017  ...    actor   Catwalk Partiers\n",
              "xXx: State of the Union      NaN  2005  ...    actor              Guard\n",
              "\n",
              "[75001 rows x 5 columns]"
            ]
          },
          "metadata": {
            "tags": []
          },
          "execution_count": 88
        }
      ]
    },
    {
      "cell_type": "code",
      "metadata": {
        "id": "lSVFA_5lKMyy"
      },
      "source": [
        ""
      ],
      "execution_count": null,
      "outputs": []
    }
  ]
}